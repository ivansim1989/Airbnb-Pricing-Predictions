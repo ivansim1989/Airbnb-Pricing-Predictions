{
 "cells": [
  {
   "cell_type": "code",
   "execution_count": 1,
   "metadata": {},
   "outputs": [],
   "source": [
    "import pandas as pd\n",
    "import numpy as np\n",
    "import matplotlib.pyplot as plt\n",
    "import math\n",
    "%matplotlib inline \n",
    "plt.style.use('fivethirtyeight')\n",
    "import seaborn as sns\n",
    "from sklearn.metrics import mean_squared_error\n",
    "from math import sqrt\n",
    "from sklearn.metrics import mean_absolute_error"
   ]
  },
  {
   "cell_type": "code",
   "execution_count": 2,
   "metadata": {},
   "outputs": [
    {
     "name": "stderr",
     "output_type": "stream",
     "text": [
      "D:\\Users\\ivans\\Anaconda2\\lib\\site-packages\\IPython\\core\\interactiveshell.py:2718: DtypeWarning: Columns (43,87) have mixed types. Specify dtype option on import or set low_memory=False.\n",
      "  interactivity=interactivity, compiler=compiler, result=result)\n",
      "D:\\Users\\ivans\\Anaconda2\\lib\\site-packages\\IPython\\core\\interactiveshell.py:2718: DtypeWarning: Columns (43,87,88) have mixed types. Specify dtype option on import or set low_memory=False.\n",
      "  interactivity=interactivity, compiler=compiler, result=result)\n",
      "D:\\Users\\ivans\\Anaconda2\\lib\\site-packages\\IPython\\core\\interactiveshell.py:2718: DtypeWarning: Columns (43,88) have mixed types. Specify dtype option on import or set low_memory=False.\n",
      "  interactivity=interactivity, compiler=compiler, result=result)\n"
     ]
    }
   ],
   "source": [
    "# Read the listing datasets from all region in Australia\n",
    "listing_BR = pd.read_csv('C:/Users/ivans/Desktop/Cyberdata/Airbnb/Barossa/listings.csv', low_memory=True)\n",
    "listing_MB = pd.read_csv('C:/Users/ivans/Desktop/Cyberdata/Airbnb/Melbourne/listings.csv', low_memory=True)\n",
    "listing_NR = pd.read_csv('C:/Users/ivans/Desktop/Cyberdata/Airbnb/NorthernRivers/listings.csv', low_memory=True)\n",
    "listing_SN = pd.read_csv('C:/Users/ivans/Desktop/Cyberdata/Airbnb/Sydney/listings.csv', low_memory=True)\n",
    "listing_TM = pd.read_csv('C:/Users/ivans/Desktop/Cyberdata/Airbnb/Tasmania/listings.csv', low_memory=True)\n",
    "listing_WA = pd.read_csv('C:/Users/ivans/Desktop/Cyberdata/Airbnb/WesternAustralia/listings.csv', low_memory=True)"
   ]
  },
  {
   "cell_type": "code",
   "execution_count": 3,
   "metadata": {},
   "outputs": [],
   "source": [
    "import re"
   ]
  },
  {
   "cell_type": "code",
   "execution_count": 4,
   "metadata": {},
   "outputs": [],
   "source": [
    "#Covert the objects to numerics and None to the means of the non-null variables\n",
    "def convert_numerics_2(object):\n",
    "    numerics= object.apply(lambda x : re.sub('[^A-Za-z0-9]+', '', x))\n",
    "    without_none = numerics\n",
    "    without_none = without_none[without_none != 'None']\n",
    "    without_none = without_none.apply(lambda x : float(x))\n",
    "    numerics= numerics.apply(lambda x : without_none.mean() if x == 'None' else x)\n",
    "    numerics= numerics.apply(lambda x : float(x))\n",
    "    numerics= numerics.apply(lambda x : round((x/100), 2))\n",
    "    return numerics"
   ]
  },
  {
   "cell_type": "code",
   "execution_count": 5,
   "metadata": {},
   "outputs": [],
   "source": [
    "listing_BR.price=convert_numerics_2(listing_BR.price)\n",
    "listing_MB.price=convert_numerics_2(listing_MB.price)\n",
    "listing_NR.price=convert_numerics_2(listing_NR.price)\n",
    "listing_SN.price=convert_numerics_2(listing_SN.price)\n",
    "listing_TM.price=convert_numerics_2(listing_TM.price)\n",
    "listing_WA.price=convert_numerics_2(listing_WA.price)"
   ]
  },
  {
   "cell_type": "code",
   "execution_count": 6,
   "metadata": {},
   "outputs": [],
   "source": [
    "from ipyleaflet import Map, Heatmap, TileLayer, Marker, Circle"
   ]
  },
  {
   "cell_type": "code",
   "execution_count": 7,
   "metadata": {},
   "outputs": [
    {
     "name": "stderr",
     "output_type": "stream",
     "text": [
      "Enabling notebook extension jupyter-leaflet/extension...\n",
      "      - Validating: ok\n"
     ]
    }
   ],
   "source": [
    "!jupyter nbextension enable --py --sys-prefix ipyleaflet"
   ]
  },
  {
   "cell_type": "code",
   "execution_count": 8,
   "metadata": {},
   "outputs": [],
   "source": [
    "from ipyleaflet import (Map, DrawControl)"
   ]
  },
  {
   "cell_type": "markdown",
   "metadata": {},
   "source": [
    "### Colour for the Price Map\n",
    "- Cyan -    AUD 1  - AUD 40\n",
    "- Blue -    AUD 41 - AUD 80\n",
    "- Lime -    AUD 81 - AUD 120\n",
    "- Yellow -  AUD 121 - AUD 160\n",
    "- Red -     AUD 161 - AUD 200"
   ]
  },
  {
   "cell_type": "markdown",
   "metadata": {},
   "source": [
    "### Barossa"
   ]
  },
  {
   "cell_type": "code",
   "execution_count": 9,
   "metadata": {},
   "outputs": [
    {
     "data": {
      "application/vnd.jupyter.widget-view+json": {
       "model_id": "368c0339a05149e7aeec85ff4c749c4b",
       "version_major": 2,
       "version_minor": 0
      },
      "text/html": [
       "<p>Failed to display Jupyter Widget of type <code>Map</code>.</p>\n",
       "<p>\n",
       "  If you're reading this message in the Jupyter Notebook or JupyterLab Notebook, it may mean\n",
       "  that the widgets JavaScript is still loading. If this message persists, it\n",
       "  likely means that the widgets JavaScript library is either not installed or\n",
       "  not enabled. See the <a href=\"https://ipywidgets.readthedocs.io/en/stable/user_install.html\">Jupyter\n",
       "  Widgets Documentation</a> for setup instructions.\n",
       "</p>\n",
       "<p>\n",
       "  If you're reading this message in another frontend (for example, a static\n",
       "  rendering on GitHub or <a href=\"https://nbviewer.jupyter.org/\">NBViewer</a>),\n",
       "  it may mean that your frontend doesn't currently support widgets.\n",
       "</p>\n"
      ],
      "text/plain": [
       "Map(basemap={'url': 'https://{s}.tile.openstreetmap.org/{z}/{x}/{y}.png', 'max_zoom': 19, 'attribution': 'Map data (c) <a href=\"https://openstreetmap.org\">OpenStreetMap</a> contributors'}, center=[-34.5333, 138.95], layers=(TileLayer(base=True, max_zoom=19, min_zoom=1, options=[u'attribution', u'tile_size', u'min_zoom', u'max_zoom', u'detect_retina']), Marker(location=[-34.5333, 138.95], options=[u'rise_offset', u'title', u'z_index_offset', u'draggable', u'keyboard', u'alt', u'rise_on_hover'])), options=[u'keyboard_pan_offset', u'tap', u'attribution_control', u'max_zoom', u'min_zoom', u'bounce_at_zoom_limits', u'keyboard', u'scroll_wheel_zoom', u'dragging', u'inertia_max_speed', u'close_popup_on_click', u'zoom_control', u'box_zoom', u'double_click_zoom', u'interpolation', u'tap_tolerance', u'zoom_start', u'keyboard_zoom_offset', u'inertia_deceleration', u'inertia', u'center', u'zoom', u'world_copy_jump', u'zoom_animation_threshold', u'touch_zoom', u'basemap'], zoom=10)"
      ]
     },
     "metadata": {},
     "output_type": "display_data"
    }
   ],
   "source": [
    "m1=Map(center=[-34.5333, 138.9500], zoom=10)\n",
    "mark1 = Marker(location=m1.center)\n",
    "mark1.visible\n",
    "m1 += mark1\n",
    "m1"
   ]
  },
  {
   "cell_type": "code",
   "execution_count": 10,
   "metadata": {},
   "outputs": [
    {
     "data": {
      "application/vnd.jupyter.widget-view+json": {
       "model_id": "d667925382e84ea6bafb9ef78bc74296",
       "version_major": 2,
       "version_minor": 0
      },
      "text/html": [
       "<p>Failed to display Jupyter Widget of type <code>Box</code>.</p>\n",
       "<p>\n",
       "  If you're reading this message in the Jupyter Notebook or JupyterLab Notebook, it may mean\n",
       "  that the widgets JavaScript is still loading. If this message persists, it\n",
       "  likely means that the widgets JavaScript library is either not installed or\n",
       "  not enabled. See the <a href=\"https://ipywidgets.readthedocs.io/en/stable/user_install.html\">Jupyter\n",
       "  Widgets Documentation</a> for setup instructions.\n",
       "</p>\n",
       "<p>\n",
       "  If you're reading this message in another frontend (for example, a static\n",
       "  rendering on GitHub or <a href=\"https://nbviewer.jupyter.org/\">NBViewer</a>),\n",
       "  it may mean that your frontend doesn't currently support widgets.\n",
       "</p>\n"
      ],
      "text/plain": [
       "Box(children=(FloatSlider(value=1.0, description=u'opacity', max=1.0, step=0.01),))"
      ]
     },
     "metadata": {},
     "output_type": "display_data"
    }
   ],
   "source": [
    "mark1.interact(opacity=(0.0,1.0,0.01))"
   ]
  },
  {
   "cell_type": "code",
   "execution_count": 11,
   "metadata": {},
   "outputs": [],
   "source": [
    "for i, r in listing_BR[['latitude', 'longitude', 'price']].iterrows():\n",
    "    c = 'cyan' if r['price'] > 0 and r['price'] <= 40 else 'blue' if r['price'] > 41 and r['price'] <=80 else 'lime' if r['price'] > 81 and r['price'] <=120 else 'yellow' if r['price'] > 121 and r['price'] <=160 else 'red' if r['price'] > 161 and r['price'] <=200 else 'white'\n",
    "#     radius = int(250*math.sqrt(r['price'])/np.mean(r['price']))\n",
    "    m1.add_layer(Circle(\n",
    "        location=(r['latitude'], r['longitude']), radius=1, \n",
    "        fill_opacity=1, fill_color=c, color=c, opacity=0.5\n",
    "    ))"
   ]
  },
  {
   "cell_type": "markdown",
   "metadata": {},
   "source": [
    "### Northern Rivers"
   ]
  },
  {
   "cell_type": "code",
   "execution_count": 12,
   "metadata": {
    "scrolled": true
   },
   "outputs": [
    {
     "data": {
      "application/vnd.jupyter.widget-view+json": {
       "model_id": "ddb243898d1c4683ae10db626eeb3181",
       "version_major": 2,
       "version_minor": 0
      },
      "text/html": [
       "<p>Failed to display Jupyter Widget of type <code>Map</code>.</p>\n",
       "<p>\n",
       "  If you're reading this message in the Jupyter Notebook or JupyterLab Notebook, it may mean\n",
       "  that the widgets JavaScript is still loading. If this message persists, it\n",
       "  likely means that the widgets JavaScript library is either not installed or\n",
       "  not enabled. See the <a href=\"https://ipywidgets.readthedocs.io/en/stable/user_install.html\">Jupyter\n",
       "  Widgets Documentation</a> for setup instructions.\n",
       "</p>\n",
       "<p>\n",
       "  If you're reading this message in another frontend (for example, a static\n",
       "  rendering on GitHub or <a href=\"https://nbviewer.jupyter.org/\">NBViewer</a>),\n",
       "  it may mean that your frontend doesn't currently support widgets.\n",
       "</p>\n"
      ],
      "text/plain": [
       "Map(basemap={'url': 'https://{s}.tile.openstreetmap.org/{z}/{x}/{y}.png', 'max_zoom': 19, 'attribution': 'Map data (c) <a href=\"https://openstreetmap.org\">OpenStreetMap</a> contributors'}, center=[-29.2758, 153.0148], layers=(TileLayer(base=True, max_zoom=19, min_zoom=1, options=[u'attribution', u'tile_size', u'min_zoom', u'max_zoom', u'detect_retina']), Marker(location=[-29.2758, 153.0148], options=[u'rise_offset', u'title', u'z_index_offset', u'draggable', u'keyboard', u'alt', u'rise_on_hover'])), options=[u'keyboard_pan_offset', u'tap', u'attribution_control', u'max_zoom', u'min_zoom', u'bounce_at_zoom_limits', u'keyboard', u'scroll_wheel_zoom', u'dragging', u'inertia_max_speed', u'close_popup_on_click', u'zoom_control', u'box_zoom', u'double_click_zoom', u'interpolation', u'tap_tolerance', u'zoom_start', u'keyboard_zoom_offset', u'inertia_deceleration', u'inertia', u'center', u'zoom', u'world_copy_jump', u'zoom_animation_threshold', u'touch_zoom', u'basemap'], zoom=10)"
      ]
     },
     "metadata": {},
     "output_type": "display_data"
    }
   ],
   "source": [
    "m2=Map(center=[-29.2758, 153.0148], zoom=10)\n",
    "mark2 = Marker(location=m2.center)\n",
    "mark2.visible\n",
    "m2 += mark2\n",
    "m2"
   ]
  },
  {
   "cell_type": "code",
   "execution_count": 13,
   "metadata": {},
   "outputs": [
    {
     "data": {
      "application/vnd.jupyter.widget-view+json": {
       "model_id": "21ed360533c143f29b9a0b1524b4e0d0",
       "version_major": 2,
       "version_minor": 0
      },
      "text/html": [
       "<p>Failed to display Jupyter Widget of type <code>Box</code>.</p>\n",
       "<p>\n",
       "  If you're reading this message in the Jupyter Notebook or JupyterLab Notebook, it may mean\n",
       "  that the widgets JavaScript is still loading. If this message persists, it\n",
       "  likely means that the widgets JavaScript library is either not installed or\n",
       "  not enabled. See the <a href=\"https://ipywidgets.readthedocs.io/en/stable/user_install.html\">Jupyter\n",
       "  Widgets Documentation</a> for setup instructions.\n",
       "</p>\n",
       "<p>\n",
       "  If you're reading this message in another frontend (for example, a static\n",
       "  rendering on GitHub or <a href=\"https://nbviewer.jupyter.org/\">NBViewer</a>),\n",
       "  it may mean that your frontend doesn't currently support widgets.\n",
       "</p>\n"
      ],
      "text/plain": [
       "Box(children=(FloatSlider(value=1.0, description=u'opacity', max=1.0, step=0.01),))"
      ]
     },
     "metadata": {},
     "output_type": "display_data"
    }
   ],
   "source": [
    "mark2.interact(opacity=(0.0,1.0,0.01))"
   ]
  },
  {
   "cell_type": "code",
   "execution_count": 14,
   "metadata": {},
   "outputs": [],
   "source": [
    "for i, r in listing_NR[['latitude', 'longitude', 'price']].iterrows():\n",
    "    c = 'cyan' if r['price'] > 0 and r['price'] <= 40 else 'blue' if r['price'] > 41 and r['price'] <=80 else 'lime' if r['price'] > 81 and r['price'] <=120 else 'yellow' if r['price'] > 121 and r['price'] <=160 else 'red' if r['price'] > 161 and r['price'] <=200 else 'white'\n",
    "#     radius = int(250*math.sqrt(r['price'])/np.mean(r['price']))\n",
    "    m2.add_layer(Circle(\n",
    "        location=(r['latitude'], r['longitude']), radius=1, \n",
    "        fill_opacity=1, fill_color=c, color=c, opacity=0.5\n",
    "    ))"
   ]
  },
  {
   "cell_type": "markdown",
   "metadata": {},
   "source": [
    "### Tasmania"
   ]
  },
  {
   "cell_type": "code",
   "execution_count": 15,
   "metadata": {
    "scrolled": true
   },
   "outputs": [
    {
     "data": {
      "application/vnd.jupyter.widget-view+json": {
       "model_id": "12b251cba70d4db6b2d049124e29f647",
       "version_major": 2,
       "version_minor": 0
      },
      "text/html": [
       "<p>Failed to display Jupyter Widget of type <code>Map</code>.</p>\n",
       "<p>\n",
       "  If you're reading this message in the Jupyter Notebook or JupyterLab Notebook, it may mean\n",
       "  that the widgets JavaScript is still loading. If this message persists, it\n",
       "  likely means that the widgets JavaScript library is either not installed or\n",
       "  not enabled. See the <a href=\"https://ipywidgets.readthedocs.io/en/stable/user_install.html\">Jupyter\n",
       "  Widgets Documentation</a> for setup instructions.\n",
       "</p>\n",
       "<p>\n",
       "  If you're reading this message in another frontend (for example, a static\n",
       "  rendering on GitHub or <a href=\"https://nbviewer.jupyter.org/\">NBViewer</a>),\n",
       "  it may mean that your frontend doesn't currently support widgets.\n",
       "</p>\n"
      ],
      "text/plain": [
       "Map(basemap={'url': 'https://{s}.tile.openstreetmap.org/{z}/{x}/{y}.png', 'max_zoom': 19, 'attribution': 'Map data (c) <a href=\"https://openstreetmap.org\">OpenStreetMap</a> contributors'}, center=[-41.4545, 145.9707], layers=(TileLayer(base=True, max_zoom=19, min_zoom=1, options=[u'attribution', u'tile_size', u'min_zoom', u'max_zoom', u'detect_retina']), Marker(location=[-41.4545, 145.9707], options=[u'rise_offset', u'title', u'z_index_offset', u'draggable', u'keyboard', u'alt', u'rise_on_hover'])), options=[u'keyboard_pan_offset', u'tap', u'attribution_control', u'max_zoom', u'min_zoom', u'bounce_at_zoom_limits', u'keyboard', u'scroll_wheel_zoom', u'dragging', u'inertia_max_speed', u'close_popup_on_click', u'zoom_control', u'box_zoom', u'double_click_zoom', u'interpolation', u'tap_tolerance', u'zoom_start', u'keyboard_zoom_offset', u'inertia_deceleration', u'inertia', u'center', u'zoom', u'world_copy_jump', u'zoom_animation_threshold', u'touch_zoom', u'basemap'], zoom=10)"
      ]
     },
     "metadata": {},
     "output_type": "display_data"
    }
   ],
   "source": [
    "m3=Map(center=[-41.4545, 145.9707], zoom=10)\n",
    "mark3 = Marker(location=m3.center)\n",
    "mark3.visible\n",
    "m3 += mark3\n",
    "m3"
   ]
  },
  {
   "cell_type": "code",
   "execution_count": 16,
   "metadata": {},
   "outputs": [
    {
     "data": {
      "application/vnd.jupyter.widget-view+json": {
       "model_id": "9be2ba7d0a68467eaae1958892d45e2d",
       "version_major": 2,
       "version_minor": 0
      },
      "text/html": [
       "<p>Failed to display Jupyter Widget of type <code>Box</code>.</p>\n",
       "<p>\n",
       "  If you're reading this message in the Jupyter Notebook or JupyterLab Notebook, it may mean\n",
       "  that the widgets JavaScript is still loading. If this message persists, it\n",
       "  likely means that the widgets JavaScript library is either not installed or\n",
       "  not enabled. See the <a href=\"https://ipywidgets.readthedocs.io/en/stable/user_install.html\">Jupyter\n",
       "  Widgets Documentation</a> for setup instructions.\n",
       "</p>\n",
       "<p>\n",
       "  If you're reading this message in another frontend (for example, a static\n",
       "  rendering on GitHub or <a href=\"https://nbviewer.jupyter.org/\">NBViewer</a>),\n",
       "  it may mean that your frontend doesn't currently support widgets.\n",
       "</p>\n"
      ],
      "text/plain": [
       "Box(children=(FloatSlider(value=1.0, description=u'opacity', max=1.0, step=0.01),))"
      ]
     },
     "metadata": {},
     "output_type": "display_data"
    }
   ],
   "source": [
    "mark3.interact(opacity=(0.0,1.0,0.01))"
   ]
  },
  {
   "cell_type": "code",
   "execution_count": 17,
   "metadata": {},
   "outputs": [],
   "source": [
    "for i, r in listing_TM[['latitude', 'longitude', 'price']].iterrows():\n",
    "    c = 'cyan' if r['price'] > 0 and r['price'] <= 40 else 'blue' if r['price'] > 41 and r['price'] <=80 else 'lime' if r['price'] > 81 and r['price'] <=120 else 'yellow' if r['price'] > 121 and r['price'] <=160 else 'red' if r['price'] > 161 and r['price'] <=200 else 'white'\n",
    "#     radius = int(250*math.sqrt(r['price'])/np.mean(r['price']))\n",
    "    m3.add_layer(Circle(\n",
    "        location=(r['latitude'], r['longitude']), radius=1, \n",
    "        fill_opacity=1, fill_color=c, color=c, opacity=0.5\n",
    "    ))"
   ]
  },
  {
   "cell_type": "markdown",
   "metadata": {},
   "source": [
    "### Western Australia"
   ]
  },
  {
   "cell_type": "code",
   "execution_count": 18,
   "metadata": {},
   "outputs": [
    {
     "data": {
      "application/vnd.jupyter.widget-view+json": {
       "model_id": "993f4174f7a94517abb7d0d824c627be",
       "version_major": 2,
       "version_minor": 0
      },
      "text/html": [
       "<p>Failed to display Jupyter Widget of type <code>Map</code>.</p>\n",
       "<p>\n",
       "  If you're reading this message in the Jupyter Notebook or JupyterLab Notebook, it may mean\n",
       "  that the widgets JavaScript is still loading. If this message persists, it\n",
       "  likely means that the widgets JavaScript library is either not installed or\n",
       "  not enabled. See the <a href=\"https://ipywidgets.readthedocs.io/en/stable/user_install.html\">Jupyter\n",
       "  Widgets Documentation</a> for setup instructions.\n",
       "</p>\n",
       "<p>\n",
       "  If you're reading this message in another frontend (for example, a static\n",
       "  rendering on GitHub or <a href=\"https://nbviewer.jupyter.org/\">NBViewer</a>),\n",
       "  it may mean that your frontend doesn't currently support widgets.\n",
       "</p>\n"
      ],
      "text/plain": [
       "Map(basemap={'url': 'https://{s}.tile.openstreetmap.org/{z}/{x}/{y}.png', 'max_zoom': 19, 'attribution': 'Map data (c) <a href=\"https://openstreetmap.org\">OpenStreetMap</a> contributors'}, center=[-31.9505, 115.8605], layers=(TileLayer(base=True, max_zoom=19, min_zoom=1, options=[u'attribution', u'tile_size', u'min_zoom', u'max_zoom', u'detect_retina']), Marker(location=[-31.9505, 115.8605], options=[u'rise_offset', u'title', u'z_index_offset', u'draggable', u'keyboard', u'alt', u'rise_on_hover'])), options=[u'keyboard_pan_offset', u'tap', u'attribution_control', u'max_zoom', u'min_zoom', u'bounce_at_zoom_limits', u'keyboard', u'scroll_wheel_zoom', u'dragging', u'inertia_max_speed', u'close_popup_on_click', u'zoom_control', u'box_zoom', u'double_click_zoom', u'interpolation', u'tap_tolerance', u'zoom_start', u'keyboard_zoom_offset', u'inertia_deceleration', u'inertia', u'center', u'zoom', u'world_copy_jump', u'zoom_animation_threshold', u'touch_zoom', u'basemap'], zoom=10)"
      ]
     },
     "metadata": {},
     "output_type": "display_data"
    }
   ],
   "source": [
    "m4=Map(center=[-31.9505, 115.8605], zoom=10)\n",
    "mark4 = Marker(location=m4.center)\n",
    "mark4.visible\n",
    "m4 += mark4\n",
    "m4"
   ]
  },
  {
   "cell_type": "code",
   "execution_count": null,
   "metadata": {},
   "outputs": [
    {
     "data": {
      "application/vnd.jupyter.widget-view+json": {
       "model_id": "f8a9c0ac357547eba6878b14e5dc57cb",
       "version_major": 2,
       "version_minor": 0
      },
      "text/html": [
       "<p>Failed to display Jupyter Widget of type <code>Box</code>.</p>\n",
       "<p>\n",
       "  If you're reading this message in the Jupyter Notebook or JupyterLab Notebook, it may mean\n",
       "  that the widgets JavaScript is still loading. If this message persists, it\n",
       "  likely means that the widgets JavaScript library is either not installed or\n",
       "  not enabled. See the <a href=\"https://ipywidgets.readthedocs.io/en/stable/user_install.html\">Jupyter\n",
       "  Widgets Documentation</a> for setup instructions.\n",
       "</p>\n",
       "<p>\n",
       "  If you're reading this message in another frontend (for example, a static\n",
       "  rendering on GitHub or <a href=\"https://nbviewer.jupyter.org/\">NBViewer</a>),\n",
       "  it may mean that your frontend doesn't currently support widgets.\n",
       "</p>\n"
      ],
      "text/plain": [
       "Box(children=(FloatSlider(value=1.0, description=u'opacity', max=1.0, step=0.01),))"
      ]
     },
     "metadata": {},
     "output_type": "display_data"
    }
   ],
   "source": [
    "mark4.interact(opacity=(0.0,1.0,0.01))"
   ]
  },
  {
   "cell_type": "code",
   "execution_count": null,
   "metadata": {},
   "outputs": [],
   "source": [
    "for i, r in listing_WA[['latitude', 'longitude', 'price']].iterrows():\n",
    "    c = 'cyan' if r['price'] > 0 and r['price'] <= 40 else 'blue' if r['price'] > 41 and r['price'] <=80 else 'lime' if r['price'] > 81 and r['price'] <=120 else 'yellow' if r['price'] > 121 and r['price'] <=160 else 'red' if r['price'] > 161 and r['price'] <=200 else 'white'\n",
    "#     radius = int(250*math.sqrt(r['price'])/np.mean(r['price']))\n",
    "    m4.add_layer(Circle(\n",
    "        location=(r['latitude'], r['longitude']), radius=1, \n",
    "        fill_opacity=1, fill_color=c, color=c, opacity=0.5\n",
    "    ))"
   ]
  },
  {
   "cell_type": "markdown",
   "metadata": {},
   "source": [
    "### Melbourne"
   ]
  },
  {
   "cell_type": "code",
   "execution_count": null,
   "metadata": {
    "scrolled": true
   },
   "outputs": [],
   "source": [
    "m5=Map(center=[-37.8136, 144.9631], zoom=10)\n",
    "mark5 = Marker(location=m5.center)\n",
    "mark5.visible\n",
    "m5 += mark5\n",
    "m5"
   ]
  },
  {
   "cell_type": "code",
   "execution_count": null,
   "metadata": {},
   "outputs": [],
   "source": [
    "mark5.interact(opacity=(0.0,1.0,0.01))"
   ]
  },
  {
   "cell_type": "code",
   "execution_count": null,
   "metadata": {},
   "outputs": [],
   "source": [
    "for i, r in listing_MB[['latitude', 'longitude', 'price']].iterrows():\n",
    "    c = 'cyan' if r['price'] > 0 and r['price'] <= 40 else 'blue' if r['price'] > 41 and r['price'] <=80 else 'lime' if r['price'] > 81 and r['price'] <=120 else 'yellow' if r['price'] > 121 and r['price'] <=160 else 'red' if r['price'] > 161 and r['price'] <=200 else 'white'\n",
    "#     radius = int(250*math.sqrt(r['price'])/np.mean(r['price']))\n",
    "    m5.add_layer(Circle(\n",
    "        location=(r['latitude'], r['longitude']), radius=1, \n",
    "        fill_opacity=1, fill_color=c, color=c, opacity=0.5\n",
    "    ))"
   ]
  },
  {
   "cell_type": "markdown",
   "metadata": {},
   "source": [
    "### Sydney"
   ]
  },
  {
   "cell_type": "code",
   "execution_count": null,
   "metadata": {
    "scrolled": true
   },
   "outputs": [],
   "source": [
    "m6=Map(center=[-33.8688, 151.2093], zoom=10)\n",
    "mark6 = Marker(location=m6.center)\n",
    "mark6.visible\n",
    "m6 += mark6\n",
    "m6"
   ]
  },
  {
   "cell_type": "code",
   "execution_count": null,
   "metadata": {},
   "outputs": [],
   "source": [
    "mark6.interact(opacity=(0.0,1.0,0.01))"
   ]
  },
  {
   "cell_type": "code",
   "execution_count": null,
   "metadata": {},
   "outputs": [],
   "source": [
    "for i, r in listing_SN[['latitude', 'longitude', 'price']].iterrows():\n",
    "    c = 'cyan' if r['price'] > 0 and r['price'] <= 40 else 'blue' if r['price'] > 41 and r['price'] <=80 else 'lime' if r['price'] > 81 and r['price'] <=120 else 'yellow' if r['price'] > 121 and r['price'] <=160 else 'red' if r['price'] > 161 and r['price'] <=200 else 'white'\n",
    "#     radius = int(250*math.sqrt(r['price'])/np.mean(r['price']))\n",
    "    m6.add_layer(Circle(\n",
    "        location=(r['latitude'], r['longitude']), radius=1, \n",
    "        fill_opacity=1, fill_color=c, color=c, opacity=0.5\n",
    "    ))"
   ]
  },
  {
   "cell_type": "markdown",
   "metadata": {},
   "source": [
    "## Rooms"
   ]
  },
  {
   "cell_type": "markdown",
   "metadata": {},
   "source": [
    "### Barossa"
   ]
  },
  {
   "cell_type": "code",
   "execution_count": null,
   "metadata": {},
   "outputs": [],
   "source": [
    "m13=Map(center=[-34.5333, 138.9500], zoom=10)\n",
    "mark13 = Marker(location=m13.center)\n",
    "mark13.visible\n",
    "m13 += mark13\n",
    "m13"
   ]
  },
  {
   "cell_type": "code",
   "execution_count": null,
   "metadata": {},
   "outputs": [],
   "source": [
    "for i, r in listing_BR[['latitude', 'longitude', 'price', 'bedrooms']].iterrows():\n",
    "    c = 'cyan' if (r['price']/r['bedrooms']) > 0 and (r['price']/r['bedrooms']) <= 40 else 'blue' if (r['price']/r['bedrooms']) > 41 and (r['price']/r['bedrooms']) <=80 else 'lime' if (r['price']/r['bedrooms']) > 81 and (r['price']/r['bedrooms']) <=120 else 'yellow' if (r['price']/r['bedrooms']) > 121 and (r['price']/r['bedrooms']) <=160 else 'red' if (r['price']/r['bedrooms']) > 161 and (r['price']/r['bedrooms']) <=200 else 'white'\n",
    "#     radius = int(250*math.sqrt(r['price'])/np.mean(r['price']))\n",
    "    m13.add_layer(Circle(\n",
    "        location=(r['latitude'], r['longitude']), radius=1, \n",
    "        fill_opacity=1, fill_color=c, color=c, opacity=0.5\n",
    "    ))"
   ]
  },
  {
   "cell_type": "markdown",
   "metadata": {},
   "source": [
    "### Northern Rivers"
   ]
  },
  {
   "cell_type": "code",
   "execution_count": null,
   "metadata": {
    "scrolled": true
   },
   "outputs": [],
   "source": [
    "m14=Map(center=[-29.2758, 153.0148], zoom=10)\n",
    "mark14 = Marker(location=m14.center)\n",
    "mark14.visible\n",
    "m14 += mark14\n",
    "m14"
   ]
  },
  {
   "cell_type": "code",
   "execution_count": null,
   "metadata": {},
   "outputs": [],
   "source": [
    "for i, r in listing_NR[['latitude', 'longitude', 'price', 'bedrooms']].iterrows():\n",
    "    c = 'cyan' if (r['price']/r['bedrooms']) > 0 and (r['price']/r['bedrooms']) <= 40 else 'blue' if (r['price']/r['bedrooms']) > 41 and (r['price']/r['bedrooms']) <=80 else 'lime' if (r['price']/r['bedrooms']) > 81 and (r['price']/r['bedrooms']) <=120 else 'yellow' if (r['price']/r['bedrooms']) > 121 and (r['price']/r['bedrooms']) <=160 else 'red' if (r['price']/r['bedrooms']) > 161 and (r['price']/r['bedrooms']) <=200 else 'white'\n",
    "#     radius = int(250*math.sqrt(r['price'])/np.mean(r['price']))\n",
    "    m14.add_layer(Circle(\n",
    "        location=(r['latitude'], r['longitude']), radius=1, \n",
    "        fill_opacity=1, fill_color=c, color=c, opacity=0.5\n",
    "    ))"
   ]
  },
  {
   "cell_type": "markdown",
   "metadata": {},
   "source": [
    "### Tasmania"
   ]
  },
  {
   "cell_type": "code",
   "execution_count": null,
   "metadata": {
    "scrolled": true
   },
   "outputs": [],
   "source": [
    "m15=Map(center=[-41.4545, 145.9707], zoom=10)\n",
    "mark15 = Marker(location=m15.center)\n",
    "mark15.visible\n",
    "m15 += mark15\n",
    "m15"
   ]
  },
  {
   "cell_type": "code",
   "execution_count": null,
   "metadata": {},
   "outputs": [],
   "source": [
    "for i, r in listing_TM[['latitude', 'longitude', 'price', 'bedrooms']].iterrows():\n",
    "    c = 'cyan' if (r['price']/r['bedrooms']) > 0 and (r['price']/r['bedrooms']) <= 40 else 'blue' if (r['price']/r['bedrooms']) > 41 and (r['price']/r['bedrooms']) <=80 else 'lime' if (r['price']/r['bedrooms']) > 81 and (r['price']/r['bedrooms']) <=120 else 'yellow' if (r['price']/r['bedrooms']) > 121 and (r['price']/r['bedrooms']) <=160 else 'red' if (r['price']/r['bedrooms']) > 161 and (r['price']/r['bedrooms']) <=200 else 'white'\n",
    "#     radius = int(250*math.sqrt(r['price'])/np.mean(r['price']))\n",
    "    m15.add_layer(Circle(\n",
    "        location=(r['latitude'], r['longitude']), radius=1, \n",
    "        fill_opacity=1, fill_color=c, color=c, opacity=0.5\n",
    "    ))"
   ]
  },
  {
   "cell_type": "markdown",
   "metadata": {},
   "source": [
    "### Western Australia"
   ]
  },
  {
   "cell_type": "code",
   "execution_count": null,
   "metadata": {},
   "outputs": [],
   "source": [
    "m16=Map(center=[-31.9505, 115.8605], zoom=10)\n",
    "mark16 = Marker(location=m16.center)\n",
    "mark16.visible\n",
    "m16 += mark16\n",
    "m16"
   ]
  },
  {
   "cell_type": "code",
   "execution_count": null,
   "metadata": {},
   "outputs": [],
   "source": [
    "for i, r in listing_WA[['latitude', 'longitude', 'price', 'bedrooms']].iterrows():\n",
    "    c = 'cyan' if (r['price']/r['bedrooms']) > 0 and (r['price']/r['bedrooms']) <= 40 else 'blue' if (r['price']/r['bedrooms']) > 41 and (r['price']/r['bedrooms']) <=80 else 'lime' if (r['price']/r['bedrooms']) > 81 and (r['price']/r['bedrooms']) <=120 else 'yellow' if (r['price']/r['bedrooms']) > 121 and (r['price']/r['bedrooms']) <=160 else 'red' if (r['price']/r['bedrooms']) > 161 and (r['price']/r['bedrooms']) <=200 else 'white'\n",
    "#     radius = int(250*math.sqrt(r['price'])/np.mean(r['price']))\n",
    "    m16.add_layer(Circle(\n",
    "        location=(r['latitude'], r['longitude']), radius=1, \n",
    "        fill_opacity=1, fill_color=c, color=c, opacity=0.5\n",
    "    ))"
   ]
  },
  {
   "cell_type": "markdown",
   "metadata": {},
   "source": [
    "### Melbourne"
   ]
  },
  {
   "cell_type": "code",
   "execution_count": null,
   "metadata": {},
   "outputs": [],
   "source": [
    "m17=Map(center=[-37.8136, 144.9631], zoom=10)\n",
    "mark17 = Marker(location=m17.center)\n",
    "mark17.visible\n",
    "m17 += mark17\n",
    "m17"
   ]
  },
  {
   "cell_type": "code",
   "execution_count": null,
   "metadata": {},
   "outputs": [],
   "source": [
    "for i, r in listing_MB[['latitude', 'longitude', 'price', 'bedrooms']].iterrows():\n",
    "    c = 'cyan' if (r['price']/r['bedrooms']) > 0 and (r['price']/r['bedrooms']) <= 40 else 'blue' if (r['price']/r['bedrooms']) > 41 and (r['price']/r['bedrooms']) <=80 else 'lime' if (r['price']/r['bedrooms']) > 81 and (r['price']/r['bedrooms']) <=120 else 'yellow' if (r['price']/r['bedrooms']) > 121 and (r['price']/r['bedrooms']) <=160 else 'red' if (r['price']/r['bedrooms']) > 161 and (r['price']/r['bedrooms']) <=200 else 'white'\n",
    "#     radius = int(250*math.sqrt(r['price'])/np.mean(r['price']))\n",
    "    m17.add_layer(Circle(\n",
    "        location=(r['latitude'], r['longitude']), radius=1, \n",
    "        fill_opacity=1, fill_color=c, color=c, opacity=0.5\n",
    "    ))"
   ]
  },
  {
   "cell_type": "markdown",
   "metadata": {},
   "source": [
    "### Sydney"
   ]
  },
  {
   "cell_type": "code",
   "execution_count": null,
   "metadata": {
    "scrolled": true
   },
   "outputs": [],
   "source": [
    "m18=Map(center=[-33.8688, 151.2093], zoom=10)\n",
    "mark18 = Marker(location=m18.center)\n",
    "mark18.visible\n",
    "m18 += mark18\n",
    "m18"
   ]
  },
  {
   "cell_type": "code",
   "execution_count": null,
   "metadata": {},
   "outputs": [],
   "source": [
    "for i, r in listing_SN[['latitude', 'longitude', 'price', 'bedrooms']].iterrows():\n",
    "    c = 'cyan' if (r['price']/r['bedrooms']) > 0 and (r['price']/r['bedrooms']) <= 40 else 'blue' if (r['price']/r['bedrooms']) > 41 and (r['price']/r['bedrooms']) <=80 else 'lime' if (r['price']/r['bedrooms']) > 81 and (r['price']/r['bedrooms']) <=120 else 'yellow' if (r['price']/r['bedrooms']) > 121 and (r['price']/r['bedrooms']) <=160 else 'red' if (r['price']/r['bedrooms']) > 161 and (r['price']/r['bedrooms']) <=200 else 'white'\n",
    "#     radius = int(250*math.sqrt(r['price'])/np.mean(r['price']))\n",
    "    m18.add_layer(Circle(\n",
    "        location=(r['latitude'], r['longitude']), radius=1, \n",
    "        fill_opacity=1, fill_color=c, color=c, opacity=0.5\n",
    "    ))"
   ]
  },
  {
   "cell_type": "markdown",
   "metadata": {},
   "source": [
    "## Accomodates"
   ]
  },
  {
   "cell_type": "code",
   "execution_count": null,
   "metadata": {
    "scrolled": true
   },
   "outputs": [],
   "source": [
    "m7=Map(center=[-34.5333, 138.9500], zoom=10)\n",
    "mark7 = Marker(location=m7.center)\n",
    "mark7.visible\n",
    "m7 += mark7\n",
    "m7"
   ]
  },
  {
   "cell_type": "code",
   "execution_count": null,
   "metadata": {},
   "outputs": [],
   "source": [
    "for i, r in listing_BR[['latitude', 'longitude', 'price', 'accommodates']].iterrows():\n",
    "    c = 'cyan' if (r['price']/r['accommodates']) > 0 and (r['price']/r['accommodates']) <= 40 else 'blue' if (r['price']/r['accommodates']) > 41 and (r['price']/r['accommodates']) <=80 else 'lime' if (r['price']/r['accommodates']) > 81 and (r['price']/r['accommodates']) <=120 else 'yellow' if (r['price']/r['accommodates']) > 121 and (r['price']/r['accommodates']) <=160 else 'red' if (r['price']/r['accommodates']) > 161 and (r['price']/r['accommodates']) <=200 else 'white'\n",
    "#     radius = int(250*math.sqrt(r['price'])/np.mean(r['price']))\n",
    "    m7.add_layer(Circle(\n",
    "        location=(r['latitude'], r['longitude']), radius=1, \n",
    "        fill_opacity=1, fill_color=c, color=c, opacity=0.5\n",
    "    ))"
   ]
  },
  {
   "cell_type": "code",
   "execution_count": null,
   "metadata": {
    "scrolled": true
   },
   "outputs": [],
   "source": [
    "m8=Map(center=[-29.2758, 153.0148], zoom=10)\n",
    "mark8 = Marker(location=m8.center)\n",
    "mark8.visible\n",
    "m8 += mark8\n",
    "m8"
   ]
  },
  {
   "cell_type": "code",
   "execution_count": null,
   "metadata": {},
   "outputs": [],
   "source": [
    "for i, r in listing_NR[['latitude', 'longitude', 'price', 'accommodates']].iterrows():\n",
    "    c = 'cyan' if (r['price']/r['accommodates']) > 0 and (r['price']/r['accommodates']) <= 40 else 'blue' if (r['price']/r['accommodates']) > 41 and (r['price']/r['accommodates']) <=80 else 'lime' if (r['price']/r['accommodates']) > 81 and (r['price']/r['accommodates']) <=120 else 'yellow' if (r['price']/r['accommodates']) > 121 and (r['price']/r['accommodates']) <=160 else 'red' if (r['price']/r['accommodates']) > 161 and (r['price']/r['accommodates']) <=200 else 'white'\n",
    "#     radius = int(250*math.sqrt(r['price'])/np.mean(r['price']))\n",
    "    m8.add_layer(Circle(\n",
    "        location=(r['latitude'], r['longitude']), radius=1, \n",
    "        fill_opacity=1, fill_color=c, color=c, opacity=0.5\n",
    "    ))"
   ]
  },
  {
   "cell_type": "code",
   "execution_count": null,
   "metadata": {
    "scrolled": true
   },
   "outputs": [],
   "source": [
    "m9=Map(center=[-41.4545, 145.9707], zoom=10)\n",
    "mark9 = Marker(location=m9.center)\n",
    "mark9.visible\n",
    "m9 += mark9\n",
    "m9"
   ]
  },
  {
   "cell_type": "code",
   "execution_count": null,
   "metadata": {},
   "outputs": [],
   "source": [
    "for i, r in listing_TM[['latitude', 'longitude', 'price', 'accommodates']].iterrows():\n",
    "    c = 'cyan' if (r['price']/r['accommodates']) > 0 and (r['price']/r['accommodates']) <= 40 else 'blue' if (r['price']/r['accommodates']) > 41 and (r['price']/r['accommodates']) <=80 else 'lime' if (r['price']/r['accommodates']) > 81 and (r['price']/r['accommodates']) <=120 else 'yellow' if (r['price']/r['accommodates']) > 121 and (r['price']/r['accommodates']) <=160 else 'red' if (r['price']/r['accommodates']) > 161 and (r['price']/r['accommodates']) <=200 else 'white'\n",
    "#     radius = int(250*math.sqrt(r['price'])/np.mean(r['price']))\n",
    "    m9.add_layer(Circle(\n",
    "        location=(r['latitude'], r['longitude']), radius=1, \n",
    "        fill_opacity=1, fill_color=c, color=c, opacity=0.5\n",
    "    ))"
   ]
  },
  {
   "cell_type": "code",
   "execution_count": null,
   "metadata": {
    "scrolled": true
   },
   "outputs": [],
   "source": [
    "m10=Map(center=[-31.9505, 115.8605], zoom=10)\n",
    "mark10 = Marker(location=m10.center)\n",
    "mark10.visible\n",
    "m10 += mark10\n",
    "m10"
   ]
  },
  {
   "cell_type": "code",
   "execution_count": null,
   "metadata": {},
   "outputs": [],
   "source": [
    "for i, r in listing_WA[['latitude', 'longitude', 'price', 'accommodates']].iterrows():\n",
    "    c = 'cyan' if (r['price']/r['accommodates']) > 0 and (r['price']/r['accommodates']) <= 40 else 'blue' if (r['price']/r['accommodates']) > 41 and (r['price']/r['accommodates']) <=80 else 'lime' if (r['price']/r['accommodates']) > 81 and (r['price']/r['accommodates']) <=120 else 'yellow' if (r['price']/r['accommodates']) > 121 and (r['price']/r['accommodates']) <=160 else 'red' if (r['price']/r['accommodates']) > 161 and (r['price']/r['accommodates']) <=200 else 'white'\n",
    "#     radius = int(250*math.sqrt(r['price'])/np.mean(r['price']))\n",
    "    m10.add_layer(Circle(\n",
    "        location=(r['latitude'], r['longitude']), radius=1, \n",
    "        fill_opacity=1, fill_color=c, color=c, opacity=0.5\n",
    "    ))"
   ]
  },
  {
   "cell_type": "code",
   "execution_count": null,
   "metadata": {
    "scrolled": true
   },
   "outputs": [],
   "source": [
    "m11=Map(center=[-37.8136, 144.9631], zoom=10)\n",
    "mark11 = Marker(location=m11.center)\n",
    "mark11.visible\n",
    "m11 += mark11\n",
    "m11"
   ]
  },
  {
   "cell_type": "code",
   "execution_count": null,
   "metadata": {},
   "outputs": [],
   "source": [
    "for i, r in listing_MB[['latitude', 'longitude', 'price', 'accommodates']].iterrows():\n",
    "    c = 'cyan' if (r['price']/r['accommodates']) > 0 and (r['price']/r['accommodates']) <= 40 else 'blue' if (r['price']/r['accommodates']) > 41 and (r['price']/r['accommodates']) <=80 else 'lime' if (r['price']/r['accommodates']) > 81 and (r['price']/r['accommodates']) <=120 else 'yellow' if (r['price']/r['accommodates']) > 121 and (r['price']/r['accommodates']) <=160 else 'red' if (r['price']/r['accommodates']) > 161 and (r['price']/r['accommodates']) <=200 else 'white'\n",
    "#     radius = int(250*math.sqrt(r['price'])/np.mean(r['price']))\n",
    "    m11.add_layer(Circle(\n",
    "        location=(r['latitude'], r['longitude']), radius=1, \n",
    "        fill_opacity=1, fill_color=c, color=c, opacity=0.5\n",
    "    ))"
   ]
  },
  {
   "cell_type": "code",
   "execution_count": null,
   "metadata": {
    "scrolled": true
   },
   "outputs": [],
   "source": [
    "m12=Map(center=[-33.8688, 151.2093], zoom=10)\n",
    "mark12 = Marker(location=m12.center)\n",
    "mark12.visible\n",
    "m12 += mark12\n",
    "m12"
   ]
  },
  {
   "cell_type": "code",
   "execution_count": null,
   "metadata": {},
   "outputs": [],
   "source": [
    "for i, r in listing_SN[['latitude', 'longitude', 'price', 'accommodates']].iterrows():\n",
    "    c = 'cyan' if (r['price']/r['accommodates']) > 0 and (r['price']/r['accommodates']) <= 40 else 'blue' if (r['price']/r['accommodates']) > 41 and (r['price']/r['accommodates']) <=80 else 'lime' if (r['price']/r['accommodates']) > 81 and (r['price']/r['accommodates']) <=120 else 'yellow' if (r['price']/r['accommodates']) > 121 and (r['price']/r['accommodates']) <=160 else 'red' if (r['price']/r['accommodates']) > 161 and (r['price']/r['accommodates']) <=200 else 'white'\n",
    "#     radius = int(250*math.sqrt(r['price'])/np.mean(r['price']))\n",
    "    m12.add_layer(Circle(\n",
    "        location=(r['latitude'], r['longitude']), radius=1, \n",
    "        fill_opacity=1, fill_color=c, color=c, opacity=0.5\n",
    "    ))"
   ]
  },
  {
   "cell_type": "code",
   "execution_count": null,
   "metadata": {},
   "outputs": [],
   "source": [
    "import matplotlib\n",
    "\n",
    "from matplotlib import pyplot as plt\n",
    "from matplotlib import ticker\n",
    "from matplotlib import patches\n",
    "\n",
    "from matplotlib.lines import Line2D\n",
    "\n",
    "import numpy as np\n",
    "\n",
    "from numpy import random\n",
    "\n",
    "import pandas as pd"
   ]
  },
  {
   "cell_type": "code",
   "execution_count": null,
   "metadata": {},
   "outputs": [],
   "source": [
    "df_listing_final=pd.read_csv('C:/Users/ivans/Desktop/Cyberdata/New folder/df_listing_final.csv')\n",
    "df_listing_final.drop('Unnamed: 0', inplace=True, axis=1)\n",
    "df_listing_final.head()"
   ]
  },
  {
   "cell_type": "code",
   "execution_count": null,
   "metadata": {},
   "outputs": [],
   "source": [
    "# First, we read the image and convert it into a numpy 2D array where each element represents a pixel...\n",
    "\n",
    "# image_formats = [('PNG','*.png')]\n",
    "# file_path_list = askopenfilenames(filetypes=image_formats, initialdir='/', title='Please select a picture to analyze')\n",
    "# for file_path in file_path_list:\n",
    "map_file = 'australia_map_states.png'\n",
    "map_image = plt.imread(map_file)\n",
    "\n",
    "# ...create a figure with an attached axes object for later plotting...\n",
    "\n",
    "fig, ax = plt.subplots(figsize = (15, 5))\n",
    "\n",
    "long_right = 157.5\n",
    "long_left = 112\n",
    "lat_top = -10.4\n",
    "lat_bottom = -43\n",
    "\n",
    "# ...and display the image on the axes. (the image is kinda pixelated, so maybe you can replace it with a better one)\n",
    "\n",
    "ax.imshow(map_image, extent = (long_left, long_right, lat_bottom, lat_top))\n",
    "\n",
    "# This is not bad, but the axis labels are wrong. Ideally, they should reflect the actual latitude/longitude. Let's change \n",
    "# that. (I got the latitude/longitude bounds by guesstimation, so they might be wrong. By doing this, you can directly plot\n",
    "# a marker for each flat, as represented by a latitude/longitude pair.)\n",
    "\n",
    "ax.axis(xmin = long_left, xmax = long_right, ymin = lat_bottom, ymax = lat_top)\n",
    "\n",
    "# Better, but the axis labels still look weird. We should format them. (you can change the number of decimal places if you\n",
    "# think 4 isn't enough)\n",
    "\n",
    "formatter = ticker.FuncFormatter(lambda x, pos: '{:.4f}'.format(x))\n",
    "\n",
    "ax.xaxis.set_major_formatter(formatter)\n",
    "ax.yaxis.set_major_formatter(formatter)\n",
    "\n",
    "# A grid would be nice.\n",
    "\n",
    "ax.grid(True, color = 'black')\n",
    "\n",
    "# This looks more or less like a map now. You can plot whatever you want on it, but make sure to pass the axes object to \n",
    "# the plot function.\n",
    "\n",
    "# Example, with random data:\n",
    "\n",
    "# set (rough) boundaries for the island so there aren't too many things in the water\n",
    "\n",
    "island_right = 157.5\n",
    "island_left = 112\n",
    "island_top = -10.4\n",
    "island_bottom = -40\n",
    "\n",
    "# simple helper function to return a point between four corners\n",
    "\n",
    "def randomPoint(right, left, top, bottom):\n",
    "    return (random.random() * (right - left) + left, random.random() * (top - bottom) + bottom)\n",
    "\n",
    "\n",
    "data = df_listing_final[['longitude', 'latitude', 'price']]\n",
    "# and plot!\n",
    "\n",
    "this_scatter = ax.scatter('longitude', 'latitude', c = 'price', cmap = 'plasma', data = data, s = 10)\n",
    "\n",
    "# lastly, I suppose if you want a legend + colourbar...\n",
    "\n",
    "\n",
    "fig.colorbar(this_scatter, ax = ax)\n",
    "\n",
    "# it doesn't look very good like this but I think it captures the concept well; just tweak the numbers as necessary"
   ]
  },
  {
   "cell_type": "code",
   "execution_count": null,
   "metadata": {},
   "outputs": [],
   "source": []
  }
 ],
 "metadata": {
  "kernelspec": {
   "display_name": "Python 2",
   "language": "python",
   "name": "python2"
  },
  "language_info": {
   "codemirror_mode": {
    "name": "ipython",
    "version": 2
   },
   "file_extension": ".py",
   "mimetype": "text/x-python",
   "name": "python",
   "nbconvert_exporter": "python",
   "pygments_lexer": "ipython2",
   "version": "2.7.14"
  }
 },
 "nbformat": 4,
 "nbformat_minor": 2
}
