{
 "cells": [
  {
   "cell_type": "markdown",
   "metadata": {},
   "source": [
    "# Airbnb Pricing Predictions\n",
    "### Statistical Model Predicting Optimal Airbnb Listing Prices"
   ]
  },
  {
   "cell_type": "markdown",
   "metadata": {},
   "source": [
    "1. Pricing strategy is the single greatest lever you have to improve profitability \n",
    "2. Proactively creating the conditions under which better and more-profitable pricing outcomes \n",
    "3. Understand the underlying pricing dynamics of the Airbnb market is very important both for hosts and guests."
   ]
  },
  {
   "cell_type": "markdown",
   "metadata": {},
   "source": [
    "## Introduction to Airbnb\n",
    "\n",
    "Airbnb is founded in August of 2008 and based in San Francisco, California, Airbnb is a trusted community marketplace for people to list, discover, and book unique accommodations around the world — online or from a mobile phone or tablet. Whether a spare bedroom, an apartment, a villa or a private island, Airbnb connects travelers to a more diverse and authentic range of experiences in over 34,000 cities and 190 countries.\n",
    "\n",
    "However, we seek to analyze over 75,000 listings in the Australia in order to better understand how the use of listing attributes such as bedrooms, location, ratings, and more can be used to accurately predict the optimal listing price both for the host and guest."
   ]
  },
  {
   "cell_type": "markdown",
   "metadata": {},
   "source": [
    "## Exploratory data analysis (EDA)"
   ]
  },
  {
   "cell_type": "code",
   "execution_count": 1,
   "metadata": {},
   "outputs": [],
   "source": [
    "import pandas as pd\n",
    "import numpy as np\n",
    "from datetime import timedelta\n",
    "from datetime import datetime\n",
    "import time\n",
    "import matplotlib.pyplot as plt\n",
    "import matplotlib\n",
    "import math\n",
    "import seaborn as sns\n",
    "import pylab\n",
    "import scipy.stats as stats\n",
    "%matplotlib inline \n",
    "plt.style.use('fivethirtyeight')"
   ]
  },
  {
   "cell_type": "markdown",
   "metadata": {},
   "source": [
    "## 1. Load the datasets- Listing"
   ]
  },
  {
   "cell_type": "code",
   "execution_count": 2,
   "metadata": {},
   "outputs": [
    {
     "name": "stderr",
     "output_type": "stream",
     "text": [
      "D:\\Users\\ivans\\Anaconda2\\lib\\site-packages\\IPython\\core\\interactiveshell.py:2718: DtypeWarning: Columns (43,87) have mixed types. Specify dtype option on import or set low_memory=False.\n",
      "  interactivity=interactivity, compiler=compiler, result=result)\n",
      "D:\\Users\\ivans\\Anaconda2\\lib\\site-packages\\IPython\\core\\interactiveshell.py:2718: DtypeWarning: Columns (43,87,88) have mixed types. Specify dtype option on import or set low_memory=False.\n",
      "  interactivity=interactivity, compiler=compiler, result=result)\n",
      "D:\\Users\\ivans\\Anaconda2\\lib\\site-packages\\IPython\\core\\interactiveshell.py:2718: DtypeWarning: Columns (43,88) have mixed types. Specify dtype option on import or set low_memory=False.\n",
      "  interactivity=interactivity, compiler=compiler, result=result)\n"
     ]
    }
   ],
   "source": [
    "# Read the listing datasets from all region in Australia\n",
    "listing_BR = pd.read_csv('C:/Users/ivans/Desktop/Cyberdata/Airbnb/Barossa/listings.csv', low_memory=True)\n",
    "listing_MB = pd.read_csv('C:/Users/ivans/Desktop/Cyberdata/Airbnb/Melbourne/listings.csv', low_memory=True)\n",
    "listing_NR = pd.read_csv('C:/Users/ivans/Desktop/Cyberdata/Airbnb/NorthernRivers/listings.csv', low_memory=True)\n",
    "listing_SN = pd.read_csv('C:/Users/ivans/Desktop/Cyberdata/Airbnb/Sydney/listings.csv', low_memory=True)\n",
    "listing_TM = pd.read_csv('C:/Users/ivans/Desktop/Cyberdata/Airbnb/Tasmania/listings.csv', low_memory=True)\n",
    "listing_WA = pd.read_csv('C:/Users/ivans/Desktop/Cyberdata/Airbnb/WesternAustralia/listings.csv', low_memory=True)"
   ]
  },
  {
   "cell_type": "markdown",
   "metadata": {},
   "source": [
    "## 2. Describing and concatenate the datasets- Listing"
   ]
  },
  {
   "cell_type": "code",
   "execution_count": 3,
   "metadata": {},
   "outputs": [
    {
     "name": "stdout",
     "output_type": "stream",
     "text": [
      "(195, 96)\n",
      "(21253, 96)\n",
      "(5064, 96)\n",
      "(33481, 96)\n",
      "(4783, 96)\n",
      "(11332, 96)\n"
     ]
    }
   ],
   "source": [
    "# Read the shape of the listing datasets\n",
    "print(listing_BR.shape)\n",
    "print(listing_MB.shape)\n",
    "print(listing_NR.shape)\n",
    "print(listing_SN.shape)\n",
    "print(listing_TM.shape)\n",
    "print(listing_WA.shape)"
   ]
  },
  {
   "cell_type": "code",
   "execution_count": 4,
   "metadata": {},
   "outputs": [
    {
     "name": "stdout",
     "output_type": "stream",
     "text": [
      "There is no difference in columns between Barossa and Melbourne\n",
      "There is no difference in columns between Barossa and Northern Rivers\n",
      "There is no difference in columns between Barossa and Sydney\n",
      "There is no difference in columns between Barossa and Tasmania\n",
      "There is no difference in columns between Barossa and Western Australia\n"
     ]
    }
   ],
   "source": [
    "if (listing_BR.columns != listing_MB.columns).sum() ==0:\n",
    "    print ('There is no difference in columns between Barossa and Melbourne') \n",
    "else:\n",
    "    print ('The difference in columns between Barossa and Melbourne is {}'.format((listing_BR.columns != listing_MB.columns).sum()))\n",
    "\n",
    "if (listing_BR.columns != listing_NR.columns).sum() ==0:\n",
    "    print ('There is no difference in columns between Barossa and Northern Rivers') \n",
    "else:\n",
    "    print ('The difference in columns between Barossa and Northern Rivers is {}'.format((listing_BR.columns != listing_NR.columns).sum()))\n",
    "\n",
    "if (listing_BR.columns != listing_SN.columns).sum() ==0:\n",
    "    print ('There is no difference in columns between Barossa and Sydney')\n",
    "else:\n",
    "    print ('The difference in columns between Barossa and Sydney is {}'.format((listing_BR.columns != listing_SN.columns).sum()))\n",
    "\n",
    "if (listing_BR.columns != listing_TM.columns).sum() ==0:\n",
    "    print ('There is no difference in columns between Barossa and Tasmania') \n",
    "else:\n",
    "    print ('The difference in columns between Barossa and Tasmania is {}'.format((listing_BR.columns != listing_TM.columns).sum()))\n",
    "\n",
    "if (listing_BR.columns != listing_WA.columns).sum() ==0:\n",
    "    print ('There is no difference in columns between Barossa and Western Australia') \n",
    "else:\n",
    "    print ('The difference in columns between Barossa and Western Australia is {}'.format((listing_BR.columns != listing_WA.columns).sum()))\n",
    "    "
   ]
  },
  {
   "cell_type": "markdown",
   "metadata": {},
   "source": [
    "We could see all the columns among dataset are the same. Hence, we can concatenate the listing datasets by columns."
   ]
  },
  {
   "cell_type": "code",
   "execution_count": 5,
   "metadata": {},
   "outputs": [],
   "source": [
    "# [(i, j) for i in listing_BR.columns for j in listing_MB.columns]\n",
    "# if i == j:\n",
    "#     difference=[]\n",
    "#     difference.append(i)\n",
    "#     print(difference)"
   ]
  },
  {
   "cell_type": "code",
   "execution_count": 6,
   "metadata": {
    "scrolled": false
   },
   "outputs": [
    {
     "data": {
      "text/html": [
       "<div>\n",
       "<style scoped>\n",
       "    .dataframe tbody tr th:only-of-type {\n",
       "        vertical-align: middle;\n",
       "    }\n",
       "\n",
       "    .dataframe tbody tr th {\n",
       "        vertical-align: top;\n",
       "    }\n",
       "\n",
       "    .dataframe thead th {\n",
       "        text-align: right;\n",
       "    }\n",
       "</style>\n",
       "<table border=\"1\" class=\"dataframe\">\n",
       "  <thead>\n",
       "    <tr style=\"text-align: right;\">\n",
       "      <th></th>\n",
       "      <th>id</th>\n",
       "      <th>listing_url</th>\n",
       "      <th>scrape_id</th>\n",
       "      <th>last_scraped</th>\n",
       "      <th>name</th>\n",
       "      <th>summary</th>\n",
       "      <th>space</th>\n",
       "      <th>description</th>\n",
       "      <th>experiences_offered</th>\n",
       "      <th>neighborhood_overview</th>\n",
       "      <th>...</th>\n",
       "      <th>requires_license</th>\n",
       "      <th>license</th>\n",
       "      <th>jurisdiction_names</th>\n",
       "      <th>instant_bookable</th>\n",
       "      <th>is_business_travel_ready</th>\n",
       "      <th>cancellation_policy</th>\n",
       "      <th>require_guest_profile_picture</th>\n",
       "      <th>require_guest_phone_verification</th>\n",
       "      <th>calculated_host_listings_count</th>\n",
       "      <th>reviews_per_month</th>\n",
       "    </tr>\n",
       "  </thead>\n",
       "  <tbody>\n",
       "    <tr>\n",
       "      <th>0</th>\n",
       "      <td>1125097</td>\n",
       "      <td>https://www.airbnb.com/rooms/1125097</td>\n",
       "      <td>20180521033740</td>\n",
       "      <td>2018-05-21</td>\n",
       "      <td>Strathlyn Coach House Barossa</td>\n",
       "      <td>Please note there is a minimum stay of 2 night...</td>\n",
       "      <td>Strathlyn Coach House is an independent buildi...</td>\n",
       "      <td>Please note there is a minimum stay of 2 night...</td>\n",
       "      <td>none</td>\n",
       "      <td>Strathlyn Estate is a very private property su...</td>\n",
       "      <td>...</td>\n",
       "      <td>f</td>\n",
       "      <td>NaN</td>\n",
       "      <td>NaN</td>\n",
       "      <td>f</td>\n",
       "      <td>f</td>\n",
       "      <td>strict_14_with_grace_period</td>\n",
       "      <td>f</td>\n",
       "      <td>f</td>\n",
       "      <td>3</td>\n",
       "      <td>1.31</td>\n",
       "    </tr>\n",
       "    <tr>\n",
       "      <th>1</th>\n",
       "      <td>1133195</td>\n",
       "      <td>https://www.airbnb.com/rooms/1133195</td>\n",
       "      <td>20180521033740</td>\n",
       "      <td>2018-05-21</td>\n",
       "      <td>Strathlyn Lemon Tree Spa  Barossa</td>\n",
       "      <td>Enjoy the charms of the Barossa Valley in this...</td>\n",
       "      <td>The Strathlyn Lemon Tree Spa Apartment is a se...</td>\n",
       "      <td>Enjoy the charms of the Barossa Valley in this...</td>\n",
       "      <td>none</td>\n",
       "      <td>Enjoy the tranquility of staying on the beauti...</td>\n",
       "      <td>...</td>\n",
       "      <td>f</td>\n",
       "      <td>NaN</td>\n",
       "      <td>NaN</td>\n",
       "      <td>f</td>\n",
       "      <td>f</td>\n",
       "      <td>strict_14_with_grace_period</td>\n",
       "      <td>f</td>\n",
       "      <td>f</td>\n",
       "      <td>3</td>\n",
       "      <td>0.38</td>\n",
       "    </tr>\n",
       "    <tr>\n",
       "      <th>2</th>\n",
       "      <td>1133236</td>\n",
       "      <td>https://www.airbnb.com/rooms/1133236</td>\n",
       "      <td>20180521033740</td>\n",
       "      <td>2018-05-21</td>\n",
       "      <td>Strathlyn Spa Garden Suites Barossa</td>\n",
       "      <td>The spa garden suites are located on the easte...</td>\n",
       "      <td>Strathlyn Residence was constructed in 1905 fr...</td>\n",
       "      <td>The spa garden suites are located on the easte...</td>\n",
       "      <td>none</td>\n",
       "      <td>Strathlyn Estate is a very private property su...</td>\n",
       "      <td>...</td>\n",
       "      <td>f</td>\n",
       "      <td>NaN</td>\n",
       "      <td>NaN</td>\n",
       "      <td>f</td>\n",
       "      <td>f</td>\n",
       "      <td>strict_14_with_grace_period</td>\n",
       "      <td>f</td>\n",
       "      <td>f</td>\n",
       "      <td>3</td>\n",
       "      <td>0.32</td>\n",
       "    </tr>\n",
       "    <tr>\n",
       "      <th>3</th>\n",
       "      <td>1710462</td>\n",
       "      <td>https://www.airbnb.com/rooms/1710462</td>\n",
       "      <td>20180521033740</td>\n",
       "      <td>2018-05-21</td>\n",
       "      <td>Shea-Oak Log Studio Shed</td>\n",
       "      <td>Our converted shed is a cozy and comfortable o...</td>\n",
       "      <td>The Shea-Oak Log Studio AKA The Shed, is a lov...</td>\n",
       "      <td>Our converted shed is a cozy and comfortable o...</td>\n",
       "      <td>none</td>\n",
       "      <td>The Studio is located in a very unique area. T...</td>\n",
       "      <td>...</td>\n",
       "      <td>f</td>\n",
       "      <td>NaN</td>\n",
       "      <td>NaN</td>\n",
       "      <td>f</td>\n",
       "      <td>f</td>\n",
       "      <td>strict_14_with_grace_period</td>\n",
       "      <td>f</td>\n",
       "      <td>f</td>\n",
       "      <td>1</td>\n",
       "      <td>4.71</td>\n",
       "    </tr>\n",
       "    <tr>\n",
       "      <th>4</th>\n",
       "      <td>1787389</td>\n",
       "      <td>https://www.airbnb.com/rooms/1787389</td>\n",
       "      <td>20180521033740</td>\n",
       "      <td>2018-05-21</td>\n",
       "      <td>Barossa Valley Apartment 1 walk to restaurants</td>\n",
       "      <td>Luxury apartment 2 bedrooms, 2 bathrooms, full...</td>\n",
       "      <td>Our luxury apartments are locate in a fantasti...</td>\n",
       "      <td>Luxury apartment 2 bedrooms, 2 bathrooms, full...</td>\n",
       "      <td>none</td>\n",
       "      <td>Barossa Valley is a beautiful community of peo...</td>\n",
       "      <td>...</td>\n",
       "      <td>f</td>\n",
       "      <td>NaN</td>\n",
       "      <td>NaN</td>\n",
       "      <td>f</td>\n",
       "      <td>f</td>\n",
       "      <td>strict_14_with_grace_period</td>\n",
       "      <td>f</td>\n",
       "      <td>f</td>\n",
       "      <td>28</td>\n",
       "      <td>0.41</td>\n",
       "    </tr>\n",
       "  </tbody>\n",
       "</table>\n",
       "<p>5 rows × 96 columns</p>\n",
       "</div>"
      ],
      "text/plain": [
       "        id                           listing_url       scrape_id last_scraped  \\\n",
       "0  1125097  https://www.airbnb.com/rooms/1125097  20180521033740   2018-05-21   \n",
       "1  1133195  https://www.airbnb.com/rooms/1133195  20180521033740   2018-05-21   \n",
       "2  1133236  https://www.airbnb.com/rooms/1133236  20180521033740   2018-05-21   \n",
       "3  1710462  https://www.airbnb.com/rooms/1710462  20180521033740   2018-05-21   \n",
       "4  1787389  https://www.airbnb.com/rooms/1787389  20180521033740   2018-05-21   \n",
       "\n",
       "                                             name  \\\n",
       "0                   Strathlyn Coach House Barossa   \n",
       "1               Strathlyn Lemon Tree Spa  Barossa   \n",
       "2             Strathlyn Spa Garden Suites Barossa   \n",
       "3                        Shea-Oak Log Studio Shed   \n",
       "4  Barossa Valley Apartment 1 walk to restaurants   \n",
       "\n",
       "                                             summary  \\\n",
       "0  Please note there is a minimum stay of 2 night...   \n",
       "1  Enjoy the charms of the Barossa Valley in this...   \n",
       "2  The spa garden suites are located on the easte...   \n",
       "3  Our converted shed is a cozy and comfortable o...   \n",
       "4  Luxury apartment 2 bedrooms, 2 bathrooms, full...   \n",
       "\n",
       "                                               space  \\\n",
       "0  Strathlyn Coach House is an independent buildi...   \n",
       "1  The Strathlyn Lemon Tree Spa Apartment is a se...   \n",
       "2  Strathlyn Residence was constructed in 1905 fr...   \n",
       "3  The Shea-Oak Log Studio AKA The Shed, is a lov...   \n",
       "4  Our luxury apartments are locate in a fantasti...   \n",
       "\n",
       "                                         description experiences_offered  \\\n",
       "0  Please note there is a minimum stay of 2 night...                none   \n",
       "1  Enjoy the charms of the Barossa Valley in this...                none   \n",
       "2  The spa garden suites are located on the easte...                none   \n",
       "3  Our converted shed is a cozy and comfortable o...                none   \n",
       "4  Luxury apartment 2 bedrooms, 2 bathrooms, full...                none   \n",
       "\n",
       "                               neighborhood_overview        ...          \\\n",
       "0  Strathlyn Estate is a very private property su...        ...           \n",
       "1  Enjoy the tranquility of staying on the beauti...        ...           \n",
       "2  Strathlyn Estate is a very private property su...        ...           \n",
       "3  The Studio is located in a very unique area. T...        ...           \n",
       "4  Barossa Valley is a beautiful community of peo...        ...           \n",
       "\n",
       "  requires_license license jurisdiction_names instant_bookable  \\\n",
       "0                f     NaN                NaN                f   \n",
       "1                f     NaN                NaN                f   \n",
       "2                f     NaN                NaN                f   \n",
       "3                f     NaN                NaN                f   \n",
       "4                f     NaN                NaN                f   \n",
       "\n",
       "  is_business_travel_ready          cancellation_policy  \\\n",
       "0                        f  strict_14_with_grace_period   \n",
       "1                        f  strict_14_with_grace_period   \n",
       "2                        f  strict_14_with_grace_period   \n",
       "3                        f  strict_14_with_grace_period   \n",
       "4                        f  strict_14_with_grace_period   \n",
       "\n",
       "   require_guest_profile_picture require_guest_phone_verification  \\\n",
       "0                              f                                f   \n",
       "1                              f                                f   \n",
       "2                              f                                f   \n",
       "3                              f                                f   \n",
       "4                              f                                f   \n",
       "\n",
       "   calculated_host_listings_count  reviews_per_month  \n",
       "0                               3               1.31  \n",
       "1                               3               0.38  \n",
       "2                               3               0.32  \n",
       "3                               1               4.71  \n",
       "4                              28               0.41  \n",
       "\n",
       "[5 rows x 96 columns]"
      ]
     },
     "execution_count": 6,
     "metadata": {},
     "output_type": "execute_result"
    }
   ],
   "source": [
    "# combining the listing datasets from all region in Australia as my main dataset\n",
    "frames_listing= [listing_BR, listing_MB, listing_NR, listing_SN, listing_TM, listing_WA]\n",
    "df_listing= pd.concat(frames_listing)\n",
    "df_listing.reset_index()\n",
    "df_listing.head()"
   ]
  },
  {
   "cell_type": "code",
   "execution_count": 7,
   "metadata": {
    "scrolled": false
   },
   "outputs": [
    {
     "name": "stdout",
     "output_type": "stream",
     "text": [
      "('Number of rows:', 76108)\n",
      "('Number of columns:', 96)\n",
      "------------------------------------\n",
      "\n",
      "Number of unique values\n",
      "('id', 76108)\n",
      "('listing_url', 76108)\n",
      "('scrape_id', 6)\n",
      "('last_scraped', 12)\n",
      "('name', 74269)\n",
      "('summary', 71601)\n",
      "('space', 51964)\n",
      "('description', 74049)\n",
      "('experiences_offered', 1)\n",
      "('neighborhood_overview', 41196)\n",
      "('notes', 30424)\n",
      "('transit', 42057)\n",
      "('access', 41968)\n",
      "('interaction', 38082)\n",
      "('house_rules', 40883)\n",
      "('thumbnail_url', 0)\n",
      "('medium_url', 0)\n",
      "('picture_url', 75837)\n",
      "('xl_picture_url', 0)\n",
      "('host_id', 53671)\n",
      "('host_url', 53671)\n",
      "('host_name', 13642)\n",
      "('host_since', 2965)\n",
      "('host_location', 3362)\n",
      "('host_about', 27617)\n",
      "('host_response_time', 4)\n",
      "('host_response_rate', 64)\n",
      "('host_acceptance_rate', 0)\n",
      "('host_is_superhost', 2)\n",
      "('host_thumbnail_url', 53432)\n",
      "('host_picture_url', 53432)\n",
      "('host_neighbourhood', 310)\n",
      "('host_listings_count', 91)\n",
      "('host_total_listings_count', 91)\n",
      "('host_verifications', 472)\n",
      "('host_has_profile_pic', 2)\n",
      "('host_identity_verified', 2)\n",
      "('street', 3092)\n",
      "('neighbourhood', 229)\n",
      "('neighbourhood_cleansed', 241)\n",
      "('neighbourhood_group_cleansed', 0)\n",
      "('city', 2846)\n",
      "('state', 60)\n",
      "('zipcode', 1472)\n",
      "('market', 37)\n",
      "('smart_location', 2850)\n",
      "('country_code', 1)\n",
      "('country', 1)\n",
      "('latitude', 76108)\n",
      "('longitude', 76108)\n",
      "('is_location_exact', 2)\n",
      "('property_type', 44)\n",
      "('room_type', 3)\n",
      "('accommodates', 17)\n",
      "('bathrooms', 25)\n",
      "('bedrooms', 19)\n",
      "('beds', 24)\n",
      "('bed_type', 5)\n",
      "('amenities', 72378)\n",
      "('square_feet', 108)\n",
      "('price', 968)\n",
      "('weekly_price', 1080)\n",
      "('monthly_price', 1317)\n",
      "('security_deposit', 379)\n",
      "('cleaning_fee', 375)\n",
      "('guests_included', 18)\n",
      "('extra_people', 129)\n",
      "('minimum_nights', 84)\n",
      "('maximum_nights', 292)\n",
      "('calendar_updated', 84)\n",
      "('has_availability', 1)\n",
      "('availability_30', 31)\n",
      "('availability_60', 61)\n",
      "('availability_90', 91)\n",
      "('availability_365', 366)\n",
      "('calendar_last_scraped', 12)\n",
      "('number_of_reviews', 343)\n",
      "('first_review', 2277)\n",
      "('last_review', 1386)\n",
      "('review_scores_rating', 57)\n",
      "('review_scores_accuracy', 9)\n",
      "('review_scores_cleanliness', 9)\n",
      "('review_scores_checkin', 9)\n",
      "('review_scores_communication', 9)\n",
      "('review_scores_location', 8)\n",
      "('review_scores_value', 9)\n",
      "('requires_license', 1)\n",
      "('license', 28)\n",
      "('jurisdiction_names', 2)\n",
      "('instant_bookable', 2)\n",
      "('is_business_travel_ready', 1)\n",
      "('cancellation_policy', 5)\n",
      "('require_guest_profile_picture', 2)\n",
      "('require_guest_phone_verification', 2)\n",
      "('calculated_host_listings_count', 65)\n",
      "('reviews_per_month', 1018)\n",
      "------------------------------------\n",
      "\n",
      "Number of missing values\n",
      "name                               22\n",
      "summary                          1527\n",
      "space                           21752\n",
      "description                       454\n",
      "neighborhood_overview           30015\n",
      "notes                           40955\n",
      "transit                         29292\n",
      "access                          27845\n",
      "interaction                     30709\n",
      "house_rules                     28009\n",
      "thumbnail_url                   76108\n",
      "medium_url                      76108\n",
      "xl_picture_url                  76108\n",
      "host_name                          66\n",
      "host_since                         66\n",
      "host_location                     162\n",
      "host_about                      32887\n",
      "host_response_time              25310\n",
      "host_response_rate              25310\n",
      "host_acceptance_rate            76108\n",
      "host_is_superhost                  66\n",
      "host_thumbnail_url                 66\n",
      "host_picture_url                   66\n",
      "host_neighbourhood              39385\n",
      "host_listings_count                66\n",
      "host_total_listings_count          66\n",
      "host_has_profile_pic               66\n",
      "host_identity_verified             66\n",
      "neighbourhood                   31409\n",
      "neighbourhood_group_cleansed    76108\n",
      "city                               71\n",
      "state                             317\n",
      "zipcode                           308\n",
      "market                            140\n",
      "bathrooms                          69\n",
      "bedrooms                           17\n",
      "beds                               72\n",
      "square_feet                     75395\n",
      "weekly_price                    66488\n",
      "monthly_price                   69735\n",
      "security_deposit                28929\n",
      "cleaning_fee                    22880\n",
      "first_review                    18825\n",
      "last_review                     18797\n",
      "review_scores_rating            20554\n",
      "review_scores_accuracy          20630\n",
      "review_scores_cleanliness       20601\n",
      "review_scores_checkin           20682\n",
      "review_scores_communication     20614\n",
      "review_scores_location          20686\n",
      "review_scores_value             20691\n",
      "license                         75968\n",
      "jurisdiction_names              76106\n",
      "reviews_per_month               18825\n",
      "dtype: int64\n"
     ]
    }
   ],
   "source": [
    "# print the shape of the main dataset\n",
    "print ('Number of rows:', df_listing.shape[0])\n",
    "print ('Number of columns:', df_listing.shape[1])\n",
    "print ('------------------------------------\\n')\n",
    "\n",
    "# get the number of the unique value of all columns\n",
    "print ('Number of unique values')\n",
    "for items in df_listing:\n",
    "    print (items, df_listing[items].nunique())\n",
    "print ('------------------------------------\\n')\n",
    "\n",
    "print ('Number of missing values')\n",
    "print (df_listing.isnull().sum()[df_listing.isnull().sum()>0])"
   ]
  },
  {
   "cell_type": "markdown",
   "metadata": {},
   "source": [
    "## 3. Removed Columns\n",
    "\n",
    "### Non-features\n",
    "Dropping columns/features with 0 or only 1 variable which is not helpful for predicting price\n",
    "- experiences_offered \n",
    "- thumbnail_url\n",
    "- medium_url \n",
    "- xl_picture_url\n",
    "- host_acceptance_rate\n",
    "- neighbourhood_group_cleansed\n",
    "- country_code\n",
    "- country\n",
    "- has_availability \n",
    "- requires_license\n",
    "- is_business_travel_ready"
   ]
  },
  {
   "cell_type": "code",
   "execution_count": 8,
   "metadata": {},
   "outputs": [],
   "source": [
    "df_listing.drop(['experiences_offered', 'thumbnail_url', 'medium_url', 'xl_picture_url', 'host_acceptance_rate', 'neighbourhood_group_cleansed', 'country_code', 'country', 'has_availability', 'requires_license', 'is_business_travel_ready'], inplace=True, axis= 1)"
   ]
  },
  {
   "cell_type": "markdown",
   "metadata": {},
   "source": [
    "## Summary Datasets"
   ]
  },
  {
   "cell_type": "markdown",
   "metadata": {},
   "source": [
    "## 1. Load the datasets- Summary"
   ]
  },
  {
   "cell_type": "code",
   "execution_count": 9,
   "metadata": {},
   "outputs": [],
   "source": [
    "# Read the summary datasets\n",
    "listing1_BR = pd.read_csv('C:/Users/ivans/Desktop/Cyberdata/Airbnb/Barossa/listings(1).csv')\n",
    "listing1_MB = pd.read_csv('C:/Users/ivans/Desktop/Cyberdata/Airbnb/Melbourne/listings(1).csv')\n",
    "listing1_NR = pd.read_csv('C:/Users/ivans/Desktop/Cyberdata/Airbnb/NorthernRivers/listings(1).csv')\n",
    "listing1_SN = pd.read_csv('C:/Users/ivans/Desktop/Cyberdata/Airbnb/Sydney/listings(1).csv')\n",
    "listing1_TM = pd.read_csv('C:/Users/ivans/Desktop/Cyberdata/Airbnb/Tasmania/listings(1).csv')\n",
    "listing1_WA = pd.read_csv('C:/Users/ivans/Desktop/Cyberdata/Airbnb/WesternAustralia/listings(1).csv')"
   ]
  },
  {
   "cell_type": "markdown",
   "metadata": {},
   "source": [
    "## 2. Describing and concatenate the datasets- Summary"
   ]
  },
  {
   "cell_type": "code",
   "execution_count": 10,
   "metadata": {
    "scrolled": true
   },
   "outputs": [
    {
     "name": "stdout",
     "output_type": "stream",
     "text": [
      "(195, 16)\n",
      "(21253, 16)\n",
      "(5064, 16)\n",
      "(33481, 16)\n",
      "(4783, 16)\n",
      "(11332, 16)\n"
     ]
    }
   ],
   "source": [
    "# Read the shape of the summary datasets\n",
    "print(listing1_BR.shape)\n",
    "print(listing1_MB.shape)\n",
    "print(listing1_NR.shape)\n",
    "print(listing1_SN.shape)\n",
    "print(listing1_TM.shape)\n",
    "print(listing1_WA.shape)"
   ]
  },
  {
   "cell_type": "code",
   "execution_count": 11,
   "metadata": {
    "scrolled": true
   },
   "outputs": [
    {
     "data": {
      "text/html": [
       "<div>\n",
       "<style scoped>\n",
       "    .dataframe tbody tr th:only-of-type {\n",
       "        vertical-align: middle;\n",
       "    }\n",
       "\n",
       "    .dataframe tbody tr th {\n",
       "        vertical-align: top;\n",
       "    }\n",
       "\n",
       "    .dataframe thead th {\n",
       "        text-align: right;\n",
       "    }\n",
       "</style>\n",
       "<table border=\"1\" class=\"dataframe\">\n",
       "  <thead>\n",
       "    <tr style=\"text-align: right;\">\n",
       "      <th></th>\n",
       "      <th>id</th>\n",
       "      <th>name</th>\n",
       "      <th>host_id</th>\n",
       "      <th>host_name</th>\n",
       "      <th>neighbourhood_group</th>\n",
       "      <th>neighbourhood</th>\n",
       "      <th>latitude</th>\n",
       "      <th>longitude</th>\n",
       "      <th>room_type</th>\n",
       "      <th>price</th>\n",
       "      <th>minimum_nights</th>\n",
       "      <th>number_of_reviews</th>\n",
       "      <th>last_review</th>\n",
       "      <th>reviews_per_month</th>\n",
       "      <th>calculated_host_listings_count</th>\n",
       "      <th>availability_365</th>\n",
       "    </tr>\n",
       "  </thead>\n",
       "  <tbody>\n",
       "    <tr>\n",
       "      <th>0</th>\n",
       "      <td>1125097</td>\n",
       "      <td>Strathlyn Coach House Barossa</td>\n",
       "      <td>6172214</td>\n",
       "      <td>Heather</td>\n",
       "      <td>NaN</td>\n",
       "      <td>Angaston</td>\n",
       "      <td>-34.493886</td>\n",
       "      <td>139.029424</td>\n",
       "      <td>Entire home/apt</td>\n",
       "      <td>250</td>\n",
       "      <td>2</td>\n",
       "      <td>75</td>\n",
       "      <td>2018-05-20</td>\n",
       "      <td>1.31</td>\n",
       "      <td>3</td>\n",
       "      <td>342</td>\n",
       "    </tr>\n",
       "    <tr>\n",
       "      <th>1</th>\n",
       "      <td>1133195</td>\n",
       "      <td>Strathlyn Lemon Tree Spa  Barossa</td>\n",
       "      <td>6172214</td>\n",
       "      <td>Heather</td>\n",
       "      <td>NaN</td>\n",
       "      <td>Penrice</td>\n",
       "      <td>-34.494032</td>\n",
       "      <td>139.032022</td>\n",
       "      <td>Entire home/apt</td>\n",
       "      <td>230</td>\n",
       "      <td>2</td>\n",
       "      <td>17</td>\n",
       "      <td>2018-04-02</td>\n",
       "      <td>0.38</td>\n",
       "      <td>3</td>\n",
       "      <td>342</td>\n",
       "    </tr>\n",
       "    <tr>\n",
       "      <th>2</th>\n",
       "      <td>1133236</td>\n",
       "      <td>Strathlyn Spa Garden Suites Barossa</td>\n",
       "      <td>6172214</td>\n",
       "      <td>Heather</td>\n",
       "      <td>NaN</td>\n",
       "      <td>Penrice</td>\n",
       "      <td>-34.493557</td>\n",
       "      <td>139.032210</td>\n",
       "      <td>Private room</td>\n",
       "      <td>260</td>\n",
       "      <td>1</td>\n",
       "      <td>17</td>\n",
       "      <td>2018-04-22</td>\n",
       "      <td>0.32</td>\n",
       "      <td>3</td>\n",
       "      <td>357</td>\n",
       "    </tr>\n",
       "    <tr>\n",
       "      <th>3</th>\n",
       "      <td>1710462</td>\n",
       "      <td>Shea-Oak Log Studio Shed</td>\n",
       "      <td>6645956</td>\n",
       "      <td>Kylie And Tom</td>\n",
       "      <td>NaN</td>\n",
       "      <td>Shea-Oak Log</td>\n",
       "      <td>-34.509717</td>\n",
       "      <td>138.816127</td>\n",
       "      <td>Entire home/apt</td>\n",
       "      <td>91</td>\n",
       "      <td>1</td>\n",
       "      <td>261</td>\n",
       "      <td>2018-05-13</td>\n",
       "      <td>4.71</td>\n",
       "      <td>1</td>\n",
       "      <td>352</td>\n",
       "    </tr>\n",
       "    <tr>\n",
       "      <th>4</th>\n",
       "      <td>1787389</td>\n",
       "      <td>Barossa Valley Apartment 1 walk to restaurants</td>\n",
       "      <td>9380091</td>\n",
       "      <td>Kym</td>\n",
       "      <td>NaN</td>\n",
       "      <td>Tanunda</td>\n",
       "      <td>-34.528354</td>\n",
       "      <td>138.953643</td>\n",
       "      <td>Entire home/apt</td>\n",
       "      <td>350</td>\n",
       "      <td>1</td>\n",
       "      <td>12</td>\n",
       "      <td>2017-10-10</td>\n",
       "      <td>0.41</td>\n",
       "      <td>28</td>\n",
       "      <td>332</td>\n",
       "    </tr>\n",
       "  </tbody>\n",
       "</table>\n",
       "</div>"
      ],
      "text/plain": [
       "        id                                            name  host_id  \\\n",
       "0  1125097                   Strathlyn Coach House Barossa  6172214   \n",
       "1  1133195               Strathlyn Lemon Tree Spa  Barossa  6172214   \n",
       "2  1133236             Strathlyn Spa Garden Suites Barossa  6172214   \n",
       "3  1710462                        Shea-Oak Log Studio Shed  6645956   \n",
       "4  1787389  Barossa Valley Apartment 1 walk to restaurants  9380091   \n",
       "\n",
       "       host_name  neighbourhood_group neighbourhood   latitude   longitude  \\\n",
       "0        Heather                  NaN      Angaston -34.493886  139.029424   \n",
       "1        Heather                  NaN       Penrice -34.494032  139.032022   \n",
       "2        Heather                  NaN       Penrice -34.493557  139.032210   \n",
       "3  Kylie And Tom                  NaN  Shea-Oak Log -34.509717  138.816127   \n",
       "4            Kym                  NaN       Tanunda -34.528354  138.953643   \n",
       "\n",
       "         room_type  price  minimum_nights  number_of_reviews last_review  \\\n",
       "0  Entire home/apt    250               2                 75  2018-05-20   \n",
       "1  Entire home/apt    230               2                 17  2018-04-02   \n",
       "2     Private room    260               1                 17  2018-04-22   \n",
       "3  Entire home/apt     91               1                261  2018-05-13   \n",
       "4  Entire home/apt    350               1                 12  2017-10-10   \n",
       "\n",
       "   reviews_per_month  calculated_host_listings_count  availability_365  \n",
       "0               1.31                               3               342  \n",
       "1               0.38                               3               342  \n",
       "2               0.32                               3               357  \n",
       "3               4.71                               1               352  \n",
       "4               0.41                              28               332  "
      ]
     },
     "execution_count": 11,
     "metadata": {},
     "output_type": "execute_result"
    }
   ],
   "source": [
    "# Combining the summary datasets\n",
    "frames_listing1= [listing1_BR, listing1_MB, listing1_NR, listing1_SN, listing1_TM, listing1_WA]\n",
    "df_listing1= pd.concat(frames_listing1)\n",
    "df_listing1.reset_index()\n",
    "df_listing1.head()"
   ]
  },
  {
   "cell_type": "code",
   "execution_count": 12,
   "metadata": {},
   "outputs": [
    {
     "name": "stdout",
     "output_type": "stream",
     "text": [
      "(76108, 16)\n",
      "('id', 76108)\n",
      "('name', 74269)\n",
      "('host_id', 53671)\n",
      "('host_name', 13642)\n",
      "('neighbourhood_group', 0)\n",
      "('neighbourhood', 241)\n",
      "('latitude', 76108)\n",
      "('longitude', 76108)\n",
      "('room_type', 3)\n",
      "('price', 968)\n",
      "('minimum_nights', 84)\n",
      "('number_of_reviews', 343)\n",
      "('last_review', 1386)\n",
      "('reviews_per_month', 1018)\n",
      "('calculated_host_listings_count', 65)\n",
      "('availability_365', 366)\n"
     ]
    }
   ],
   "source": [
    "#see the shape of summary datasets\n",
    "print (df_listing1.shape)\n",
    "\n",
    "#get the number of the unique value of all columns\n",
    "for items in df_listing1:\n",
    "    print (items, df_listing1[items].nunique())"
   ]
  },
  {
   "cell_type": "markdown",
   "metadata": {},
   "source": [
    "## 3. Removed Columns- summary\n",
    "\n",
    "### Repeated features\n",
    "\n",
    "- name\n",
    "- host_id\n",
    "- host_name\n",
    "- neighbourhood_group\n",
    "- latitude\n",
    "- longitude\n",
    "- room_type\n",
    "- price\n",
    "- minimum_nights\n",
    "- number_of_reviews\n",
    "- last_review\n",
    "- reviews_per_month\n",
    "- calculated_host_listings_count\n",
    "- availability_365"
   ]
  },
  {
   "cell_type": "code",
   "execution_count": 13,
   "metadata": {},
   "outputs": [
    {
     "data": {
      "text/html": [
       "<div>\n",
       "<style scoped>\n",
       "    .dataframe tbody tr th:only-of-type {\n",
       "        vertical-align: middle;\n",
       "    }\n",
       "\n",
       "    .dataframe tbody tr th {\n",
       "        vertical-align: top;\n",
       "    }\n",
       "\n",
       "    .dataframe thead th {\n",
       "        text-align: right;\n",
       "    }\n",
       "</style>\n",
       "<table border=\"1\" class=\"dataframe\">\n",
       "  <thead>\n",
       "    <tr style=\"text-align: right;\">\n",
       "      <th></th>\n",
       "      <th>id</th>\n",
       "      <th>areas</th>\n",
       "    </tr>\n",
       "  </thead>\n",
       "  <tbody>\n",
       "    <tr>\n",
       "      <th>0</th>\n",
       "      <td>1125097</td>\n",
       "      <td>Angaston</td>\n",
       "    </tr>\n",
       "    <tr>\n",
       "      <th>1</th>\n",
       "      <td>1133195</td>\n",
       "      <td>Penrice</td>\n",
       "    </tr>\n",
       "    <tr>\n",
       "      <th>2</th>\n",
       "      <td>1133236</td>\n",
       "      <td>Penrice</td>\n",
       "    </tr>\n",
       "    <tr>\n",
       "      <th>3</th>\n",
       "      <td>1710462</td>\n",
       "      <td>Shea-Oak Log</td>\n",
       "    </tr>\n",
       "    <tr>\n",
       "      <th>4</th>\n",
       "      <td>1787389</td>\n",
       "      <td>Tanunda</td>\n",
       "    </tr>\n",
       "    <tr>\n",
       "      <th>5</th>\n",
       "      <td>2327616</td>\n",
       "      <td>Gawler River</td>\n",
       "    </tr>\n",
       "    <tr>\n",
       "      <th>6</th>\n",
       "      <td>2567051</td>\n",
       "      <td>Cockatoo Valley</td>\n",
       "    </tr>\n",
       "    <tr>\n",
       "      <th>7</th>\n",
       "      <td>2891547</td>\n",
       "      <td>Tanunda</td>\n",
       "    </tr>\n",
       "    <tr>\n",
       "      <th>8</th>\n",
       "      <td>3948179</td>\n",
       "      <td>Marananga</td>\n",
       "    </tr>\n",
       "    <tr>\n",
       "      <th>9</th>\n",
       "      <td>4010692</td>\n",
       "      <td>Angaston</td>\n",
       "    </tr>\n",
       "    <tr>\n",
       "      <th>10</th>\n",
       "      <td>4551374</td>\n",
       "      <td>Stockwell</td>\n",
       "    </tr>\n",
       "    <tr>\n",
       "      <th>11</th>\n",
       "      <td>4968917</td>\n",
       "      <td>Greenock</td>\n",
       "    </tr>\n",
       "    <tr>\n",
       "      <th>12</th>\n",
       "      <td>4988371</td>\n",
       "      <td>Nuriootpa</td>\n",
       "    </tr>\n",
       "    <tr>\n",
       "      <th>13</th>\n",
       "      <td>4990447</td>\n",
       "      <td>Penrice</td>\n",
       "    </tr>\n",
       "    <tr>\n",
       "      <th>14</th>\n",
       "      <td>5185834</td>\n",
       "      <td>Moculta</td>\n",
       "    </tr>\n",
       "    <tr>\n",
       "      <th>15</th>\n",
       "      <td>5185982</td>\n",
       "      <td>Tanunda</td>\n",
       "    </tr>\n",
       "    <tr>\n",
       "      <th>16</th>\n",
       "      <td>5289072</td>\n",
       "      <td>Flaxman Valley</td>\n",
       "    </tr>\n",
       "    <tr>\n",
       "      <th>17</th>\n",
       "      <td>5319590</td>\n",
       "      <td>Flaxman Valley</td>\n",
       "    </tr>\n",
       "    <tr>\n",
       "      <th>18</th>\n",
       "      <td>5426792</td>\n",
       "      <td>Nuriootpa</td>\n",
       "    </tr>\n",
       "    <tr>\n",
       "      <th>19</th>\n",
       "      <td>5537173</td>\n",
       "      <td>Lyndoch</td>\n",
       "    </tr>\n",
       "    <tr>\n",
       "      <th>20</th>\n",
       "      <td>5646514</td>\n",
       "      <td>Tanunda</td>\n",
       "    </tr>\n",
       "    <tr>\n",
       "      <th>21</th>\n",
       "      <td>6149133</td>\n",
       "      <td>Nuriootpa</td>\n",
       "    </tr>\n",
       "    <tr>\n",
       "      <th>22</th>\n",
       "      <td>6157653</td>\n",
       "      <td>Penrice</td>\n",
       "    </tr>\n",
       "    <tr>\n",
       "      <th>23</th>\n",
       "      <td>6170279</td>\n",
       "      <td>Tanunda</td>\n",
       "    </tr>\n",
       "    <tr>\n",
       "      <th>24</th>\n",
       "      <td>6170887</td>\n",
       "      <td>Nuriootpa</td>\n",
       "    </tr>\n",
       "    <tr>\n",
       "      <th>25</th>\n",
       "      <td>6296823</td>\n",
       "      <td>Tanunda</td>\n",
       "    </tr>\n",
       "    <tr>\n",
       "      <th>26</th>\n",
       "      <td>6732428</td>\n",
       "      <td>Tanunda</td>\n",
       "    </tr>\n",
       "    <tr>\n",
       "      <th>27</th>\n",
       "      <td>6886387</td>\n",
       "      <td>Angaston</td>\n",
       "    </tr>\n",
       "    <tr>\n",
       "      <th>28</th>\n",
       "      <td>7055506</td>\n",
       "      <td>Nuriootpa</td>\n",
       "    </tr>\n",
       "    <tr>\n",
       "      <th>29</th>\n",
       "      <td>7163755</td>\n",
       "      <td>Tanunda</td>\n",
       "    </tr>\n",
       "    <tr>\n",
       "      <th>...</th>\n",
       "      <td>...</td>\n",
       "      <td>...</td>\n",
       "    </tr>\n",
       "    <tr>\n",
       "      <th>11302</th>\n",
       "      <td>26648245</td>\n",
       "      <td>PERTH</td>\n",
       "    </tr>\n",
       "    <tr>\n",
       "      <th>11303</th>\n",
       "      <td>26648506</td>\n",
       "      <td>DUMBLEYUNG</td>\n",
       "    </tr>\n",
       "    <tr>\n",
       "      <th>11304</th>\n",
       "      <td>26649158</td>\n",
       "      <td>DUMBLEYUNG</td>\n",
       "    </tr>\n",
       "    <tr>\n",
       "      <th>11305</th>\n",
       "      <td>26669349</td>\n",
       "      <td>BROOME</td>\n",
       "    </tr>\n",
       "    <tr>\n",
       "      <th>11306</th>\n",
       "      <td>26669388</td>\n",
       "      <td>VINCENT</td>\n",
       "    </tr>\n",
       "    <tr>\n",
       "      <th>11307</th>\n",
       "      <td>26671052</td>\n",
       "      <td>CAPEL</td>\n",
       "    </tr>\n",
       "    <tr>\n",
       "      <th>11308</th>\n",
       "      <td>26671402</td>\n",
       "      <td>MANDURAH</td>\n",
       "    </tr>\n",
       "    <tr>\n",
       "      <th>11309</th>\n",
       "      <td>26673659</td>\n",
       "      <td>PERTH</td>\n",
       "    </tr>\n",
       "    <tr>\n",
       "      <th>11310</th>\n",
       "      <td>26677197</td>\n",
       "      <td>PERTH</td>\n",
       "    </tr>\n",
       "    <tr>\n",
       "      <th>11311</th>\n",
       "      <td>26681071</td>\n",
       "      <td>ROCKINGHAM</td>\n",
       "    </tr>\n",
       "    <tr>\n",
       "      <th>11312</th>\n",
       "      <td>26691664</td>\n",
       "      <td>MELVILLE</td>\n",
       "    </tr>\n",
       "    <tr>\n",
       "      <th>11313</th>\n",
       "      <td>26692304</td>\n",
       "      <td>FREMANTLE</td>\n",
       "    </tr>\n",
       "    <tr>\n",
       "      <th>11314</th>\n",
       "      <td>26693172</td>\n",
       "      <td>VINCENT</td>\n",
       "    </tr>\n",
       "    <tr>\n",
       "      <th>11315</th>\n",
       "      <td>26694318</td>\n",
       "      <td>WANNEROO</td>\n",
       "    </tr>\n",
       "    <tr>\n",
       "      <th>11316</th>\n",
       "      <td>26695467</td>\n",
       "      <td>STIRLING</td>\n",
       "    </tr>\n",
       "    <tr>\n",
       "      <th>11317</th>\n",
       "      <td>26695637</td>\n",
       "      <td>STIRLING</td>\n",
       "    </tr>\n",
       "    <tr>\n",
       "      <th>11318</th>\n",
       "      <td>26696191</td>\n",
       "      <td>PERTH</td>\n",
       "    </tr>\n",
       "    <tr>\n",
       "      <th>11319</th>\n",
       "      <td>26697010</td>\n",
       "      <td>KALAMUNDA</td>\n",
       "    </tr>\n",
       "    <tr>\n",
       "      <th>11320</th>\n",
       "      <td>26699985</td>\n",
       "      <td>WANNEROO</td>\n",
       "    </tr>\n",
       "    <tr>\n",
       "      <th>11321</th>\n",
       "      <td>26716445</td>\n",
       "      <td>NORTHAMPTON</td>\n",
       "    </tr>\n",
       "    <tr>\n",
       "      <th>11322</th>\n",
       "      <td>26722903</td>\n",
       "      <td>CAMBRIDGE</td>\n",
       "    </tr>\n",
       "    <tr>\n",
       "      <th>11323</th>\n",
       "      <td>26722968</td>\n",
       "      <td>VINCENT</td>\n",
       "    </tr>\n",
       "    <tr>\n",
       "      <th>11324</th>\n",
       "      <td>26724128</td>\n",
       "      <td>PERTH</td>\n",
       "    </tr>\n",
       "    <tr>\n",
       "      <th>11325</th>\n",
       "      <td>26724670</td>\n",
       "      <td>STIRLING</td>\n",
       "    </tr>\n",
       "    <tr>\n",
       "      <th>11326</th>\n",
       "      <td>26724735</td>\n",
       "      <td>AUGUSTA-MARGARET RIVER</td>\n",
       "    </tr>\n",
       "    <tr>\n",
       "      <th>11327</th>\n",
       "      <td>26725354</td>\n",
       "      <td>STIRLING</td>\n",
       "    </tr>\n",
       "    <tr>\n",
       "      <th>11328</th>\n",
       "      <td>26727760</td>\n",
       "      <td>NORTHAMPTON</td>\n",
       "    </tr>\n",
       "    <tr>\n",
       "      <th>11329</th>\n",
       "      <td>26729689</td>\n",
       "      <td>GINGIN</td>\n",
       "    </tr>\n",
       "    <tr>\n",
       "      <th>11330</th>\n",
       "      <td>26736301</td>\n",
       "      <td>STIRLING</td>\n",
       "    </tr>\n",
       "    <tr>\n",
       "      <th>11331</th>\n",
       "      <td>26752464</td>\n",
       "      <td>COCKBURN</td>\n",
       "    </tr>\n",
       "  </tbody>\n",
       "</table>\n",
       "<p>76108 rows × 2 columns</p>\n",
       "</div>"
      ],
      "text/plain": [
       "             id                   areas\n",
       "0       1125097                Angaston\n",
       "1       1133195                 Penrice\n",
       "2       1133236                 Penrice\n",
       "3       1710462            Shea-Oak Log\n",
       "4       1787389                 Tanunda\n",
       "5       2327616            Gawler River\n",
       "6       2567051         Cockatoo Valley\n",
       "7       2891547                 Tanunda\n",
       "8       3948179               Marananga\n",
       "9       4010692                Angaston\n",
       "10      4551374               Stockwell\n",
       "11      4968917                Greenock\n",
       "12      4988371               Nuriootpa\n",
       "13      4990447                 Penrice\n",
       "14      5185834                 Moculta\n",
       "15      5185982                 Tanunda\n",
       "16      5289072          Flaxman Valley\n",
       "17      5319590          Flaxman Valley\n",
       "18      5426792               Nuriootpa\n",
       "19      5537173                 Lyndoch\n",
       "20      5646514                 Tanunda\n",
       "21      6149133               Nuriootpa\n",
       "22      6157653                 Penrice\n",
       "23      6170279                 Tanunda\n",
       "24      6170887               Nuriootpa\n",
       "25      6296823                 Tanunda\n",
       "26      6732428                 Tanunda\n",
       "27      6886387                Angaston\n",
       "28      7055506               Nuriootpa\n",
       "29      7163755                 Tanunda\n",
       "...         ...                     ...\n",
       "11302  26648245                   PERTH\n",
       "11303  26648506              DUMBLEYUNG\n",
       "11304  26649158              DUMBLEYUNG\n",
       "11305  26669349                  BROOME\n",
       "11306  26669388                 VINCENT\n",
       "11307  26671052                   CAPEL\n",
       "11308  26671402                MANDURAH\n",
       "11309  26673659                   PERTH\n",
       "11310  26677197                   PERTH\n",
       "11311  26681071              ROCKINGHAM\n",
       "11312  26691664                MELVILLE\n",
       "11313  26692304               FREMANTLE\n",
       "11314  26693172                 VINCENT\n",
       "11315  26694318                WANNEROO\n",
       "11316  26695467                STIRLING\n",
       "11317  26695637                STIRLING\n",
       "11318  26696191                   PERTH\n",
       "11319  26697010               KALAMUNDA\n",
       "11320  26699985                WANNEROO\n",
       "11321  26716445             NORTHAMPTON\n",
       "11322  26722903               CAMBRIDGE\n",
       "11323  26722968                 VINCENT\n",
       "11324  26724128                   PERTH\n",
       "11325  26724670                STIRLING\n",
       "11326  26724735  AUGUSTA-MARGARET RIVER\n",
       "11327  26725354                STIRLING\n",
       "11328  26727760             NORTHAMPTON\n",
       "11329  26729689                  GINGIN\n",
       "11330  26736301                STIRLING\n",
       "11331  26752464                COCKBURN\n",
       "\n",
       "[76108 rows x 2 columns]"
      ]
     },
     "execution_count": 13,
     "metadata": {},
     "output_type": "execute_result"
    }
   ],
   "source": [
    "#drop the repeated columns\n",
    "df_listing1 = df_listing1[['id','neighbourhood']]\n",
    "#rename the columns\n",
    "df_listing1.rename(columns={'neighbourhood':'areas'})"
   ]
  },
  {
   "cell_type": "markdown",
   "metadata": {},
   "source": [
    "## 2. Describing and concatenate the datasets- Merge dataset (listings and summaries)"
   ]
  },
  {
   "cell_type": "markdown",
   "metadata": {},
   "source": [
    "## Merge the listing dataset with the summary datatset"
   ]
  },
  {
   "cell_type": "code",
   "execution_count": 14,
   "metadata": {},
   "outputs": [],
   "source": [
    "# Merge the listing dataset with the summary datatset\n",
    "df_listing3=pd.merge(df_listing, df_listing1, on='id')"
   ]
  },
  {
   "cell_type": "code",
   "execution_count": 15,
   "metadata": {},
   "outputs": [
    {
     "data": {
      "text/plain": [
       "(76108, 86)"
      ]
     },
     "execution_count": 15,
     "metadata": {},
     "output_type": "execute_result"
    }
   ],
   "source": [
    "# checked the merged dataset\n",
    "df_listing3.shape"
   ]
  },
  {
   "cell_type": "code",
   "execution_count": 16,
   "metadata": {},
   "outputs": [
    {
     "name": "stdout",
     "output_type": "stream",
     "text": [
      "(76108, 86)\n",
      "('id', 76108)\n",
      "('listing_url', 76108)\n",
      "('scrape_id', 6)\n",
      "('last_scraped', 12)\n",
      "('name', 74269)\n",
      "('summary', 71601)\n",
      "('space', 51964)\n",
      "('description', 74049)\n",
      "('neighborhood_overview', 41196)\n",
      "('notes', 30424)\n",
      "('transit', 42057)\n",
      "('access', 41968)\n",
      "('interaction', 38082)\n",
      "('house_rules', 40883)\n",
      "('picture_url', 75837)\n",
      "('host_id', 53671)\n",
      "('host_url', 53671)\n",
      "('host_name', 13642)\n",
      "('host_since', 2965)\n",
      "('host_location', 3362)\n",
      "('host_about', 27617)\n",
      "('host_response_time', 4)\n",
      "('host_response_rate', 64)\n",
      "('host_is_superhost', 2)\n",
      "('host_thumbnail_url', 53432)\n",
      "('host_picture_url', 53432)\n",
      "('host_neighbourhood', 310)\n",
      "('host_listings_count', 91)\n",
      "('host_total_listings_count', 91)\n",
      "('host_verifications', 472)\n",
      "('host_has_profile_pic', 2)\n",
      "('host_identity_verified', 2)\n",
      "('street', 3092)\n",
      "('neighbourhood_x', 229)\n",
      "('neighbourhood_cleansed', 241)\n",
      "('city', 2846)\n",
      "('state', 60)\n",
      "('zipcode', 1472)\n",
      "('market', 37)\n",
      "('smart_location', 2850)\n",
      "('latitude', 76108)\n",
      "('longitude', 76108)\n",
      "('is_location_exact', 2)\n",
      "('property_type', 44)\n",
      "('room_type', 3)\n",
      "('accommodates', 17)\n",
      "('bathrooms', 25)\n",
      "('bedrooms', 19)\n",
      "('beds', 24)\n",
      "('bed_type', 5)\n",
      "('amenities', 72378)\n",
      "('square_feet', 108)\n",
      "('price', 968)\n",
      "('weekly_price', 1080)\n",
      "('monthly_price', 1317)\n",
      "('security_deposit', 379)\n",
      "('cleaning_fee', 375)\n",
      "('guests_included', 18)\n",
      "('extra_people', 129)\n",
      "('minimum_nights', 84)\n",
      "('maximum_nights', 292)\n",
      "('calendar_updated', 84)\n",
      "('availability_30', 31)\n",
      "('availability_60', 61)\n",
      "('availability_90', 91)\n",
      "('availability_365', 366)\n",
      "('calendar_last_scraped', 12)\n",
      "('number_of_reviews', 343)\n",
      "('first_review', 2277)\n",
      "('last_review', 1386)\n",
      "('review_scores_rating', 57)\n",
      "('review_scores_accuracy', 9)\n",
      "('review_scores_cleanliness', 9)\n",
      "('review_scores_checkin', 9)\n",
      "('review_scores_communication', 9)\n",
      "('review_scores_location', 8)\n",
      "('review_scores_value', 9)\n",
      "('license', 28)\n",
      "('jurisdiction_names', 2)\n",
      "('instant_bookable', 2)\n",
      "('cancellation_policy', 5)\n",
      "('require_guest_profile_picture', 2)\n",
      "('require_guest_phone_verification', 2)\n",
      "('calculated_host_listings_count', 65)\n",
      "('reviews_per_month', 1018)\n",
      "('neighbourhood_y', 241)\n"
     ]
    }
   ],
   "source": [
    "# see the check the shape of the round 2 of columns dropping\n",
    "print (df_listing3.shape)\n",
    "\n",
    "#check the number of unique value of the datasets, de_listing3\n",
    "for items in df_listing3:\n",
    "    print (items, df_listing3[items].nunique())"
   ]
  },
  {
   "cell_type": "code",
   "execution_count": 17,
   "metadata": {},
   "outputs": [],
   "source": [
    "#covert all null to 'None'\n",
    "df_listing3.fillna('None', inplace=True)"
   ]
  },
  {
   "cell_type": "markdown",
   "metadata": {},
   "source": [
    "## 3. Removed Columns- Merge dataset(listings and summaries)¶\n",
    "\n",
    "\n",
    "### Indexing and referring features\n",
    "The indexing features do not possess predictive power\n",
    "- id\n",
    "- host_id\n",
    "\n",
    "### Secondary features\n",
    "- scrape_id\n",
    "- name- the name might attract certain people, however, it is difficult to conclude that the name has certain level of predictive power\n",
    "- listing_url\n",
    "- last_scraped\n",
    "- picture_url\n",
    "- guests_included\n",
    "- extra_people \n",
    "- host_url \n",
    "- host_name- there may certainly be some predictive power when considering gender / ethnicity of the name; however, we chose not to incorporate host_name for various ethical reasons as well as difficulty in discerning gender neutral names let alone ethnicity from a name\n",
    "- host_thumbnail_url\n",
    "- host_picture_url \n",
    "- host_listings_count\n",
    "- host_total_listings_count\n",
    "- host_verifications\n",
    "- license\n",
    "- jurisdiction_names- too many null\n",
    "\n",
    "\n",
    "### Date features\n",
    "The date in these dataset are merely when the hosts' information were updated the and travellers make the review, hence not predictive feature.\n",
    "- calendar_updated\n",
    "- calendar_last_scraped\n",
    "- host_since\n",
    "- first_review\n",
    "- last_review\n",
    "\n",
    "### Location features\n",
    "Due to unstandardized address recorded (eg. Upper and lower case, space or without space, abbreviation etc), these location features are better explained by zipcode and longitude and latitude as these mentioned features are more standarized and provide more exact location than the text feature.\n",
    "- host_location\n",
    "- host_neighbourhood- more than 50% of null values\n",
    "- street\n",
    "- market\n",
    "- smart_location\n",
    "- neighbourhood_y \n",
    "- neighbourhood_x\n",
    "- neighbourhood_cleansed \n",
    "- city\n",
    "- state\n",
    "\n",
    "\n",
    "### Text features\n",
    "These features are seperated from pricing analysis and will be analyzed by using NLP.\n",
    "- summary\n",
    "- description\n",
    "- neighborhood_overview\n",
    "- notes\n",
    "- house_rules\n",
    "- host_about\n",
    "- transit\n",
    "- access\n",
    "- amenities\n",
    "- interaction\n",
    "- space\n",
    " \n",
    "### Availability features\n",
    "These features are better explained by minimum night and maximum night.\n",
    "- availability_30 \n",
    "- availability_60 \n",
    "- availability_90\n",
    "- availability_365\n",
    "\n",
    "### Facilities features\n",
    "- square_feet- 95% variable is null values. \n",
    "\n",
    "### Price features\n",
    "Price is our dependent variable (y), weekly and monthly removed since we are focusing on single day listings. Further, security deposit and cleaning fee are affected by price, hence removed. \n",
    "- weekly_price \n",
    "- monthly_price \n",
    "- security_deposit \n",
    "- cleaning_fee"
   ]
  },
  {
   "cell_type": "markdown",
   "metadata": {},
   "source": [
    "## 3. Selected Columns- Merge dataset (listings and summaries)\n",
    "\n",
    "\n",
    "### Host information features\n",
    "- host_is_superhost- Superhost usually have more pricing options and enjoy other exlusive benefit (Airbnb 2018)\n",
    "- host_identity_verified- Traveller might willing to pay higher premiums if identity_verified, safety concern.\n",
    "\n",
    "### Location features\n",
    "The locations of the accomodations are one of critical factors in setting the prices. Eg. Accommodations in CBD areas might have higher rental price than those outskirt areas.\n",
    "- zipcode\n",
    "- latitude \n",
    "- longitude \n",
    "- is_location_exact\n",
    "\n",
    "### Facilities features\n",
    "The facilities of the accomodations are one of critical factors in setting the prices. Eg. Entire apartment usually have higher price than single room.\n",
    "- property_type \n",
    "- room_type \n",
    "- accommodates \n",
    "- bathrooms \n",
    "- bedrooms \n",
    "- beds \n",
    "- bed_type\n",
    "\n",
    "### Dependent variable (y)\n",
    "Rental price is what we want to analyze and optimize.\n",
    "- price \n",
    "\n",
    "### Availability features\n",
    "Travellers might have different needs or preference. eg. The travellers with urgent need of the accomodations are more willing to pay higher premiums.\n",
    "- minimum_nights\n",
    "- maximum_nights \n",
    "- instant_bookable\n",
    "- cancellation_policy\n",
    "\n",
    "### Scores features\n",
    "Both demand and prices are significantly affected by ratings, especially in more recent years (Lewis and Zervas, 2016)\n",
    "\n",
    "According to the study, when ratings rose by one star, demand increased by 25 percent, which then led to a 9 percent increase in prices. (Review Trackers, 2016)\n",
    "\n",
    "- number_of_reviews\n",
    "- review_scores_rating\n",
    "- review_scores_accuracy \n",
    "- review_scores_cleanliness \n",
    "- review_scores_checkin \n",
    "- review_scores_communication \n",
    "- review_scores_location\n",
    "- reviews_per_month \n",
    "- host_response_time \n",
    "- host_response_rate\n",
    "\n",
    "\n",
    "### Guest information features\n",
    "Less requirement from travellers might lead to higher prices \n",
    "- require_guest_profile_picture \n",
    "- require_guest_phone_verification  \n"
   ]
  },
  {
   "cell_type": "code",
   "execution_count": 18,
   "metadata": {},
   "outputs": [],
   "source": [
    "# Round 2: drop the similiar and repeated columns or more than 50% of the variables are \"None\" within columns\n",
    "df_listing3.drop(['id', 'host_id', 'scrape_id', 'host_location', 'host_neighbourhood', 'host_listings_count', 'street', 'market', 'smart_location', 'calendar_updated', 'host_since', 'listing_url', 'last_scraped', 'name', 'summary', 'space', 'description', 'neighborhood_overview', 'notes', 'transit', 'access', 'interaction', 'house_rules', 'picture_url', 'host_url', 'host_name','host_about','host_thumbnail_url', 'host_picture_url', 'host_total_listings_count', 'host_verifications', 'amenities', 'calendar_last_scraped', 'first_review', 'last_review', 'license', 'jurisdiction_names', 'neighbourhood_cleansed', 'neighbourhood_y', 'city', 'state', 'weekly_price', 'monthly_price', 'security_deposit', 'cleaning_fee', 'guests_included', 'extra_people', 'neighbourhood_y', 'neighbourhood_x', 'calculated_host_listings_count','availability_30', 'availability_60', 'availability_90', 'availability_365', 'reviews_per_month', 'square_feet'], inplace=True, axis= 1)\n"
   ]
  },
  {
   "cell_type": "markdown",
   "metadata": {},
   "source": [
    "## 4. Cleaning the datasets"
   ]
  },
  {
   "cell_type": "markdown",
   "metadata": {},
   "source": [
    "## Coverting the objects to numerics"
   ]
  },
  {
   "cell_type": "code",
   "execution_count": 19,
   "metadata": {},
   "outputs": [],
   "source": [
    "import re"
   ]
  },
  {
   "cell_type": "markdown",
   "metadata": {},
   "source": [
    "### Host response time"
   ]
  },
  {
   "cell_type": "code",
   "execution_count": 20,
   "metadata": {},
   "outputs": [],
   "source": [
    "# use the dictionary for the replacement the qualitive scalar to quantitative scalar\n",
    "df_listing3 = df_listing3.replace({\"host_response_time\" : {\"a few days or more\" : 1, \"within a day\" : 2, \"within a few hours\" : 3, \"within an hour\" : 4}})"
   ]
  },
  {
   "cell_type": "code",
   "execution_count": 21,
   "metadata": {},
   "outputs": [],
   "source": [
    "#Covert the objects to numerics and None to the means of the non-null variables\n",
    "def convert_numerics(object):\n",
    "    numerics = object\n",
    "    without_none = numerics\n",
    "    without_none = without_none[without_none != 'None']\n",
    "    without_none = without_none.apply(lambda x : float(x))\n",
    "    numerics= numerics.apply(lambda x : without_none.mean() if x == 'None' else x)\n",
    "    numerics= numerics.apply(lambda x : int(x))\n",
    "    return numerics"
   ]
  },
  {
   "cell_type": "code",
   "execution_count": 22,
   "metadata": {},
   "outputs": [],
   "source": [
    "df_listing3.host_response_time= convert_numerics(df_listing3.host_response_time)"
   ]
  },
  {
   "cell_type": "markdown",
   "metadata": {},
   "source": [
    "### Host response rate"
   ]
  },
  {
   "cell_type": "code",
   "execution_count": 23,
   "metadata": {},
   "outputs": [],
   "source": [
    "#Covert the objects to numerics and None to the means of the non-null variables\n",
    "def convert_numerics_1(object):\n",
    "    numerics= object.apply(lambda x : re.sub('[^A-Za-z0-9]+', '', x))\n",
    "    without_none = numerics\n",
    "    without_none = without_none[without_none != 'None']\n",
    "    without_none = without_none.apply(lambda x : float(x))\n",
    "    numerics= numerics.apply(lambda x : without_none.mean() if x == 'None' else x)\n",
    "    numerics= numerics.apply(lambda x : float(x))\n",
    "    numerics= numerics.apply(lambda x : round((x/100), 2))\n",
    "    return numerics"
   ]
  },
  {
   "cell_type": "code",
   "execution_count": 24,
   "metadata": {},
   "outputs": [],
   "source": [
    "df_listing3.host_response_rate= convert_numerics_1(df_listing3.host_response_rate)"
   ]
  },
  {
   "cell_type": "markdown",
   "metadata": {},
   "source": [
    "### Price"
   ]
  },
  {
   "cell_type": "code",
   "execution_count": 25,
   "metadata": {},
   "outputs": [],
   "source": [
    "#Covert the objects to numerics and None to the means of the non-null variables\n",
    "def convert_numerics_2(object):\n",
    "    numerics= object.apply(lambda x : re.sub('[^A-Za-z0-9]+', '', x))\n",
    "    without_none = numerics\n",
    "    without_none = without_none[without_none != 'None']\n",
    "    without_none = without_none.apply(lambda x : float(x))\n",
    "    numerics= numerics.apply(lambda x : without_none.mean() if x == 'None' else x)\n",
    "    numerics= numerics.apply(lambda x : float(x))\n",
    "    numerics= numerics.apply(lambda x : round((x/100), 2))\n",
    "    return numerics"
   ]
  },
  {
   "cell_type": "code",
   "execution_count": 26,
   "metadata": {},
   "outputs": [],
   "source": [
    "df_listing3.price=convert_numerics_2(df_listing3.price)"
   ]
  },
  {
   "cell_type": "code",
   "execution_count": 27,
   "metadata": {},
   "outputs": [],
   "source": [
    "#Covert the objects to numerics and None to the means of the non-null variables\n",
    "def convert_numerics_3(object):\n",
    "    numerics= object\n",
    "    without_none = numerics\n",
    "    without_none = without_none[without_none != 'None']\n",
    "    without_none = without_none.apply(lambda x : float(x))\n",
    "    numerics= numerics.apply(lambda x : without_none.mean() if x == 'None' else x)\n",
    "    numerics= numerics.apply(lambda x : int(x))\n",
    "    return numerics\n"
   ]
  },
  {
   "cell_type": "markdown",
   "metadata": {},
   "source": [
    "### Bathrooms"
   ]
  },
  {
   "cell_type": "code",
   "execution_count": 28,
   "metadata": {},
   "outputs": [],
   "source": [
    "df_listing3.bathrooms=convert_numerics_3(df_listing3.bathrooms)"
   ]
  },
  {
   "cell_type": "markdown",
   "metadata": {},
   "source": [
    "### Bedrooms"
   ]
  },
  {
   "cell_type": "code",
   "execution_count": 29,
   "metadata": {},
   "outputs": [],
   "source": [
    "df_listing3.bedrooms=convert_numerics_3(df_listing3.bedrooms)"
   ]
  },
  {
   "cell_type": "markdown",
   "metadata": {},
   "source": [
    "### Beds"
   ]
  },
  {
   "cell_type": "code",
   "execution_count": 30,
   "metadata": {},
   "outputs": [],
   "source": [
    "df_listing3.beds=convert_numerics_3(df_listing3.beds)"
   ]
  },
  {
   "cell_type": "markdown",
   "metadata": {},
   "source": [
    "### Host is superhost"
   ]
  },
  {
   "cell_type": "code",
   "execution_count": 31,
   "metadata": {},
   "outputs": [],
   "source": [
    "# Convert null value to not superhost, usually super host will show their status\n",
    "df_listing3.host_is_superhost = df_listing3.host_is_superhost.apply(lambda x : 'f' if x == 'None' else x)"
   ]
  },
  {
   "cell_type": "markdown",
   "metadata": {},
   "source": [
    "### Review Score"
   ]
  },
  {
   "cell_type": "code",
   "execution_count": 32,
   "metadata": {},
   "outputs": [],
   "source": [
    "#Super host\n",
    "def convert_numerics_4(object1, object2):\n",
    "    numerics= object1\n",
    "    without_none = numerics\n",
    "    without_none = without_none[without_none != 'None']\n",
    "    without_none = without_none.apply(lambda x : float(x))\n",
    "    without_none_superhost = without_none[object2=='t']\n",
    "    numerics_superhost = numerics\n",
    "    without_none_superhost_mean = without_none_superhost.mean()\n",
    "    for i in range(len(numerics)):\n",
    "        if (object2.iloc[i] == 't') & (numerics[i] =='None'):\n",
    "            numerics_superhost[i] = without_none_superhost_mean\n",
    "    return numerics_superhost\n",
    "\n",
    "#Normal host\n",
    "def convert_numerics_5(object1, object2):\n",
    "    numerics= object1\n",
    "    without_none = numerics\n",
    "    without_none = without_none[without_none != 'None']\n",
    "    without_none = without_none.apply(lambda x : float(x))\n",
    "    without_none_normalhost = without_none[object2=='f']\n",
    "    numerics_normalhost = numerics\n",
    "    without_none_normalhost_mean = without_none_normalhost.mean()\n",
    "    for i in range(len(numerics)):\n",
    "        if (object2.iloc[i] == 'f') & (numerics[i] =='None'):\n",
    "            numerics_normalhost[i] = without_none_normalhost_mean\n",
    "    return numerics_normalhost\n",
    "\n",
    "#Convert scores to integer\n",
    "def convert_numerics_6(numerics):\n",
    "    numerics = numerics.apply(lambda x : int(x))\n",
    "    return numerics\n"
   ]
  },
  {
   "cell_type": "markdown",
   "metadata": {},
   "source": [
    "### Review scores rating"
   ]
  },
  {
   "cell_type": "code",
   "execution_count": 33,
   "metadata": {},
   "outputs": [
    {
     "name": "stderr",
     "output_type": "stream",
     "text": [
      "D:\\Users\\ivans\\Anaconda2\\lib\\site-packages\\ipykernel_launcher.py:12: SettingWithCopyWarning: \n",
      "A value is trying to be set on a copy of a slice from a DataFrame\n",
      "\n",
      "See the caveats in the documentation: http://pandas.pydata.org/pandas-docs/stable/indexing.html#indexing-view-versus-copy\n",
      "  if sys.path[0] == '':\n",
      "D:\\Users\\ivans\\Anaconda2\\lib\\site-packages\\ipykernel_launcher.py:26: SettingWithCopyWarning: \n",
      "A value is trying to be set on a copy of a slice from a DataFrame\n",
      "\n",
      "See the caveats in the documentation: http://pandas.pydata.org/pandas-docs/stable/indexing.html#indexing-view-versus-copy\n"
     ]
    }
   ],
   "source": [
    "df_listing3.review_scores_rating = convert_numerics_4(df_listing3.review_scores_rating, df_listing3.host_is_superhost)\n",
    "df_listing3.review_scores_rating = convert_numerics_5(df_listing3.review_scores_rating, df_listing3.host_is_superhost)\n",
    "df_listing3.review_scores_rating = convert_numerics_6(df_listing3.review_scores_rating)"
   ]
  },
  {
   "cell_type": "markdown",
   "metadata": {},
   "source": [
    "### Review scores accuracy"
   ]
  },
  {
   "cell_type": "code",
   "execution_count": 34,
   "metadata": {},
   "outputs": [
    {
     "name": "stderr",
     "output_type": "stream",
     "text": [
      "D:\\Users\\ivans\\Anaconda2\\lib\\site-packages\\ipykernel_launcher.py:12: SettingWithCopyWarning: \n",
      "A value is trying to be set on a copy of a slice from a DataFrame\n",
      "\n",
      "See the caveats in the documentation: http://pandas.pydata.org/pandas-docs/stable/indexing.html#indexing-view-versus-copy\n",
      "  if sys.path[0] == '':\n",
      "D:\\Users\\ivans\\Anaconda2\\lib\\site-packages\\ipykernel_launcher.py:26: SettingWithCopyWarning: \n",
      "A value is trying to be set on a copy of a slice from a DataFrame\n",
      "\n",
      "See the caveats in the documentation: http://pandas.pydata.org/pandas-docs/stable/indexing.html#indexing-view-versus-copy\n"
     ]
    }
   ],
   "source": [
    "df_listing3.review_scores_accuracy = convert_numerics_4(df_listing3.review_scores_accuracy, df_listing3.host_is_superhost)\n",
    "df_listing3.review_scores_accuracy = convert_numerics_5(df_listing3.review_scores_accuracy, df_listing3.host_is_superhost)\n",
    "df_listing3.review_scores_accuracy = convert_numerics_6(df_listing3.review_scores_accuracy)"
   ]
  },
  {
   "cell_type": "markdown",
   "metadata": {},
   "source": [
    "### Review Scores Cleanliness"
   ]
  },
  {
   "cell_type": "code",
   "execution_count": 35,
   "metadata": {},
   "outputs": [
    {
     "name": "stderr",
     "output_type": "stream",
     "text": [
      "D:\\Users\\ivans\\Anaconda2\\lib\\site-packages\\ipykernel_launcher.py:12: SettingWithCopyWarning: \n",
      "A value is trying to be set on a copy of a slice from a DataFrame\n",
      "\n",
      "See the caveats in the documentation: http://pandas.pydata.org/pandas-docs/stable/indexing.html#indexing-view-versus-copy\n",
      "  if sys.path[0] == '':\n",
      "D:\\Users\\ivans\\Anaconda2\\lib\\site-packages\\ipykernel_launcher.py:26: SettingWithCopyWarning: \n",
      "A value is trying to be set on a copy of a slice from a DataFrame\n",
      "\n",
      "See the caveats in the documentation: http://pandas.pydata.org/pandas-docs/stable/indexing.html#indexing-view-versus-copy\n"
     ]
    }
   ],
   "source": [
    "df_listing3.review_scores_cleanliness = convert_numerics_4(df_listing3.review_scores_cleanliness, df_listing3.host_is_superhost)\n",
    "df_listing3.review_scores_cleanliness = convert_numerics_5(df_listing3.review_scores_cleanliness, df_listing3.host_is_superhost)\n",
    "df_listing3.review_scores_cleanliness = convert_numerics_6(df_listing3.review_scores_cleanliness)"
   ]
  },
  {
   "cell_type": "markdown",
   "metadata": {},
   "source": [
    "### Review Scores Checkin"
   ]
  },
  {
   "cell_type": "code",
   "execution_count": 36,
   "metadata": {},
   "outputs": [
    {
     "name": "stderr",
     "output_type": "stream",
     "text": [
      "D:\\Users\\ivans\\Anaconda2\\lib\\site-packages\\ipykernel_launcher.py:12: SettingWithCopyWarning: \n",
      "A value is trying to be set on a copy of a slice from a DataFrame\n",
      "\n",
      "See the caveats in the documentation: http://pandas.pydata.org/pandas-docs/stable/indexing.html#indexing-view-versus-copy\n",
      "  if sys.path[0] == '':\n",
      "D:\\Users\\ivans\\Anaconda2\\lib\\site-packages\\ipykernel_launcher.py:26: SettingWithCopyWarning: \n",
      "A value is trying to be set on a copy of a slice from a DataFrame\n",
      "\n",
      "See the caveats in the documentation: http://pandas.pydata.org/pandas-docs/stable/indexing.html#indexing-view-versus-copy\n"
     ]
    }
   ],
   "source": [
    "df_listing3.review_scores_checkin = convert_numerics_4(df_listing3.review_scores_checkin, df_listing3.host_is_superhost)\n",
    "df_listing3.review_scores_checkin = convert_numerics_5(df_listing3.review_scores_checkin, df_listing3.host_is_superhost)\n",
    "df_listing3.review_scores_checkin = convert_numerics_6(df_listing3.review_scores_checkin)"
   ]
  },
  {
   "cell_type": "markdown",
   "metadata": {},
   "source": [
    "### Review Scores Communication"
   ]
  },
  {
   "cell_type": "code",
   "execution_count": 37,
   "metadata": {},
   "outputs": [
    {
     "name": "stderr",
     "output_type": "stream",
     "text": [
      "D:\\Users\\ivans\\Anaconda2\\lib\\site-packages\\ipykernel_launcher.py:12: SettingWithCopyWarning: \n",
      "A value is trying to be set on a copy of a slice from a DataFrame\n",
      "\n",
      "See the caveats in the documentation: http://pandas.pydata.org/pandas-docs/stable/indexing.html#indexing-view-versus-copy\n",
      "  if sys.path[0] == '':\n",
      "D:\\Users\\ivans\\Anaconda2\\lib\\site-packages\\ipykernel_launcher.py:26: SettingWithCopyWarning: \n",
      "A value is trying to be set on a copy of a slice from a DataFrame\n",
      "\n",
      "See the caveats in the documentation: http://pandas.pydata.org/pandas-docs/stable/indexing.html#indexing-view-versus-copy\n"
     ]
    }
   ],
   "source": [
    "df_listing3.review_scores_communication = convert_numerics_4(df_listing3.review_scores_communication, df_listing3.host_is_superhost)\n",
    "df_listing3.review_scores_communication = convert_numerics_5(df_listing3.review_scores_communication, df_listing3.host_is_superhost)\n",
    "df_listing3.review_scores_communication = convert_numerics_6(df_listing3.review_scores_communication)"
   ]
  },
  {
   "cell_type": "markdown",
   "metadata": {},
   "source": [
    "### Review Scores Location"
   ]
  },
  {
   "cell_type": "code",
   "execution_count": 38,
   "metadata": {},
   "outputs": [
    {
     "name": "stderr",
     "output_type": "stream",
     "text": [
      "D:\\Users\\ivans\\Anaconda2\\lib\\site-packages\\ipykernel_launcher.py:12: SettingWithCopyWarning: \n",
      "A value is trying to be set on a copy of a slice from a DataFrame\n",
      "\n",
      "See the caveats in the documentation: http://pandas.pydata.org/pandas-docs/stable/indexing.html#indexing-view-versus-copy\n",
      "  if sys.path[0] == '':\n",
      "D:\\Users\\ivans\\Anaconda2\\lib\\site-packages\\ipykernel_launcher.py:26: SettingWithCopyWarning: \n",
      "A value is trying to be set on a copy of a slice from a DataFrame\n",
      "\n",
      "See the caveats in the documentation: http://pandas.pydata.org/pandas-docs/stable/indexing.html#indexing-view-versus-copy\n"
     ]
    }
   ],
   "source": [
    "df_listing3.review_scores_location = convert_numerics_4(df_listing3.review_scores_location, df_listing3.host_is_superhost)\n",
    "df_listing3.review_scores_location = convert_numerics_5(df_listing3.review_scores_location, df_listing3.host_is_superhost)\n",
    "df_listing3.review_scores_location = convert_numerics_6(df_listing3.review_scores_location)"
   ]
  },
  {
   "cell_type": "markdown",
   "metadata": {},
   "source": [
    "### Review Scores Value"
   ]
  },
  {
   "cell_type": "code",
   "execution_count": 39,
   "metadata": {},
   "outputs": [
    {
     "name": "stderr",
     "output_type": "stream",
     "text": [
      "D:\\Users\\ivans\\Anaconda2\\lib\\site-packages\\ipykernel_launcher.py:12: SettingWithCopyWarning: \n",
      "A value is trying to be set on a copy of a slice from a DataFrame\n",
      "\n",
      "See the caveats in the documentation: http://pandas.pydata.org/pandas-docs/stable/indexing.html#indexing-view-versus-copy\n",
      "  if sys.path[0] == '':\n",
      "D:\\Users\\ivans\\Anaconda2\\lib\\site-packages\\ipykernel_launcher.py:26: SettingWithCopyWarning: \n",
      "A value is trying to be set on a copy of a slice from a DataFrame\n",
      "\n",
      "See the caveats in the documentation: http://pandas.pydata.org/pandas-docs/stable/indexing.html#indexing-view-versus-copy\n"
     ]
    }
   ],
   "source": [
    "df_listing3.review_scores_value = convert_numerics_4(df_listing3.review_scores_value, df_listing3.host_is_superhost)\n",
    "df_listing3.review_scores_value = convert_numerics_5(df_listing3.review_scores_value, df_listing3.host_is_superhost)\n",
    "df_listing3.review_scores_value = convert_numerics_6(df_listing3.review_scores_value)"
   ]
  },
  {
   "cell_type": "markdown",
   "metadata": {},
   "source": [
    "### Zipcode"
   ]
  },
  {
   "cell_type": "code",
   "execution_count": 40,
   "metadata": {},
   "outputs": [],
   "source": [
    "#Covert the objects to numerics and None to 0\n",
    "def convert_numerics_7(object):\n",
    "    numerics= object\n",
    "    numerics = numerics.map(lambda x : str(x).replace('None','0'))\n",
    "    numerics= numerics.map(lambda x : re.sub(\"[^0-9]\", \"\", str(x)))\n",
    "    numerics= numerics.map(lambda x : x[0:4])\n",
    "    numerics= pd.to_numeric(numerics, errors='coerce')\n",
    "    numerics= numerics.fillna(0)\n",
    "    numerics= numerics.map(lambda x : int(x))\n",
    "    return numerics\n"
   ]
  },
  {
   "cell_type": "code",
   "execution_count": 41,
   "metadata": {},
   "outputs": [],
   "source": [
    "df_listing3.zipcode=convert_numerics_7(df_listing3.zipcode)"
   ]
  },
  {
   "cell_type": "code",
   "execution_count": 42,
   "metadata": {},
   "outputs": [
    {
     "name": "stdout",
     "output_type": "stream",
     "text": [
      "('Number of Null value in zipcode:', 309)\n"
     ]
    }
   ],
   "source": [
    "# Find the number of Null value in zipcode\n",
    "print (\"Number of Null value in zipcode:\", (df_listing3.zipcode == 0).sum())"
   ]
  },
  {
   "cell_type": "code",
   "execution_count": 43,
   "metadata": {},
   "outputs": [
    {
     "data": {
      "text/plain": [
       "<bound method DataFrame.reset_index of        host_response_time  host_response_rate host_is_superhost  \\\n",
       "0                       3                1.00                 t   \n",
       "1                       3                1.00                 t   \n",
       "2                       3                1.00                 t   \n",
       "3                       4                1.00                 f   \n",
       "4                       4                1.00                 f   \n",
       "5                       4                1.00                 t   \n",
       "6                       2                0.50                 f   \n",
       "7                       3                1.00                 t   \n",
       "8                       4                1.00                 f   \n",
       "9                       3                0.95                 f   \n",
       "10                      4                1.00                 f   \n",
       "11                      3                1.00                 t   \n",
       "12                      2                0.50                 f   \n",
       "13                      3                1.00                 f   \n",
       "14                      4                1.00                 t   \n",
       "15                      4                1.00                 t   \n",
       "16                      3                1.00                 t   \n",
       "17                      4                1.00                 t   \n",
       "18                      4                1.00                 t   \n",
       "19                      3                1.00                 f   \n",
       "20                      3                1.00                 t   \n",
       "21                      3                0.95                 f   \n",
       "22                      4                1.00                 f   \n",
       "23                      4                1.00                 f   \n",
       "24                      2                0.75                 f   \n",
       "25                      4                1.00                 t   \n",
       "26                      2                1.00                 t   \n",
       "27                      4                1.00                 t   \n",
       "28                      4                1.00                 t   \n",
       "29                      2                0.90                 f   \n",
       "...                   ...                 ...               ...   \n",
       "76078                   3                0.95                 f   \n",
       "76079                   4                1.00                 f   \n",
       "76080                   4                1.00                 f   \n",
       "76081                   4                1.00                 f   \n",
       "76082                   4                1.00                 f   \n",
       "76083                   3                0.95                 f   \n",
       "76084                   4                1.00                 f   \n",
       "76085                   4                1.00                 f   \n",
       "76086                   3                0.95                 f   \n",
       "76087                   3                0.95                 f   \n",
       "76088                   3                0.95                 f   \n",
       "76089                   4                1.00                 f   \n",
       "76090                   3                0.95                 f   \n",
       "76091                   3                0.95                 f   \n",
       "76092                   3                0.95                 f   \n",
       "76093                   3                0.95                 f   \n",
       "76094                   3                0.95                 f   \n",
       "76095                   3                1.00                 f   \n",
       "76096                   3                0.95                 f   \n",
       "76097                   3                0.95                 f   \n",
       "76098                   3                1.00                 f   \n",
       "76099                   3                0.95                 f   \n",
       "76100                   3                1.00                 f   \n",
       "76101                   4                1.00                 f   \n",
       "76102                   3                0.92                 f   \n",
       "76103                   3                0.95                 f   \n",
       "76104                   4                1.00                 f   \n",
       "76105                   3                0.95                 f   \n",
       "76106                   4                1.00                 t   \n",
       "76107                   3                0.95                 f   \n",
       "\n",
       "      host_has_profile_pic host_identity_verified  zipcode   latitude  \\\n",
       "0                        t                      f     5353 -34.493886   \n",
       "1                        t                      f     5353 -34.494032   \n",
       "2                        t                      f     5353 -34.493557   \n",
       "3                        t                      t     5371 -34.509717   \n",
       "4                        t                      t     5352 -34.528354   \n",
       "5                        t                      t     5118 -34.605631   \n",
       "6                        t                      t     5351 -34.638845   \n",
       "7                        t                      t     5352 -34.515633   \n",
       "8                        t                      f     5355 -34.488111   \n",
       "9                        t                      t     5353 -34.499428   \n",
       "10                       t                      f     5355 -34.435895   \n",
       "11                       t                      f     5360 -34.457559   \n",
       "12                       t                      t     5355 -34.472304   \n",
       "13                       t                      t     5353 -34.487770   \n",
       "14                       t                      f     5355 -34.469953   \n",
       "15                       t                      f     5232 -34.511248   \n",
       "16                       t                      f     5353 -34.563841   \n",
       "17                       t                      t     5353 -34.575782   \n",
       "18                       t                      t     5355 -34.463969   \n",
       "19                       t                      f     5351 -34.583469   \n",
       "20                       t                      t     5352 -34.515317   \n",
       "21                       t                      f     5355 -34.491326   \n",
       "22                       t                      t     5353 -34.487701   \n",
       "23                       t                      f     5232 -34.510617   \n",
       "24                       t                      f     5355 -34.476277   \n",
       "25                       t                      t     5352 -34.503135   \n",
       "26                       t                      f     5232 -34.534898   \n",
       "27                       t                      f     5353 -34.492678   \n",
       "28                       t                      t     5232 -34.501657   \n",
       "29                       t                      t     5232 -34.522019   \n",
       "...                    ...                    ...      ...        ...   \n",
       "76078                    t                      f     6000 -31.953861   \n",
       "76079                    t                      f     6350 -33.315058   \n",
       "76080                    t                      f     6350 -33.317079   \n",
       "76081                    t                      f     6725 -17.957781   \n",
       "76082                    t                      t     6003 -31.939962   \n",
       "76083                    t                      f     6271 -33.520468   \n",
       "76084                    t                      f     6210 -32.523378   \n",
       "76085                    t                      t     6005 -31.951626   \n",
       "76086                    t                      f     6000 -31.954131   \n",
       "76087                    t                      t     6173 -32.396068   \n",
       "76088                    t                      f     6154 -32.042269   \n",
       "76089                    t                      t     6160 -32.051550   \n",
       "76090                    t                      f     6006 -31.927699   \n",
       "76091                    t                      f     6030 -31.686730   \n",
       "76092                    t                      f     6019 -31.887191   \n",
       "76093                    t                      f     6061 -31.851738   \n",
       "76094                    t                      f     6000 -31.954279   \n",
       "76095                    t                      f     6076 -31.941734   \n",
       "76096                    t                      f     6035 -31.551916   \n",
       "76097                    t                      f     6536 -27.720378   \n",
       "76098                    t                      t     6008 -31.942362   \n",
       "76099                    t                      f     6016 -31.916387   \n",
       "76100                    t                      t     6000 -31.959123   \n",
       "76101                    t                      f     6059 -31.875063   \n",
       "76102                    t                      f     6285 -33.992422   \n",
       "76103                    t                      f     6019 -31.886030   \n",
       "76104                    t                      f     6536 -27.705029   \n",
       "76105                    t                      f     6041 -31.349523   \n",
       "76106                    t                      t     6019 -31.896537   \n",
       "76107                    t                      t     6164 -32.165728   \n",
       "\n",
       "        longitude is_location_exact      property_type  \\\n",
       "0      139.029424                 f  Bed and breakfast   \n",
       "1      139.032022                 t          Apartment   \n",
       "2      139.032210                 f          Apartment   \n",
       "3      138.816127                 f              Cabin   \n",
       "4      138.953643                 t          Apartment   \n",
       "5      138.648229                 f         Guesthouse   \n",
       "6      138.845637                 t  Bed and breakfast   \n",
       "7      138.967510                 f              House   \n",
       "8      138.924490                 t              Cabin   \n",
       "9      139.044344                 f              House   \n",
       "10     139.054402                 t  Bed and breakfast   \n",
       "11     138.929474                 t              House   \n",
       "12     139.009037                 t              House   \n",
       "13     139.046417                 t              House   \n",
       "14     139.050508                 f            Cottage   \n",
       "15     138.964937                 t              House   \n",
       "16     139.079530                 f              Cabin   \n",
       "17     139.036008                 f           Bungalow   \n",
       "18     139.001906                 f         Guesthouse   \n",
       "19     138.863533                 f              Other   \n",
       "20     138.967779                 f              House   \n",
       "21     138.966150                 f              House   \n",
       "22     139.044072                 t  Bed and breakfast   \n",
       "23     138.971960                 t            Cottage   \n",
       "24     138.997612                 f              House   \n",
       "25     138.959090                 f  Bed and breakfast   \n",
       "26     138.952815                 t              House   \n",
       "27     139.017479                 f              Other   \n",
       "28     138.997516                 t  Bed and breakfast   \n",
       "29     138.963034                 t              House   \n",
       "...           ...               ...                ...   \n",
       "76078  115.855050                 t          Apartment   \n",
       "76079  117.742431                 t     Boutique hotel   \n",
       "76080  117.742595                 t     Boutique hotel   \n",
       "76081  122.236819                 t          Apartment   \n",
       "76082  115.873427                 t              House   \n",
       "76083  115.512185                 t              House   \n",
       "76084  115.726629                 t        Condominium   \n",
       "76085  115.840865                 f              House   \n",
       "76086  115.856654                 t          Apartment   \n",
       "76087  115.750660                 f          Apartment   \n",
       "76088  115.815405                 t        Guest suite   \n",
       "76089  115.748554                 f          Apartment   \n",
       "76090  115.853300                 f          Apartment   \n",
       "76091  115.704612                 t              House   \n",
       "76092  115.764856                 t          Apartment   \n",
       "76093  115.831236                 t              House   \n",
       "76094  115.848846                 t              House   \n",
       "76095  116.051691                 t              House   \n",
       "76096  115.653175                 f              House   \n",
       "76097  114.158831                 t              House   \n",
       "76098  115.824913                 t          Apartment   \n",
       "76099  115.826577                 t          Townhouse   \n",
       "76100  115.866291                 t          Apartment   \n",
       "76101  115.878248                 t           Bungalow   \n",
       "76102  114.998796                 t              House   \n",
       "76103  115.774285                 t              House   \n",
       "76104  114.168551                 t          Apartment   \n",
       "76105  115.512042                 t              House   \n",
       "76106  115.759246                 f          Apartment   \n",
       "76107  115.859065                 f              House   \n",
       "\n",
       "                     ...                review_scores_accuracy  \\\n",
       "0                    ...                                    10   \n",
       "1                    ...                                     9   \n",
       "2                    ...                                    10   \n",
       "3                    ...                                    10   \n",
       "4                    ...                                    10   \n",
       "5                    ...                                     9   \n",
       "6                    ...                                    10   \n",
       "7                    ...                                     9   \n",
       "8                    ...                                     9   \n",
       "9                    ...                                    10   \n",
       "10                   ...                                     9   \n",
       "11                   ...                                    10   \n",
       "12                   ...                                    10   \n",
       "13                   ...                                    10   \n",
       "14                   ...                                    10   \n",
       "15                   ...                                    10   \n",
       "16                   ...                                    10   \n",
       "17                   ...                                    10   \n",
       "18                   ...                                    10   \n",
       "19                   ...                                     9   \n",
       "20                   ...                                    10   \n",
       "21                   ...                                    10   \n",
       "22                   ...                                    10   \n",
       "23                   ...                                    10   \n",
       "24                   ...                                     9   \n",
       "25                   ...                                    10   \n",
       "26                   ...                                    10   \n",
       "27                   ...                                    10   \n",
       "28                   ...                                    10   \n",
       "29                   ...                                    10   \n",
       "...                  ...                                   ...   \n",
       "76078                ...                                     9   \n",
       "76079                ...                                     9   \n",
       "76080                ...                                     9   \n",
       "76081                ...                                     9   \n",
       "76082                ...                                     9   \n",
       "76083                ...                                     9   \n",
       "76084                ...                                     9   \n",
       "76085                ...                                     9   \n",
       "76086                ...                                     9   \n",
       "76087                ...                                     9   \n",
       "76088                ...                                     9   \n",
       "76089                ...                                     9   \n",
       "76090                ...                                     9   \n",
       "76091                ...                                     9   \n",
       "76092                ...                                     9   \n",
       "76093                ...                                     9   \n",
       "76094                ...                                     9   \n",
       "76095                ...                                     9   \n",
       "76096                ...                                     9   \n",
       "76097                ...                                     9   \n",
       "76098                ...                                     9   \n",
       "76099                ...                                     9   \n",
       "76100                ...                                     9   \n",
       "76101                ...                                     9   \n",
       "76102                ...                                     9   \n",
       "76103                ...                                     9   \n",
       "76104                ...                                     9   \n",
       "76105                ...                                     9   \n",
       "76106                ...                                     9   \n",
       "76107                ...                                     9   \n",
       "\n",
       "       review_scores_cleanliness  review_scores_checkin  \\\n",
       "0                             10                     10   \n",
       "1                             10                     10   \n",
       "2                             10                     10   \n",
       "3                             10                     10   \n",
       "4                              9                     10   \n",
       "5                              9                     10   \n",
       "6                             10                     10   \n",
       "7                             10                     10   \n",
       "8                              9                      9   \n",
       "9                             10                     10   \n",
       "10                            10                     10   \n",
       "11                            10                     10   \n",
       "12                            10                     10   \n",
       "13                            10                     10   \n",
       "14                            10                     10   \n",
       "15                            10                     10   \n",
       "16                            10                     10   \n",
       "17                            10                     10   \n",
       "18                            10                     10   \n",
       "19                             9                      9   \n",
       "20                            10                     10   \n",
       "21                            10                     10   \n",
       "22                            10                     10   \n",
       "23                            10                     10   \n",
       "24                            10                     10   \n",
       "25                            10                     10   \n",
       "26                            10                     10   \n",
       "27                            10                     10   \n",
       "28                            10                     10   \n",
       "29                             9                     10   \n",
       "...                          ...                    ...   \n",
       "76078                          9                      9   \n",
       "76079                          9                      9   \n",
       "76080                          9                      9   \n",
       "76081                          9                      9   \n",
       "76082                          9                      9   \n",
       "76083                          9                      9   \n",
       "76084                          9                      9   \n",
       "76085                          9                      9   \n",
       "76086                          9                      9   \n",
       "76087                          9                      9   \n",
       "76088                          9                      9   \n",
       "76089                          9                      9   \n",
       "76090                          9                      9   \n",
       "76091                          9                      9   \n",
       "76092                          9                      9   \n",
       "76093                          9                      9   \n",
       "76094                          9                      9   \n",
       "76095                          9                      9   \n",
       "76096                          9                      9   \n",
       "76097                          9                      9   \n",
       "76098                          9                      9   \n",
       "76099                          9                      9   \n",
       "76100                          9                      9   \n",
       "76101                          9                      9   \n",
       "76102                          9                      9   \n",
       "76103                          9                      9   \n",
       "76104                          9                      9   \n",
       "76105                          9                      9   \n",
       "76106                          9                      9   \n",
       "76107                          9                      9   \n",
       "\n",
       "       review_scores_communication  review_scores_location  \\\n",
       "0                               10                      10   \n",
       "1                               10                      10   \n",
       "2                               10                      10   \n",
       "3                               10                       9   \n",
       "4                               10                      10   \n",
       "5                               10                      10   \n",
       "6                               10                      10   \n",
       "7                               10                      10   \n",
       "8                                9                      10   \n",
       "9                               10                      10   \n",
       "10                              10                       9   \n",
       "11                              10                      10   \n",
       "12                              10                      10   \n",
       "13                              10                       9   \n",
       "14                              10                      10   \n",
       "15                              10                       9   \n",
       "16                              10                      10   \n",
       "17                              10                      10   \n",
       "18                              10                      10   \n",
       "19                               9                       9   \n",
       "20                              10                      10   \n",
       "21                              10                      10   \n",
       "22                              10                       9   \n",
       "23                              10                      10   \n",
       "24                               9                      10   \n",
       "25                              10                      10   \n",
       "26                              10                      10   \n",
       "27                              10                      10   \n",
       "28                              10                      10   \n",
       "29                              10                      10   \n",
       "...                            ...                     ...   \n",
       "76078                            9                       9   \n",
       "76079                            9                       9   \n",
       "76080                            9                       9   \n",
       "76081                            9                       9   \n",
       "76082                            9                       9   \n",
       "76083                            9                       9   \n",
       "76084                            9                       9   \n",
       "76085                            9                       9   \n",
       "76086                            9                       9   \n",
       "76087                            9                       9   \n",
       "76088                            9                       9   \n",
       "76089                            9                       9   \n",
       "76090                            9                       9   \n",
       "76091                            9                       9   \n",
       "76092                            9                       9   \n",
       "76093                            9                       9   \n",
       "76094                            9                       9   \n",
       "76095                            9                       9   \n",
       "76096                            9                       9   \n",
       "76097                            9                       9   \n",
       "76098                            9                       9   \n",
       "76099                            9                       9   \n",
       "76100                            9                       9   \n",
       "76101                            9                       9   \n",
       "76102                            9                       9   \n",
       "76103                            9                       9   \n",
       "76104                            9                       9   \n",
       "76105                            9                       9   \n",
       "76106                            9                       9   \n",
       "76107                            9                       9   \n",
       "\n",
       "      review_scores_value  instant_bookable          cancellation_policy  \\\n",
       "0                       9                 f  strict_14_with_grace_period   \n",
       "1                       9                 f  strict_14_with_grace_period   \n",
       "2                       9                 f  strict_14_with_grace_period   \n",
       "3                      10                 f  strict_14_with_grace_period   \n",
       "4                       9                 f  strict_14_with_grace_period   \n",
       "5                      10                 f                     moderate   \n",
       "6                       9                 f  strict_14_with_grace_period   \n",
       "7                       9                 f  strict_14_with_grace_period   \n",
       "8                       9                 f  strict_14_with_grace_period   \n",
       "9                      10                 f                     flexible   \n",
       "10                      9                 f  strict_14_with_grace_period   \n",
       "11                      9                 f  strict_14_with_grace_period   \n",
       "12                     10                 f                     moderate   \n",
       "13                      9                 f  strict_14_with_grace_period   \n",
       "14                     10                 f  strict_14_with_grace_period   \n",
       "15                     10                 f  strict_14_with_grace_period   \n",
       "16                     10                 f  strict_14_with_grace_period   \n",
       "17                     10                 f  strict_14_with_grace_period   \n",
       "18                      9                 t                     moderate   \n",
       "19                      9                 f                     moderate   \n",
       "20                     10                 f  strict_14_with_grace_period   \n",
       "21                      6                 f  strict_14_with_grace_period   \n",
       "22                      9                 t  strict_14_with_grace_period   \n",
       "23                     10                 t                     moderate   \n",
       "24                     10                 f                     moderate   \n",
       "25                     10                 f  strict_14_with_grace_period   \n",
       "26                     10                 f  strict_14_with_grace_period   \n",
       "27                     10                 t                     moderate   \n",
       "28                     10                 t  strict_14_with_grace_period   \n",
       "29                      9                 f  strict_14_with_grace_period   \n",
       "...                   ...               ...                          ...   \n",
       "76078                   9                 f                     flexible   \n",
       "76079                   9                 t                     flexible   \n",
       "76080                   9                 t                     flexible   \n",
       "76081                   9                 t                     flexible   \n",
       "76082                   9                 f                     flexible   \n",
       "76083                   9                 t                     flexible   \n",
       "76084                   9                 t                     flexible   \n",
       "76085                   9                 f                     moderate   \n",
       "76086                   9                 f                     flexible   \n",
       "76087                   9                 t  strict_14_with_grace_period   \n",
       "76088                   9                 f  strict_14_with_grace_period   \n",
       "76089                   9                 t                     flexible   \n",
       "76090                   9                 f  strict_14_with_grace_period   \n",
       "76091                   9                 t                     flexible   \n",
       "76092                   9                 t                     flexible   \n",
       "76093                   9                 t                     flexible   \n",
       "76094                   9                 t                     flexible   \n",
       "76095                   9                 t  strict_14_with_grace_period   \n",
       "76096                   9                 f                     flexible   \n",
       "76097                   9                 t                     flexible   \n",
       "76098                   9                 f  strict_14_with_grace_period   \n",
       "76099                   9                 t                     flexible   \n",
       "76100                   9                 f  strict_14_with_grace_period   \n",
       "76101                   9                 f                     moderate   \n",
       "76102                   9                 f  strict_14_with_grace_period   \n",
       "76103                   9                 t                     flexible   \n",
       "76104                   9                 t                     flexible   \n",
       "76105                   9                 f                     flexible   \n",
       "76106                   9                 t                     flexible   \n",
       "76107                   9                 t                     flexible   \n",
       "\n",
       "       require_guest_profile_picture  require_guest_phone_verification  \n",
       "0                                  f                                 f  \n",
       "1                                  f                                 f  \n",
       "2                                  f                                 f  \n",
       "3                                  f                                 f  \n",
       "4                                  f                                 f  \n",
       "5                                  f                                 f  \n",
       "6                                  f                                 f  \n",
       "7                                  f                                 f  \n",
       "8                                  f                                 f  \n",
       "9                                  f                                 f  \n",
       "10                                 f                                 f  \n",
       "11                                 f                                 f  \n",
       "12                                 f                                 f  \n",
       "13                                 f                                 f  \n",
       "14                                 f                                 f  \n",
       "15                                 f                                 f  \n",
       "16                                 f                                 f  \n",
       "17                                 f                                 f  \n",
       "18                                 f                                 f  \n",
       "19                                 f                                 f  \n",
       "20                                 f                                 f  \n",
       "21                                 f                                 f  \n",
       "22                                 f                                 f  \n",
       "23                                 f                                 f  \n",
       "24                                 f                                 f  \n",
       "25                                 f                                 f  \n",
       "26                                 f                                 f  \n",
       "27                                 f                                 f  \n",
       "28                                 f                                 f  \n",
       "29                                 f                                 f  \n",
       "...                              ...                               ...  \n",
       "76078                              f                                 f  \n",
       "76079                              f                                 f  \n",
       "76080                              f                                 f  \n",
       "76081                              f                                 f  \n",
       "76082                              f                                 f  \n",
       "76083                              f                                 f  \n",
       "76084                              f                                 f  \n",
       "76085                              f                                 f  \n",
       "76086                              f                                 f  \n",
       "76087                              f                                 f  \n",
       "76088                              f                                 f  \n",
       "76089                              f                                 f  \n",
       "76090                              f                                 f  \n",
       "76091                              f                                 f  \n",
       "76092                              f                                 f  \n",
       "76093                              f                                 f  \n",
       "76094                              f                                 f  \n",
       "76095                              f                                 f  \n",
       "76096                              f                                 f  \n",
       "76097                              f                                 f  \n",
       "76098                              f                                 f  \n",
       "76099                              f                                 f  \n",
       "76100                              f                                 f  \n",
       "76101                              f                                 f  \n",
       "76102                              f                                 f  \n",
       "76103                              f                                 f  \n",
       "76104                              f                                 f  \n",
       "76105                              f                                 f  \n",
       "76106                              f                                 f  \n",
       "76107                              f                                 f  \n",
       "\n",
       "[75799 rows x 31 columns]>"
      ]
     },
     "execution_count": 43,
     "metadata": {},
     "output_type": "execute_result"
    }
   ],
   "source": [
    "# Drop the row where Null value Zipcode \n",
    "df_listing3.drop(df_listing3[df_listing3.zipcode == 0].index, inplace=True)\n",
    "df_listing3.reset_index"
   ]
  },
  {
   "cell_type": "code",
   "execution_count": 44,
   "metadata": {},
   "outputs": [],
   "source": [
    "df_listing3.to_csv('df_listing3.csv', encoding='utf-8')"
   ]
  },
  {
   "cell_type": "code",
   "execution_count": 2,
   "metadata": {},
   "outputs": [
    {
     "data": {
      "text/html": [
       "<div>\n",
       "<style scoped>\n",
       "    .dataframe tbody tr th:only-of-type {\n",
       "        vertical-align: middle;\n",
       "    }\n",
       "\n",
       "    .dataframe tbody tr th {\n",
       "        vertical-align: top;\n",
       "    }\n",
       "\n",
       "    .dataframe thead th {\n",
       "        text-align: right;\n",
       "    }\n",
       "</style>\n",
       "<table border=\"1\" class=\"dataframe\">\n",
       "  <thead>\n",
       "    <tr style=\"text-align: right;\">\n",
       "      <th></th>\n",
       "      <th>host_response_time</th>\n",
       "      <th>host_response_rate</th>\n",
       "      <th>host_is_superhost</th>\n",
       "      <th>host_has_profile_pic</th>\n",
       "      <th>host_identity_verified</th>\n",
       "      <th>zipcode</th>\n",
       "      <th>latitude</th>\n",
       "      <th>longitude</th>\n",
       "      <th>is_location_exact</th>\n",
       "      <th>property_type</th>\n",
       "      <th>...</th>\n",
       "      <th>review_scores_accuracy</th>\n",
       "      <th>review_scores_cleanliness</th>\n",
       "      <th>review_scores_checkin</th>\n",
       "      <th>review_scores_communication</th>\n",
       "      <th>review_scores_location</th>\n",
       "      <th>review_scores_value</th>\n",
       "      <th>instant_bookable</th>\n",
       "      <th>cancellation_policy</th>\n",
       "      <th>require_guest_profile_picture</th>\n",
       "      <th>require_guest_phone_verification</th>\n",
       "    </tr>\n",
       "  </thead>\n",
       "  <tbody>\n",
       "    <tr>\n",
       "      <th>0</th>\n",
       "      <td>3</td>\n",
       "      <td>1.0</td>\n",
       "      <td>t</td>\n",
       "      <td>t</td>\n",
       "      <td>f</td>\n",
       "      <td>5353</td>\n",
       "      <td>-34.493886</td>\n",
       "      <td>139.029424</td>\n",
       "      <td>f</td>\n",
       "      <td>Bed and breakfast</td>\n",
       "      <td>...</td>\n",
       "      <td>10</td>\n",
       "      <td>10</td>\n",
       "      <td>10</td>\n",
       "      <td>10</td>\n",
       "      <td>10</td>\n",
       "      <td>9</td>\n",
       "      <td>f</td>\n",
       "      <td>strict_14_with_grace_period</td>\n",
       "      <td>f</td>\n",
       "      <td>f</td>\n",
       "    </tr>\n",
       "    <tr>\n",
       "      <th>1</th>\n",
       "      <td>3</td>\n",
       "      <td>1.0</td>\n",
       "      <td>t</td>\n",
       "      <td>t</td>\n",
       "      <td>f</td>\n",
       "      <td>5353</td>\n",
       "      <td>-34.494032</td>\n",
       "      <td>139.032022</td>\n",
       "      <td>t</td>\n",
       "      <td>Apartment</td>\n",
       "      <td>...</td>\n",
       "      <td>9</td>\n",
       "      <td>10</td>\n",
       "      <td>10</td>\n",
       "      <td>10</td>\n",
       "      <td>10</td>\n",
       "      <td>9</td>\n",
       "      <td>f</td>\n",
       "      <td>strict_14_with_grace_period</td>\n",
       "      <td>f</td>\n",
       "      <td>f</td>\n",
       "    </tr>\n",
       "    <tr>\n",
       "      <th>2</th>\n",
       "      <td>3</td>\n",
       "      <td>1.0</td>\n",
       "      <td>t</td>\n",
       "      <td>t</td>\n",
       "      <td>f</td>\n",
       "      <td>5353</td>\n",
       "      <td>-34.493557</td>\n",
       "      <td>139.032210</td>\n",
       "      <td>f</td>\n",
       "      <td>Apartment</td>\n",
       "      <td>...</td>\n",
       "      <td>10</td>\n",
       "      <td>10</td>\n",
       "      <td>10</td>\n",
       "      <td>10</td>\n",
       "      <td>10</td>\n",
       "      <td>9</td>\n",
       "      <td>f</td>\n",
       "      <td>strict_14_with_grace_period</td>\n",
       "      <td>f</td>\n",
       "      <td>f</td>\n",
       "    </tr>\n",
       "    <tr>\n",
       "      <th>3</th>\n",
       "      <td>4</td>\n",
       "      <td>1.0</td>\n",
       "      <td>f</td>\n",
       "      <td>t</td>\n",
       "      <td>t</td>\n",
       "      <td>5371</td>\n",
       "      <td>-34.509717</td>\n",
       "      <td>138.816127</td>\n",
       "      <td>f</td>\n",
       "      <td>Cabin</td>\n",
       "      <td>...</td>\n",
       "      <td>10</td>\n",
       "      <td>10</td>\n",
       "      <td>10</td>\n",
       "      <td>10</td>\n",
       "      <td>9</td>\n",
       "      <td>10</td>\n",
       "      <td>f</td>\n",
       "      <td>strict_14_with_grace_period</td>\n",
       "      <td>f</td>\n",
       "      <td>f</td>\n",
       "    </tr>\n",
       "    <tr>\n",
       "      <th>4</th>\n",
       "      <td>4</td>\n",
       "      <td>1.0</td>\n",
       "      <td>f</td>\n",
       "      <td>t</td>\n",
       "      <td>t</td>\n",
       "      <td>5352</td>\n",
       "      <td>-34.528354</td>\n",
       "      <td>138.953643</td>\n",
       "      <td>t</td>\n",
       "      <td>Apartment</td>\n",
       "      <td>...</td>\n",
       "      <td>10</td>\n",
       "      <td>9</td>\n",
       "      <td>10</td>\n",
       "      <td>10</td>\n",
       "      <td>10</td>\n",
       "      <td>9</td>\n",
       "      <td>f</td>\n",
       "      <td>strict_14_with_grace_period</td>\n",
       "      <td>f</td>\n",
       "      <td>f</td>\n",
       "    </tr>\n",
       "  </tbody>\n",
       "</table>\n",
       "<p>5 rows × 31 columns</p>\n",
       "</div>"
      ],
      "text/plain": [
       "   host_response_time  host_response_rate host_is_superhost  \\\n",
       "0                   3                 1.0                 t   \n",
       "1                   3                 1.0                 t   \n",
       "2                   3                 1.0                 t   \n",
       "3                   4                 1.0                 f   \n",
       "4                   4                 1.0                 f   \n",
       "\n",
       "  host_has_profile_pic host_identity_verified  zipcode   latitude   longitude  \\\n",
       "0                    t                      f     5353 -34.493886  139.029424   \n",
       "1                    t                      f     5353 -34.494032  139.032022   \n",
       "2                    t                      f     5353 -34.493557  139.032210   \n",
       "3                    t                      t     5371 -34.509717  138.816127   \n",
       "4                    t                      t     5352 -34.528354  138.953643   \n",
       "\n",
       "  is_location_exact      property_type                ...                 \\\n",
       "0                 f  Bed and breakfast                ...                  \n",
       "1                 t          Apartment                ...                  \n",
       "2                 f          Apartment                ...                  \n",
       "3                 f              Cabin                ...                  \n",
       "4                 t          Apartment                ...                  \n",
       "\n",
       "  review_scores_accuracy  review_scores_cleanliness  review_scores_checkin  \\\n",
       "0                     10                         10                     10   \n",
       "1                      9                         10                     10   \n",
       "2                     10                         10                     10   \n",
       "3                     10                         10                     10   \n",
       "4                     10                          9                     10   \n",
       "\n",
       "   review_scores_communication  review_scores_location review_scores_value  \\\n",
       "0                           10                      10                   9   \n",
       "1                           10                      10                   9   \n",
       "2                           10                      10                   9   \n",
       "3                           10                       9                  10   \n",
       "4                           10                      10                   9   \n",
       "\n",
       "   instant_bookable          cancellation_policy  \\\n",
       "0                 f  strict_14_with_grace_period   \n",
       "1                 f  strict_14_with_grace_period   \n",
       "2                 f  strict_14_with_grace_period   \n",
       "3                 f  strict_14_with_grace_period   \n",
       "4                 f  strict_14_with_grace_period   \n",
       "\n",
       "   require_guest_profile_picture  require_guest_phone_verification  \n",
       "0                              f                                 f  \n",
       "1                              f                                 f  \n",
       "2                              f                                 f  \n",
       "3                              f                                 f  \n",
       "4                              f                                 f  \n",
       "\n",
       "[5 rows x 31 columns]"
      ]
     },
     "execution_count": 2,
     "metadata": {},
     "output_type": "execute_result"
    }
   ],
   "source": [
    "df_listing3=pd.read_csv('C:/Users/ivans/Desktop/Cyberdata/New folder/df_listing3.csv')\n",
    "df_listing3.drop('Unnamed: 0', inplace=True, axis=1)\n",
    "df_listing3.head()"
   ]
  },
  {
   "cell_type": "markdown",
   "metadata": {},
   "source": [
    "## 5. Split the dataset to objects and numeric dataset"
   ]
  },
  {
   "cell_type": "code",
   "execution_count": 3,
   "metadata": {},
   "outputs": [],
   "source": [
    "df_listing3obj = df_listing3.select_dtypes('O')\n",
    "df_listing3num = df_listing3.select_dtypes(include=np.number)"
   ]
  },
  {
   "cell_type": "markdown",
   "metadata": {},
   "source": [
    "## 6. Describing Summary Statistics for numeric dataset"
   ]
  },
  {
   "cell_type": "code",
   "execution_count": 4,
   "metadata": {},
   "outputs": [
    {
     "name": "stdout",
     "output_type": "stream",
     "text": [
      "Number of columns in numeric dataset: 20\n"
     ]
    },
    {
     "data": {
      "text/html": [
       "<div>\n",
       "<style scoped>\n",
       "    .dataframe tbody tr th:only-of-type {\n",
       "        vertical-align: middle;\n",
       "    }\n",
       "\n",
       "    .dataframe tbody tr th {\n",
       "        vertical-align: top;\n",
       "    }\n",
       "\n",
       "    .dataframe thead th {\n",
       "        text-align: right;\n",
       "    }\n",
       "</style>\n",
       "<table border=\"1\" class=\"dataframe\">\n",
       "  <thead>\n",
       "    <tr style=\"text-align: right;\">\n",
       "      <th></th>\n",
       "      <th>host_response_time</th>\n",
       "      <th>host_response_rate</th>\n",
       "      <th>zipcode</th>\n",
       "      <th>latitude</th>\n",
       "      <th>longitude</th>\n",
       "      <th>accommodates</th>\n",
       "      <th>bathrooms</th>\n",
       "      <th>bedrooms</th>\n",
       "      <th>beds</th>\n",
       "      <th>price</th>\n",
       "      <th>minimum_nights</th>\n",
       "      <th>maximum_nights</th>\n",
       "      <th>number_of_reviews</th>\n",
       "      <th>review_scores_rating</th>\n",
       "      <th>review_scores_accuracy</th>\n",
       "      <th>review_scores_cleanliness</th>\n",
       "      <th>review_scores_checkin</th>\n",
       "      <th>review_scores_communication</th>\n",
       "      <th>review_scores_location</th>\n",
       "      <th>review_scores_value</th>\n",
       "    </tr>\n",
       "  </thead>\n",
       "  <tbody>\n",
       "    <tr>\n",
       "      <th>count</th>\n",
       "      <td>75799.000000</td>\n",
       "      <td>75799.000000</td>\n",
       "      <td>75799.000000</td>\n",
       "      <td>75799.000000</td>\n",
       "      <td>75799.000000</td>\n",
       "      <td>75799.000000</td>\n",
       "      <td>75799.000000</td>\n",
       "      <td>75799.000000</td>\n",
       "      <td>75799.000000</td>\n",
       "      <td>75799.000000</td>\n",
       "      <td>75799.000000</td>\n",
       "      <td>7.579900e+04</td>\n",
       "      <td>75799.000000</td>\n",
       "      <td>75799.000000</td>\n",
       "      <td>75799.000000</td>\n",
       "      <td>75799.000000</td>\n",
       "      <td>75799.000000</td>\n",
       "      <td>75799.000000</td>\n",
       "      <td>75799.000000</td>\n",
       "      <td>75799.000000</td>\n",
       "    </tr>\n",
       "    <tr>\n",
       "      <th>mean</th>\n",
       "      <td>3.341231</td>\n",
       "      <td>0.950915</td>\n",
       "      <td>3331.004446</td>\n",
       "      <td>-34.874831</td>\n",
       "      <td>144.094202</td>\n",
       "      <td>3.691091</td>\n",
       "      <td>1.304991</td>\n",
       "      <td>1.696592</td>\n",
       "      <td>2.245874</td>\n",
       "      <td>179.908205</td>\n",
       "      <td>3.490257</td>\n",
       "      <td>1.524356e+04</td>\n",
       "      <td>16.812478</td>\n",
       "      <td>93.934142</td>\n",
       "      <td>9.454360</td>\n",
       "      <td>9.304278</td>\n",
       "      <td>9.564401</td>\n",
       "      <td>9.564163</td>\n",
       "      <td>9.496642</td>\n",
       "      <td>9.322234</td>\n",
       "    </tr>\n",
       "    <tr>\n",
       "      <th>std</th>\n",
       "      <td>0.699642</td>\n",
       "      <td>0.133248</td>\n",
       "      <td>1707.037550</td>\n",
       "      <td>3.317148</td>\n",
       "      <td>12.137535</td>\n",
       "      <td>2.417361</td>\n",
       "      <td>0.650026</td>\n",
       "      <td>1.221494</td>\n",
       "      <td>1.925047</td>\n",
       "      <td>250.929688</td>\n",
       "      <td>14.497953</td>\n",
       "      <td>3.650299e+06</td>\n",
       "      <td>33.173900</td>\n",
       "      <td>7.271933</td>\n",
       "      <td>0.767178</td>\n",
       "      <td>0.904210</td>\n",
       "      <td>0.689617</td>\n",
       "      <td>0.699007</td>\n",
       "      <td>0.657469</td>\n",
       "      <td>0.800525</td>\n",
       "    </tr>\n",
       "    <tr>\n",
       "      <th>min</th>\n",
       "      <td>1.000000</td>\n",
       "      <td>0.000000</td>\n",
       "      <td>2000.000000</td>\n",
       "      <td>-43.442554</td>\n",
       "      <td>113.527380</td>\n",
       "      <td>1.000000</td>\n",
       "      <td>0.000000</td>\n",
       "      <td>0.000000</td>\n",
       "      <td>0.000000</td>\n",
       "      <td>0.000000</td>\n",
       "      <td>1.000000</td>\n",
       "      <td>1.000000e+00</td>\n",
       "      <td>0.000000</td>\n",
       "      <td>20.000000</td>\n",
       "      <td>2.000000</td>\n",
       "      <td>2.000000</td>\n",
       "      <td>2.000000</td>\n",
       "      <td>2.000000</td>\n",
       "      <td>2.000000</td>\n",
       "      <td>2.000000</td>\n",
       "    </tr>\n",
       "    <tr>\n",
       "      <th>25%</th>\n",
       "      <td>3.000000</td>\n",
       "      <td>0.950000</td>\n",
       "      <td>2042.000000</td>\n",
       "      <td>-37.809536</td>\n",
       "      <td>144.963535</td>\n",
       "      <td>2.000000</td>\n",
       "      <td>1.000000</td>\n",
       "      <td>1.000000</td>\n",
       "      <td>1.000000</td>\n",
       "      <td>78.000000</td>\n",
       "      <td>1.000000</td>\n",
       "      <td>3.000000e+01</td>\n",
       "      <td>1.000000</td>\n",
       "      <td>93.000000</td>\n",
       "      <td>9.000000</td>\n",
       "      <td>9.000000</td>\n",
       "      <td>9.000000</td>\n",
       "      <td>9.000000</td>\n",
       "      <td>9.000000</td>\n",
       "      <td>9.000000</td>\n",
       "    </tr>\n",
       "    <tr>\n",
       "      <th>50%</th>\n",
       "      <td>3.000000</td>\n",
       "      <td>1.000000</td>\n",
       "      <td>2558.000000</td>\n",
       "      <td>-33.892811</td>\n",
       "      <td>150.930641</td>\n",
       "      <td>3.000000</td>\n",
       "      <td>1.000000</td>\n",
       "      <td>1.000000</td>\n",
       "      <td>2.000000</td>\n",
       "      <td>125.000000</td>\n",
       "      <td>2.000000</td>\n",
       "      <td>1.125000e+03</td>\n",
       "      <td>4.000000</td>\n",
       "      <td>94.000000</td>\n",
       "      <td>10.000000</td>\n",
       "      <td>9.000000</td>\n",
       "      <td>10.000000</td>\n",
       "      <td>10.000000</td>\n",
       "      <td>10.000000</td>\n",
       "      <td>9.000000</td>\n",
       "    </tr>\n",
       "    <tr>\n",
       "      <th>75%</th>\n",
       "      <td>4.000000</td>\n",
       "      <td>1.000000</td>\n",
       "      <td>3185.000000</td>\n",
       "      <td>-33.786060</td>\n",
       "      <td>151.232774</td>\n",
       "      <td>5.000000</td>\n",
       "      <td>1.000000</td>\n",
       "      <td>2.000000</td>\n",
       "      <td>3.000000</td>\n",
       "      <td>200.000000</td>\n",
       "      <td>3.000000</td>\n",
       "      <td>1.125000e+03</td>\n",
       "      <td>17.000000</td>\n",
       "      <td>99.000000</td>\n",
       "      <td>10.000000</td>\n",
       "      <td>10.000000</td>\n",
       "      <td>10.000000</td>\n",
       "      <td>10.000000</td>\n",
       "      <td>10.000000</td>\n",
       "      <td>10.000000</td>\n",
       "    </tr>\n",
       "    <tr>\n",
       "      <th>max</th>\n",
       "      <td>4.000000</td>\n",
       "      <td>1.000000</td>\n",
       "      <td>8720.000000</td>\n",
       "      <td>-15.512408</td>\n",
       "      <td>153.637837</td>\n",
       "      <td>70.000000</td>\n",
       "      <td>40.000000</td>\n",
       "      <td>50.000000</td>\n",
       "      <td>50.000000</td>\n",
       "      <td>15001.000000</td>\n",
       "      <td>1120.000000</td>\n",
       "      <td>1.000000e+09</td>\n",
       "      <td>545.000000</td>\n",
       "      <td>100.000000</td>\n",
       "      <td>10.000000</td>\n",
       "      <td>10.000000</td>\n",
       "      <td>10.000000</td>\n",
       "      <td>10.000000</td>\n",
       "      <td>10.000000</td>\n",
       "      <td>10.000000</td>\n",
       "    </tr>\n",
       "  </tbody>\n",
       "</table>\n",
       "</div>"
      ],
      "text/plain": [
       "       host_response_time  host_response_rate       zipcode      latitude  \\\n",
       "count        75799.000000        75799.000000  75799.000000  75799.000000   \n",
       "mean             3.341231            0.950915   3331.004446    -34.874831   \n",
       "std              0.699642            0.133248   1707.037550      3.317148   \n",
       "min              1.000000            0.000000   2000.000000    -43.442554   \n",
       "25%              3.000000            0.950000   2042.000000    -37.809536   \n",
       "50%              3.000000            1.000000   2558.000000    -33.892811   \n",
       "75%              4.000000            1.000000   3185.000000    -33.786060   \n",
       "max              4.000000            1.000000   8720.000000    -15.512408   \n",
       "\n",
       "          longitude  accommodates     bathrooms      bedrooms          beds  \\\n",
       "count  75799.000000  75799.000000  75799.000000  75799.000000  75799.000000   \n",
       "mean     144.094202      3.691091      1.304991      1.696592      2.245874   \n",
       "std       12.137535      2.417361      0.650026      1.221494      1.925047   \n",
       "min      113.527380      1.000000      0.000000      0.000000      0.000000   \n",
       "25%      144.963535      2.000000      1.000000      1.000000      1.000000   \n",
       "50%      150.930641      3.000000      1.000000      1.000000      2.000000   \n",
       "75%      151.232774      5.000000      1.000000      2.000000      3.000000   \n",
       "max      153.637837     70.000000     40.000000     50.000000     50.000000   \n",
       "\n",
       "              price  minimum_nights  maximum_nights  number_of_reviews  \\\n",
       "count  75799.000000    75799.000000    7.579900e+04       75799.000000   \n",
       "mean     179.908205        3.490257    1.524356e+04          16.812478   \n",
       "std      250.929688       14.497953    3.650299e+06          33.173900   \n",
       "min        0.000000        1.000000    1.000000e+00           0.000000   \n",
       "25%       78.000000        1.000000    3.000000e+01           1.000000   \n",
       "50%      125.000000        2.000000    1.125000e+03           4.000000   \n",
       "75%      200.000000        3.000000    1.125000e+03          17.000000   \n",
       "max    15001.000000     1120.000000    1.000000e+09         545.000000   \n",
       "\n",
       "       review_scores_rating  review_scores_accuracy  \\\n",
       "count          75799.000000            75799.000000   \n",
       "mean              93.934142                9.454360   \n",
       "std                7.271933                0.767178   \n",
       "min               20.000000                2.000000   \n",
       "25%               93.000000                9.000000   \n",
       "50%               94.000000               10.000000   \n",
       "75%               99.000000               10.000000   \n",
       "max              100.000000               10.000000   \n",
       "\n",
       "       review_scores_cleanliness  review_scores_checkin  \\\n",
       "count               75799.000000           75799.000000   \n",
       "mean                    9.304278               9.564401   \n",
       "std                     0.904210               0.689617   \n",
       "min                     2.000000               2.000000   \n",
       "25%                     9.000000               9.000000   \n",
       "50%                     9.000000              10.000000   \n",
       "75%                    10.000000              10.000000   \n",
       "max                    10.000000              10.000000   \n",
       "\n",
       "       review_scores_communication  review_scores_location  \\\n",
       "count                 75799.000000            75799.000000   \n",
       "mean                      9.564163                9.496642   \n",
       "std                       0.699007                0.657469   \n",
       "min                       2.000000                2.000000   \n",
       "25%                       9.000000                9.000000   \n",
       "50%                      10.000000               10.000000   \n",
       "75%                      10.000000               10.000000   \n",
       "max                      10.000000               10.000000   \n",
       "\n",
       "       review_scores_value  \n",
       "count         75799.000000  \n",
       "mean              9.322234  \n",
       "std               0.800525  \n",
       "min               2.000000  \n",
       "25%               9.000000  \n",
       "50%               9.000000  \n",
       "75%              10.000000  \n",
       "max              10.000000  "
      ]
     },
     "execution_count": 4,
     "metadata": {},
     "output_type": "execute_result"
    }
   ],
   "source": [
    "print \"Number of columns in numeric dataset:\", len(df_listing3num.columns)\n",
    "df_listing3num.describe()"
   ]
  },
  {
   "cell_type": "markdown",
   "metadata": {},
   "source": [
    "## 6. Get dummies variables of the objects dataset"
   ]
  },
  {
   "cell_type": "code",
   "execution_count": 5,
   "metadata": {},
   "outputs": [],
   "source": [
    "dummies = pd.get_dummies(df_listing3obj)"
   ]
  },
  {
   "cell_type": "markdown",
   "metadata": {},
   "source": [
    "## 7. Merge the objects dataset and numeric dataset to final dataset"
   ]
  },
  {
   "cell_type": "code",
   "execution_count": 6,
   "metadata": {},
   "outputs": [],
   "source": [
    "df_listing_final = df_listing3num.merge(dummies, left_index = True, right_index = True,how = 'outer')#merge back"
   ]
  },
  {
   "cell_type": "code",
   "execution_count": 7,
   "metadata": {},
   "outputs": [
    {
     "name": "stdout",
     "output_type": "stream",
     "text": [
      "Number of rows: 75799\n",
      "Number of columns: 93\n",
      "------------------------------------\n",
      "\n",
      "Data Types\n",
      "host_response_time                                   int64\n",
      "host_response_rate                                 float64\n",
      "zipcode                                              int64\n",
      "latitude                                           float64\n",
      "longitude                                          float64\n",
      "accommodates                                         int64\n",
      "bathrooms                                            int64\n",
      "bedrooms                                             int64\n",
      "beds                                                 int64\n",
      "price                                              float64\n",
      "minimum_nights                                       int64\n",
      "maximum_nights                                       int64\n",
      "number_of_reviews                                    int64\n",
      "review_scores_rating                                 int64\n",
      "review_scores_accuracy                               int64\n",
      "review_scores_cleanliness                            int64\n",
      "review_scores_checkin                                int64\n",
      "review_scores_communication                          int64\n",
      "review_scores_location                               int64\n",
      "review_scores_value                                  int64\n",
      "host_is_superhost_f                                  uint8\n",
      "host_is_superhost_t                                  uint8\n",
      "host_has_profile_pic_None                            uint8\n",
      "host_has_profile_pic_f                               uint8\n",
      "host_has_profile_pic_t                               uint8\n",
      "host_identity_verified_None                          uint8\n",
      "host_identity_verified_f                             uint8\n",
      "host_identity_verified_t                             uint8\n",
      "is_location_exact_f                                  uint8\n",
      "is_location_exact_t                                  uint8\n",
      "                                                    ...   \n",
      "property_type_Resort                                 uint8\n",
      "property_type_Serviced apartment                     uint8\n",
      "property_type_Tent                                   uint8\n",
      "property_type_Tiny house                             uint8\n",
      "property_type_Tipi                                   uint8\n",
      "property_type_Townhouse                              uint8\n",
      "property_type_Train                                  uint8\n",
      "property_type_Treehouse                              uint8\n",
      "property_type_Vacation home                          uint8\n",
      "property_type_Villa                                  uint8\n",
      "property_type_Yurt                                   uint8\n",
      "room_type_Entire home/apt                            uint8\n",
      "room_type_Private room                               uint8\n",
      "room_type_Shared room                                uint8\n",
      "bed_type_Airbed                                      uint8\n",
      "bed_type_Couch                                       uint8\n",
      "bed_type_Futon                                       uint8\n",
      "bed_type_Pull-out Sofa                               uint8\n",
      "bed_type_Real Bed                                    uint8\n",
      "instant_bookable_f                                   uint8\n",
      "instant_bookable_t                                   uint8\n",
      "cancellation_policy_flexible                         uint8\n",
      "cancellation_policy_moderate                         uint8\n",
      "cancellation_policy_strict_14_with_grace_period      uint8\n",
      "cancellation_policy_super_strict_30                  uint8\n",
      "cancellation_policy_super_strict_60                  uint8\n",
      "require_guest_profile_picture_f                      uint8\n",
      "require_guest_profile_picture_t                      uint8\n",
      "require_guest_phone_verification_f                   uint8\n",
      "require_guest_phone_verification_t                   uint8\n",
      "Length: 93, dtype: object\n"
     ]
    }
   ],
   "source": [
    "#See the shape and data types of the final dataset\n",
    "print 'Number of rows:', df_listing_final.shape[0]\n",
    "print 'Number of columns:', df_listing_final.shape[1]\n",
    "print '------------------------------------\\n'\n",
    "\n",
    "print \"Data Types\"\n",
    "print df_listing_final.dtypes"
   ]
  },
  {
   "cell_type": "markdown",
   "metadata": {},
   "source": [
    "## Price (Target variables)"
   ]
  },
  {
   "cell_type": "code",
   "execution_count": 8,
   "metadata": {},
   "outputs": [
    {
     "data": {
      "image/png": "[encoded data removed]",
      "text/plain": [
       "<Figure size 432x288 with 1 Axes>"
      ]
     },
     "metadata": {},
     "output_type": "display_data"
    },
    {
     "data": {
      "text/plain": [
       "100.0    2488\n",
       "120.0    2255\n",
       "150.0    2075\n",
       "50.0     1935\n",
       "250.0    1800\n",
       "200.0    1799\n",
       "70.0     1720\n",
       "80.0     1476\n",
       "90.0     1325\n",
       "65.0     1296\n",
       "Name: price, dtype: int64"
      ]
     },
     "execution_count": 8,
     "metadata": {},
     "output_type": "execute_result"
    }
   ],
   "source": [
    "plt.hist(df_listing_final['price'], bins=100)\n",
    "plt.title(\"Histogram of Pricing\")\n",
    "plt.xlabel(\"Pricing (AUD) Per Day\")\n",
    "plt.ylabel(\"Frequency\")\n",
    "plt.show()\n",
    "\n",
    "\n",
    "df_listing_final['price'].value_counts().head(10)"
   ]
  },
  {
   "cell_type": "markdown",
   "metadata": {},
   "source": [
    "We see the distribution for pricing is highly right skewed. This again makes sense as a majority of the listings on Airbnb are single individual listings. Additionally, Airbnb does strongly cater to travelers who are looking for cheaper places to stay for short durations of time. There are of course listings with a high pricing as well; intuitively this matches with hosts that are listing a high value property such as castles.\n",
    "\n",
    "However, our target would be price below AUD 200 because majority of traveller see Airbnb as affordable, convenient housing options and 70% of traveller prefer to stay in an entire home (SSTH Blog Survey, 2016). With the price below AUD 200, you could get very good deal."
   ]
  },
  {
   "cell_type": "code",
   "execution_count": 9,
   "metadata": {},
   "outputs": [],
   "source": [
    "df_listing_final=df_listing_final.drop(df_listing_final[df_listing_final['price'] > 200].index, axis=0)\n",
    "df_listing_final=df_listing_final.reset_index(drop=True)"
   ]
  },
  {
   "cell_type": "code",
   "execution_count": 10,
   "metadata": {},
   "outputs": [
    {
     "data": {
      "image/png": "[encoded data removed]",
      "text/plain": [
       "<Figure size 432x288 with 1 Axes>"
      ]
     },
     "metadata": {},
     "output_type": "display_data"
    },
    {
     "data": {
      "text/plain": [
       "100.0    2488\n",
       "120.0    2255\n",
       "150.0    2075\n",
       "50.0     1935\n",
       "200.0    1799\n",
       "70.0     1720\n",
       "80.0     1476\n",
       "90.0     1325\n",
       "65.0     1296\n",
       "130.0    1237\n",
       "Name: price, dtype: int64"
      ]
     },
     "execution_count": 10,
     "metadata": {},
     "output_type": "execute_result"
    }
   ],
   "source": [
    "plt.hist(df_listing_final['price'], bins=20)\n",
    "plt.title(\"Histogram of Pricing- Target\")\n",
    "plt.xlabel(\"Pricing (AUD) Per Day\")\n",
    "plt.ylabel(\"Frequency\")\n",
    "plt.show()\n",
    "\n",
    "\n",
    "df_listing_final['price'].value_counts().head(10)"
   ]
  },
  {
   "cell_type": "markdown",
   "metadata": {},
   "source": [
    "We could see the the distribution for targeted price is left skewed."
   ]
  },
  {
   "cell_type": "markdown",
   "metadata": {},
   "source": [
    "## Host response time and rate"
   ]
  },
  {
   "cell_type": "code",
   "execution_count": 11,
   "metadata": {},
   "outputs": [
    {
     "name": "stdout",
     "output_type": "stream",
     "text": [
      "Correlationship of host_response_rate and host_response_time\n",
      "0.5721303975743864\n"
     ]
    }
   ],
   "source": [
    "print 'Correlationship of host_response_rate and host_response_time'\n",
    "print df_listing_final.host_response_rate[df_listing_final['host_response_time']>0].corr(df_listing_final.host_response_time[df_listing_final['host_response_time']>0])"
   ]
  },
  {
   "cell_type": "code",
   "execution_count": 13,
   "metadata": {
    "scrolled": true
   },
   "outputs": [
    {
     "name": "stdout",
     "output_type": "stream",
     "text": [
      "Frequency of host_response\n",
      "4    27513\n",
      "3    25410\n",
      "2     4269\n",
      "1      948\n",
      "Name: host_response_time, dtype: int64\n"
     ]
    },
    {
     "data": {
      "image/png": "[encoded data removed]",
      "text/plain": [
       "<Figure size 1080x216 with 1 Axes>"
      ]
     },
     "metadata": {},
     "output_type": "display_data"
    }
   ],
   "source": [
    "ax = df_listing_final.host_response_time[df_listing_final['host_response_time']>0].value_counts().plot(kind='bar', figsize=(15,3))\n",
    "\n",
    "# set the title\n",
    "ax.set_title(\"Host_response_time\", fontsize=21, y=1.01)\n",
    "\n",
    "\n",
    "# y-axis labels\n",
    "ax.set_ylabel('Frequency', fontsize=16)\n",
    "\n",
    "ax.set\n",
    "\n",
    "\n",
    "\n",
    "# explore distribution of accommodates\n",
    "print 'Frequency of host_response'\n",
    "print df_listing_final.host_response_time[df_listing_final['host_response_time']>0].value_counts()"
   ]
  },
  {
   "cell_type": "code",
   "execution_count": 14,
   "metadata": {},
   "outputs": [
    {
     "data": {
      "image/png": "[encoded data removed]",
      "text/plain": [
       "<Figure size 432x288 with 1 Axes>"
      ]
     },
     "metadata": {},
     "output_type": "display_data"
    },
    {
     "name": "stdout",
     "output_type": "stream",
     "text": [
      "Frequency of host response rate\n",
      "1.00    32568\n",
      "0.95    19591\n",
      "0.90      877\n",
      "0.00      683\n",
      "0.80      414\n",
      "0.50      412\n",
      "0.98      270\n",
      "0.99      252\n",
      "0.67      251\n",
      "0.96      246\n",
      "0.75      209\n",
      "0.97      201\n",
      "0.92      180\n",
      "0.70      173\n",
      "0.83      164\n",
      "0.91      154\n",
      "0.78      152\n",
      "0.86      145\n",
      "0.88      134\n",
      "0.76      120\n",
      "0.89      107\n",
      "0.60      105\n",
      "0.33       95\n",
      "0.93       94\n",
      "0.94       88\n",
      "0.71       60\n",
      "0.40       47\n",
      "0.25       36\n",
      "0.84       31\n",
      "0.68       27\n",
      "        ...  \n",
      "0.20       19\n",
      "0.63       18\n",
      "0.79       17\n",
      "0.06       17\n",
      "0.57       15\n",
      "0.58       15\n",
      "0.43       15\n",
      "0.61       14\n",
      "0.73       13\n",
      "0.81       10\n",
      "0.72        9\n",
      "0.85        9\n",
      "0.77        7\n",
      "0.87        7\n",
      "0.30        6\n",
      "0.17        6\n",
      "0.56        6\n",
      "0.65        6\n",
      "0.55        3\n",
      "0.38        3\n",
      "0.14        3\n",
      "0.44        2\n",
      "0.32        2\n",
      "0.62        2\n",
      "0.13        2\n",
      "0.29        2\n",
      "0.42        2\n",
      "0.11        1\n",
      "0.59        1\n",
      "0.22        1\n",
      "Name: host_response_rate, Length: 61, dtype: int64\n"
     ]
    }
   ],
   "source": [
    "plt.hist(df_listing_final.host_response_rate[df_listing_final['host_response_time']>0], bins=50)\n",
    "\n",
    "plt.title(\"Host response rate\")\n",
    "plt.xlabel(\"Host response rate\")\n",
    "plt.ylabel(\"Frequency\")\n",
    "plt.show()\n",
    "\n",
    "# explore distribution of accommodates\n",
    "print 'Frequency of host response rate'\n",
    "print df_listing_final.host_response_rate[df_listing_final['host_response_time']>0].value_counts()"
   ]
  },
  {
   "cell_type": "markdown",
   "metadata": {},
   "source": [
    "We see that a majority of host response within one hours and response rate from 0.95 to 1.00. The are host response time and response rate are positive corelated."
   ]
  },
  {
   "cell_type": "markdown",
   "metadata": {},
   "source": [
    "## Accomodates, bedrooms and beds"
   ]
  },
  {
   "cell_type": "code",
   "execution_count": 15,
   "metadata": {
    "scrolled": false
   },
   "outputs": [
    {
     "data": {
      "image/png": "[encoded data removed]",
      "text/plain": [
       "<Figure size 432x288 with 1 Axes>"
      ]
     },
     "metadata": {},
     "output_type": "display_data"
    },
    {
     "name": "stdout",
     "output_type": "stream",
     "text": [
      "Number of bedrooms\n",
      "1     36971\n",
      "2     12829\n",
      "3      3714\n",
      "0      3493\n",
      "4       930\n",
      "5       131\n",
      "6        30\n",
      "10       12\n",
      "7         8\n",
      "50        7\n",
      "8         6\n",
      "12        3\n",
      "16        1\n",
      "9         1\n",
      "13        1\n",
      "14        1\n",
      "46        1\n",
      "15        1\n",
      "Name: bedrooms, dtype: int64\n"
     ]
    }
   ],
   "source": [
    "plt.hist(df_listing_final['bedrooms'], bins=50)\n",
    "plt.title(\"Bedrooms\")\n",
    "plt.xlabel(\"Number of bedrooms\")\n",
    "plt.ylabel(\"Frequency\")\n",
    "plt.show()\n",
    "\n",
    "# explore distribution of accommodates\n",
    "print 'Number of bedrooms'\n",
    "print df_listing_final.bedrooms.value_counts()"
   ]
  },
  {
   "cell_type": "code",
   "execution_count": 16,
   "metadata": {},
   "outputs": [
    {
     "name": "stdout",
     "output_type": "stream",
     "text": [
      "The precentage of listings that owned 1-10 rooms: 94.02%\n"
     ]
    }
   ],
   "source": [
    "print \"The precentage of listings that owned 1-10 rooms:\", str(round(float((df_listing_final['bedrooms']>10).sum()+(df_listing_final['bedrooms']!=0).sum())/(df_listing_final.shape[0])*100, 2))+\"%\""
   ]
  },
  {
   "cell_type": "code",
   "execution_count": 17,
   "metadata": {
    "scrolled": false
   },
   "outputs": [
    {
     "name": "stdout",
     "output_type": "stream",
     "text": [
      "Number of accomodation per bedroom\n"
     ]
    },
    {
     "data": {
      "text/html": [
       "<div>\n",
       "<style scoped>\n",
       "    .dataframe tbody tr th:only-of-type {\n",
       "        vertical-align: middle;\n",
       "    }\n",
       "\n",
       "    .dataframe tbody tr th {\n",
       "        vertical-align: top;\n",
       "    }\n",
       "\n",
       "    .dataframe thead th {\n",
       "        text-align: right;\n",
       "    }\n",
       "</style>\n",
       "<table border=\"1\" class=\"dataframe\">\n",
       "  <thead>\n",
       "    <tr style=\"text-align: right;\">\n",
       "      <th></th>\n",
       "      <th></th>\n",
       "      <th>beds</th>\n",
       "    </tr>\n",
       "    <tr>\n",
       "      <th>bedrooms</th>\n",
       "      <th>accommodates</th>\n",
       "      <th></th>\n",
       "    </tr>\n",
       "  </thead>\n",
       "  <tbody>\n",
       "    <tr>\n",
       "      <th rowspan=\"10\" valign=\"top\">0</th>\n",
       "      <th>1</th>\n",
       "      <td>265</td>\n",
       "    </tr>\n",
       "    <tr>\n",
       "      <th>2</th>\n",
       "      <td>2363</td>\n",
       "    </tr>\n",
       "    <tr>\n",
       "      <th>3</th>\n",
       "      <td>356</td>\n",
       "    </tr>\n",
       "    <tr>\n",
       "      <th>4</th>\n",
       "      <td>411</td>\n",
       "    </tr>\n",
       "    <tr>\n",
       "      <th>5</th>\n",
       "      <td>41</td>\n",
       "    </tr>\n",
       "    <tr>\n",
       "      <th>6</th>\n",
       "      <td>33</td>\n",
       "    </tr>\n",
       "    <tr>\n",
       "      <th>7</th>\n",
       "      <td>1</td>\n",
       "    </tr>\n",
       "    <tr>\n",
       "      <th>8</th>\n",
       "      <td>4</td>\n",
       "    </tr>\n",
       "    <tr>\n",
       "      <th>10</th>\n",
       "      <td>4</td>\n",
       "    </tr>\n",
       "    <tr>\n",
       "      <th>16</th>\n",
       "      <td>15</td>\n",
       "    </tr>\n",
       "    <tr>\n",
       "      <th rowspan=\"2\" valign=\"top\">12</th>\n",
       "      <th>12</th>\n",
       "      <td>1</td>\n",
       "    </tr>\n",
       "    <tr>\n",
       "      <th>16</th>\n",
       "      <td>2</td>\n",
       "    </tr>\n",
       "    <tr>\n",
       "      <th>13</th>\n",
       "      <th>16</th>\n",
       "      <td>1</td>\n",
       "    </tr>\n",
       "    <tr>\n",
       "      <th>14</th>\n",
       "      <th>16</th>\n",
       "      <td>1</td>\n",
       "    </tr>\n",
       "    <tr>\n",
       "      <th>15</th>\n",
       "      <th>16</th>\n",
       "      <td>1</td>\n",
       "    </tr>\n",
       "    <tr>\n",
       "      <th>16</th>\n",
       "      <th>16</th>\n",
       "      <td>1</td>\n",
       "    </tr>\n",
       "    <tr>\n",
       "      <th>46</th>\n",
       "      <th>1</th>\n",
       "      <td>1</td>\n",
       "    </tr>\n",
       "    <tr>\n",
       "      <th rowspan=\"2\" valign=\"top\">50</th>\n",
       "      <th>4</th>\n",
       "      <td>1</td>\n",
       "    </tr>\n",
       "    <tr>\n",
       "      <th>16</th>\n",
       "      <td>6</td>\n",
       "    </tr>\n",
       "  </tbody>\n",
       "</table>\n",
       "</div>"
      ],
      "text/plain": [
       "                       beds\n",
       "bedrooms accommodates      \n",
       "0        1              265\n",
       "         2             2363\n",
       "         3              356\n",
       "         4              411\n",
       "         5               41\n",
       "         6               33\n",
       "         7                1\n",
       "         8                4\n",
       "         10               4\n",
       "         16              15\n",
       "12       12               1\n",
       "         16               2\n",
       "13       16               1\n",
       "14       16               1\n",
       "15       16               1\n",
       "16       16               1\n",
       "46       1                1\n",
       "50       4                1\n",
       "         16               6"
      ]
     },
     "execution_count": 17,
     "metadata": {},
     "output_type": "execute_result"
    }
   ],
   "source": [
    "print \"Number of accomodation per bedroom\"\n",
    "df_bedroom = df_listing_final.loc[(df_listing_final['bedrooms']>10)|(df_listing_final['bedrooms']==0)]\n",
    "df_bedroom.groupby(['bedrooms','accommodates']).count()[['beds']]"
   ]
  },
  {
   "cell_type": "markdown",
   "metadata": {},
   "source": [
    "It does not make sense if the travelers could rent more than 10 bedrooms with a price below AUD200 or accommodate travelers without a single bedroom. The possible explanation is the hosts listed all the bedrooms that they owed in single listing, however, the bedrooms are seperately rent out. The listing with no bedroom might referring to studio or errors. Further, these outliers represent only 6% of the population. Hence, these listing should be excluded from the analysis. "
   ]
  },
  {
   "cell_type": "code",
   "execution_count": 18,
   "metadata": {},
   "outputs": [],
   "source": [
    "df_listing_final.drop(df_listing_final[(df_listing_final['bedrooms']>10)].index | df_listing_final[(df_listing_final['bedrooms']==0)].index, inplace=True, axis=0)\n"
   ]
  },
  {
   "cell_type": "code",
   "execution_count": 19,
   "metadata": {},
   "outputs": [
    {
     "data": {
      "image/png": "[encoded data removed]",
      "text/plain": [
       "<Figure size 432x288 with 1 Axes>"
      ]
     },
     "metadata": {},
     "output_type": "display_data"
    },
    {
     "name": "stdout",
     "output_type": "stream",
     "text": [
      "Number of bedrooms\n",
      "1     36971\n",
      "2     12829\n",
      "3      3714\n",
      "4       930\n",
      "5       131\n",
      "6        30\n",
      "10       12\n",
      "7         8\n",
      "8         6\n",
      "9         1\n",
      "Name: bedrooms, dtype: int64\n"
     ]
    }
   ],
   "source": [
    "plt.hist(df_listing_final['bedrooms'], bins=50)\n",
    "plt.title(\"Bedrooms\")\n",
    "plt.xlabel(\"Number of bedrooms\")\n",
    "plt.ylabel(\"Frequency\")\n",
    "plt.show()\n",
    "\n",
    "# explore distribution of accommodates\n",
    "print 'Number of bedrooms'\n",
    "print df_listing_final.bedrooms.value_counts()"
   ]
  },
  {
   "cell_type": "code",
   "execution_count": 60,
   "metadata": {},
   "outputs": [
    {
     "data": {
      "image/png": "[encoded data removed]",
      "text/plain": [
       "<Figure size 432x288 with 1 Axes>"
      ]
     },
     "metadata": {},
     "output_type": "display_data"
    },
    {
     "name": "stdout",
     "output_type": "stream",
     "text": [
      "Number of accommodates\n",
      "2     26028\n",
      "4     10487\n",
      "1      5791\n",
      "6      3921\n",
      "3      3807\n",
      "5      2499\n",
      "8       890\n",
      "7       608\n",
      "10      200\n",
      "9       176\n",
      "12       85\n",
      "16       47\n",
      "11       43\n",
      "14       21\n",
      "13       18\n",
      "15       11\n",
      "Name: accommodates, dtype: int64\n"
     ]
    }
   ],
   "source": [
    "plt.hist(df_listing_final['accommodates'], bins=(50))\n",
    "plt.title(\"Accommodates\")\n",
    "plt.xlabel(\"Accommodates\")\n",
    "plt.ylabel(\"Frequency\")\n",
    "plt.show()\n",
    "\n",
    "# explore distribution of accommodates\n",
    "print 'Number of accommodates'\n",
    "print df_listing_final.accommodates.value_counts()"
   ]
  },
  {
   "cell_type": "code",
   "execution_count": 61,
   "metadata": {},
   "outputs": [
    {
     "name": "stdout",
     "output_type": "stream",
     "text": [
      "Correlationship of accommodation and bedrooms\n",
      "0.7922875008342803\n"
     ]
    }
   ],
   "source": [
    "print 'Correlationship of accommodation and bedrooms'\n",
    "print df_listing_final.accommodates.corr(df_listing_final.bedrooms)"
   ]
  },
  {
   "cell_type": "code",
   "execution_count": 62,
   "metadata": {},
   "outputs": [
    {
     "data": {
      "image/png": "[encoded data removed]",
      "text/plain": [
       "<Figure size 432x288 with 1 Axes>"
      ]
     },
     "metadata": {},
     "output_type": "display_data"
    },
    {
     "name": "stdout",
     "output_type": "stream",
     "text": [
      "Number of beds\n",
      "1     35775\n",
      "2     16584\n",
      "3      9382\n",
      "4      6349\n",
      "5      3349\n",
      "6      1997\n",
      "7       826\n",
      "8       645\n",
      "0       232\n",
      "9       201\n",
      "10      198\n",
      "11       71\n",
      "12       70\n",
      "16       39\n",
      "50       24\n",
      "14       22\n",
      "13       15\n",
      "15       10\n",
      "17        3\n",
      "18        3\n",
      "29        1\n",
      "19        1\n",
      "20        1\n",
      "21        1\n",
      "Name: beds, dtype: int64\n"
     ]
    }
   ],
   "source": [
    "plt.hist(df_listing_final['beds'], bins=50)\n",
    "plt.title(\"Beds\")\n",
    "plt.xlabel(\"Number of beds\")\n",
    "plt.ylabel(\"Frequency\")\n",
    "plt.show()\n",
    "\n",
    "# explore distribution of accommodates\n",
    "print 'Number of beds'\n",
    "print df_listing3.beds.value_counts()"
   ]
  },
  {
   "cell_type": "code",
   "execution_count": 63,
   "metadata": {},
   "outputs": [
    {
     "name": "stdout",
     "output_type": "stream",
     "text": [
      "Correlationship of accommodation and beds\n",
      "0.8220800832244604\n"
     ]
    }
   ],
   "source": [
    "print 'Correlationship of accommodation and beds'\n",
    "print df_listing_final.accommodates.corr(df_listing_final.beds)"
   ]
  },
  {
   "cell_type": "code",
   "execution_count": 64,
   "metadata": {},
   "outputs": [
    {
     "name": "stdout",
     "output_type": "stream",
     "text": [
      "Correlationship of bedrooms and beds\n",
      "0.7293924322269504\n"
     ]
    }
   ],
   "source": [
    "print 'Correlationship of bedrooms and beds'\n",
    "print df_listing_final.bedrooms.corr(df_listing_final.beds)"
   ]
  },
  {
   "cell_type": "markdown",
   "metadata": {},
   "source": [
    "We see that a majority of listings have accommodations for 1-4 people. 1 bedroom with 1 bed typically accommodates 2 individuals. Furthermore, majority of accommodation have 1 bathrooms, it is reasonable to conclude that 1 bathroom can accommodate 1 to 4 people."
   ]
  },
  {
   "cell_type": "markdown",
   "metadata": {},
   "source": [
    "## Property type"
   ]
  },
  {
   "cell_type": "markdown",
   "metadata": {},
   "source": [
    "### From the bar graph, we could see the highest average price go to Castle type and followed by Boat. The lowest average price go to Vacation home, followed by Dormitory."
   ]
  },
  {
   "cell_type": "code",
   "execution_count": 65,
   "metadata": {},
   "outputs": [
    {
     "name": "stdout",
     "output_type": "stream",
     "text": [
      "Number of property type\n",
      "Apartment            35885\n",
      "House                25026\n",
      "Townhouse             3534\n",
      "Guest suite           1348\n",
      "Guesthouse            1331\n",
      "Bed and breakfast     1318\n",
      "Villa                 1079\n",
      "Condominium           1070\n",
      "Cottage                724\n",
      "Bungalow               695\n",
      "Name: property_type, dtype: int64\n"
     ]
    },
    {
     "data": {
      "image/png": "[encoded data removed]",
      "text/plain": [
       "<Figure size 576x360 with 1 Axes>"
      ]
     },
     "metadata": {},
     "output_type": "display_data"
    }
   ],
   "source": [
    "ax = df_listing3.property_type.value_counts().head(10).sort_values(ascending=True).plot(kind='barh', figsize=(8,5))\n",
    "\n",
    "# set the title\n",
    "ax.set_title(\"Property type\", fontsize=21, y=1.01)\n",
    "\n",
    "\n",
    "# x-axis labels\n",
    "ax.set_ylabel('Property type', fontsize=16)\n",
    "\n",
    "# y-axis labels\n",
    "ax.set_xlabel('Number', fontsize=16)\n",
    "\n",
    "\n",
    "\n",
    "# explore distribution of accommodates\n",
    "print 'Number of property type'\n",
    "print df_listing3.property_type.value_counts().head(10)\n",
    "\n"
   ]
  },
  {
   "cell_type": "markdown",
   "metadata": {},
   "source": [
    " We see that majority of hosts own Apartment and House in Australia."
   ]
  },
  {
   "cell_type": "markdown",
   "metadata": {},
   "source": [
    "## Review Scores rating"
   ]
  },
  {
   "cell_type": "code",
   "execution_count": 66,
   "metadata": {},
   "outputs": [
    {
     "data": {
      "image/png": "[encoded data removed]",
      "text/plain": [
       "<Figure size 432x288 with 1 Axes>"
      ]
     },
     "metadata": {},
     "output_type": "display_data"
    },
    {
     "name": "stdout",
     "output_type": "stream",
     "text": [
      "Review Scores_Ratings\n",
      "93     15905\n",
      "100    12238\n",
      "97      3379\n",
      "98      3206\n",
      "96      2812\n",
      "95      2461\n",
      "99      2235\n",
      "90      2103\n",
      "80      1907\n",
      "94      1666\n",
      "92      1218\n",
      "91       960\n",
      "87       702\n",
      "89       631\n",
      "88       587\n",
      "60       395\n",
      "85       352\n",
      "84       274\n",
      "86       266\n",
      "83       217\n",
      "70       178\n",
      "73       130\n",
      "20       104\n",
      "40       103\n",
      "82        92\n",
      "75        71\n",
      "76        62\n",
      "77        56\n",
      "67        49\n",
      "78        45\n",
      "81        40\n",
      "50        39\n",
      "79        30\n",
      "72        18\n",
      "74        15\n",
      "65        13\n",
      "68        10\n",
      "69         9\n",
      "71         9\n",
      "53         8\n",
      "47         7\n",
      "66         7\n",
      "55         6\n",
      "63         4\n",
      "58         2\n",
      "44         1\n",
      "46         1\n",
      "36         1\n",
      "48         1\n",
      "51         1\n",
      "52         1\n",
      "54         1\n",
      "30         1\n",
      "56         1\n",
      "57         1\n",
      "64         1\n",
      "Name: review_scores_rating, dtype: int64\n"
     ]
    }
   ],
   "source": [
    "plt.hist(df_listing_final.review_scores_rating, bins=50)\n",
    "plt.title(\"Review Scores_Rating\")\n",
    "plt.xlabel(\"Review Scores_Rating\")\n",
    "plt.ylabel(\"Frequency\")\n",
    "plt.show()\n",
    "\n",
    "# explore distribution of accommodates\n",
    "print 'Review Scores_Ratings'\n",
    "print df_listing_final.review_scores_rating.value_counts()"
   ]
  },
  {
   "cell_type": "markdown",
   "metadata": {},
   "source": [
    "We see a majority of listing achieved a scores rating from 90 to 100%. Let see whether superhosts achieved better rating than Non-superhosts."
   ]
  },
  {
   "cell_type": "markdown",
   "metadata": {},
   "source": [
    "## Superhosts vs Non-superhosts"
   ]
  },
  {
   "cell_type": "code",
   "execution_count": 67,
   "metadata": {},
   "outputs": [],
   "source": [
    "# Split supersuperhost and Normal hosts\n",
    "df_is_superhost = df_listing3[df_listing3['host_is_superhost']=='t']\n",
    "df_not_superhost = df_listing3[df_listing3['host_is_superhost']=='f']"
   ]
  },
  {
   "cell_type": "markdown",
   "metadata": {},
   "source": [
    "### Review Scores Rating"
   ]
  },
  {
   "cell_type": "code",
   "execution_count": 68,
   "metadata": {},
   "outputs": [
    {
     "name": "stderr",
     "output_type": "stream",
     "text": [
      "D:\\Users\\ivans\\Anaconda2\\lib\\site-packages\\matplotlib\\axes\\_axes.py:6462: UserWarning: The 'normed' kwarg is deprecated, and has been replaced by the 'density' kwarg.\n",
      "  warnings.warn(\"The 'normed' kwarg is deprecated, and has been \"\n"
     ]
    },
    {
     "data": {
      "image/png": "[encoded data removed]",
      "text/plain": [
       "<Figure size 720x360 with 1 Axes>"
      ]
     },
     "metadata": {},
     "output_type": "display_data"
    },
    {
     "name": "stdout",
     "output_type": "stream",
     "text": [
      "Superhost Overall Average Rating: 97.2490587895\n",
      "Percentage of superhost with score over 95: 83.47%\n",
      "------------------------------------\n",
      "\n",
      "Non-superhost Overall Average Rating: 93.1955087357\n",
      "Percentage of non-superhost with score over 95: 34.87%\n"
     ]
    }
   ],
   "source": [
    "# Create the `matplotlib` figure and get the axis.\n",
    "# Initialize a `matplotlib` figure.\n",
    "fig = plt.figure(figsize=(10,5))\n",
    "\n",
    "# Get the current axis out of the figure.\n",
    "ax = fig.gca()\n",
    "\n",
    "ax = sns.distplot(df_is_superhost.review_scores_rating, bins=50, color='steelblue', ax=ax)\n",
    "ax = sns.distplot(df_not_superhost.review_scores_rating, bins=50, color='darkred', ax=ax)\n",
    "plt.title(\"Review Scores Rating\")\n",
    "plt.xlabel(\"Review Scores Rating\")\n",
    "plt.ylabel(\"Frequency\")\n",
    "plt.legend(['Superhosts', 'Non-superhost'])\n",
    "plt.show()\n",
    "\n",
    "# explore distribution of overall score\n",
    "print 'Superhost Overall Average Rating:', df_is_superhost.review_scores_rating.mean()\n",
    "print 'Percentage of superhost with score over 95:', str(round(float((len(df_is_superhost[df_is_superhost.review_scores_rating>95]))/(float(len(df_is_superhost.review_scores_rating)))*100), 2))+\"%\"\n",
    "\n",
    "print '------------------------------------\\n'\n",
    "print 'Non-superhost Overall Average Rating:', df_not_superhost.review_scores_rating.mean()\n",
    "print 'Percentage of non-superhost with score over 95:', str(round(float((len(df_not_superhost[df_not_superhost.review_scores_rating>95]))/(float(len(df_not_superhost.review_scores_rating)))*100), 2))+\"%\""
   ]
  },
  {
   "cell_type": "markdown",
   "metadata": {},
   "source": [
    "From the distribution graph, we could see that over 83% of the superhosts achieved score more than 95 while only 35% of the non-superhosts achieved the same score."
   ]
  },
  {
   "cell_type": "markdown",
   "metadata": {},
   "source": [
    "### Review Scores Accuracy"
   ]
  },
  {
   "cell_type": "code",
   "execution_count": 69,
   "metadata": {},
   "outputs": [
    {
     "data": {
      "image/png": "[encoded data removed]",
      "text/plain": [
       "<Figure size 720x360 with 1 Axes>"
      ]
     },
     "metadata": {},
     "output_type": "display_data"
    },
    {
     "name": "stdout",
     "output_type": "stream",
     "text": [
      "Superhost Overall Average Accuracy: 9.87177816392\n",
      "Percentage of superhost with perfect score: 88.04%\n",
      "------------------------------------\n",
      "\n",
      "Non-superhost Overall Average Accuracy: 9.36134996048\n",
      "Percentage of non-superhost with perfect score: 46.61%\n"
     ]
    }
   ],
   "source": [
    "# Create the `matplotlib` figure and get the axis.\n",
    "# Initialize a `matplotlib` figure.\n",
    "fig = plt.figure(figsize=(10,5))\n",
    "\n",
    "# Get the current axis out of the figure.\n",
    "ax = fig.gca()\n",
    "\n",
    "ax = sns.distplot(df_is_superhost.review_scores_accuracy, bins=50, color='steelblue', ax=ax)\n",
    "ax = sns.distplot(df_not_superhost.review_scores_accuracy, bins=50, color='darkred', ax=ax)\n",
    "plt.title(\"Review Scores Accuracy\")\n",
    "plt.xlabel(\"Review Scores Accuracy\")\n",
    "plt.ylabel(\"Frequency\")\n",
    "plt.legend(['Superhosts', 'Non-superhost'])\n",
    "plt.show()\n",
    "\n",
    "\n",
    "# explore distribution of Accuracy score\n",
    "print 'Superhost Overall Average Accuracy:', df_is_superhost.review_scores_accuracy.mean()\n",
    "print 'Percentage of superhost with perfect score:', str(round(float((len(df_is_superhost[df_is_superhost.review_scores_accuracy==10]))/(float(len(df_is_superhost.review_scores_accuracy)))*100), 2))+\"%\"\n",
    "\n",
    "print '------------------------------------\\n'\n",
    "print 'Non-superhost Overall Average Accuracy:', df_not_superhost.review_scores_accuracy.mean()\n",
    "print 'Percentage of non-superhost with perfect score:', str(round(float((len(df_not_superhost[df_not_superhost.review_scores_accuracy==10]))/(float(len(df_not_superhost.review_scores_accuracy)))*100), 2))+\"%\"\n"
   ]
  },
  {
   "cell_type": "markdown",
   "metadata": {},
   "source": [
    "From here, we could see a majority of superhosts achieved the perfect score while less than 50% of non-superhosts achieve the perfect score."
   ]
  },
  {
   "cell_type": "code",
   "execution_count": 70,
   "metadata": {},
   "outputs": [
    {
     "data": {
      "image/png": "[encoded data removed]",
      "text/plain": [
       "<Figure size 720x360 with 1 Axes>"
      ]
     },
     "metadata": {},
     "output_type": "display_data"
    },
    {
     "name": "stdout",
     "output_type": "stream",
     "text": [
      "Superhost Checkin Average Rating: 9.90732696206\n",
      "Percentage of superhost with perfect score: 91.55%\n",
      "------------------------------------\n",
      "\n",
      "Non-superhost Checkin Average Rating: 9.48798941714\n",
      "Percentage of non-superhost with perfect score: 55.35%\n"
     ]
    }
   ],
   "source": [
    "# Create the `matplotlib` figure and get the axis.\n",
    "# Initialize a `matplotlib` figure.\n",
    "fig = plt.figure(figsize=(10,5))\n",
    "\n",
    "# Get the current axis out of the figure.\n",
    "ax = fig.gca()\n",
    "\n",
    "ax = sns.distplot(df_is_superhost.review_scores_checkin, bins=50, color='steelblue', ax=ax)\n",
    "ax = sns.distplot(df_not_superhost.review_scores_checkin, bins=50, color='darkred', ax=ax)\n",
    "plt.title(\"Review Scores Checkin\")\n",
    "plt.xlabel(\"Review Scores Checkin\")\n",
    "plt.ylabel(\"Frequency\")\n",
    "plt.legend(['Superhosts', 'Non-superhost'])\n",
    "plt.show()\n",
    "\n",
    "# explore distribution of checkin score\n",
    "print 'Superhost Checkin Average Rating:', df_is_superhost.review_scores_checkin.mean()\n",
    "print 'Percentage of superhost with perfect score:', str(round(float((len(df_is_superhost[df_is_superhost.review_scores_checkin==10]))/(float(len(df_is_superhost.review_scores_checkin)))*100), 2))+\"%\"\n",
    "\n",
    "print '------------------------------------\\n'\n",
    "print 'Non-superhost Checkin Average Rating:', df_not_superhost.review_scores_checkin.mean()\n",
    "print 'Percentage of non-superhost with perfect score:', str(round(float((len(df_not_superhost[df_not_superhost.review_scores_checkin==10]))/(float(len(df_not_superhost.review_scores_checkin)))*100), 2))+\"%\""
   ]
  },
  {
   "cell_type": "markdown",
   "metadata": {},
   "source": [
    "From here, we could see a majority of superhosts achieved the perfect score while 55% of non-superhosts achieve the perfect score."
   ]
  },
  {
   "cell_type": "code",
   "execution_count": 71,
   "metadata": {},
   "outputs": [
    {
     "data": {
      "image/png": "[encoded data removed]",
      "text/plain": [
       "<Figure size 720x360 with 1 Axes>"
      ]
     },
     "metadata": {},
     "output_type": "display_data"
    },
    {
     "name": "stdout",
     "output_type": "stream",
     "text": [
      "Superhost Cleanliness Average Rating: 9.78533159571\n",
      "Percentage of superhost with perfect score: 80.26%\n",
      "------------------------------------\n",
      "\n",
      "Non-superhost Cleanliness Average Rating: 9.19708971236\n",
      "Percentage of non-superhost with perfect score: 38.65%\n"
     ]
    }
   ],
   "source": [
    "# Create the `matplotlib` figure and get the axis.\n",
    "# Initialize a `matplotlib` figure.\n",
    "fig = plt.figure(figsize=(10,5))\n",
    "\n",
    "# Get the current axis out of the figure.\n",
    "ax = fig.gca()\n",
    "\n",
    "ax = sns.distplot(df_is_superhost.review_scores_cleanliness, bins=50, color='steelblue', ax=ax)\n",
    "ax = sns.distplot(df_not_superhost.review_scores_cleanliness, bins=50, color='darkred', ax=ax)\n",
    "plt.title(\"Review Scores cleanliness\")\n",
    "plt.xlabel(\"Review Scores cleanliness\")\n",
    "plt.ylabel(\"Frequency\")\n",
    "plt.legend(['Superhosts', 'Non-superhost'])\n",
    "plt.show()\n",
    "\n",
    "# explore distribution of Cleanliness score\n",
    "print 'Superhost Cleanliness Average Rating:', df_is_superhost.review_scores_cleanliness.mean()\n",
    "print 'Percentage of superhost with perfect score:', str(round(float((len(df_is_superhost[df_is_superhost.review_scores_cleanliness==10]))/(float(len(df_is_superhost.review_scores_cleanliness)))*100), 2))+\"%\"\n",
    "\n",
    "print '------------------------------------\\n'\n",
    "print 'Non-superhost Cleanliness Average Rating:', df_not_superhost.review_scores_cleanliness.mean()\n",
    "print 'Percentage of non-superhost with perfect score:', str(round(float((len(df_not_superhost[df_not_superhost.review_scores_cleanliness==10]))/(float(len(df_not_superhost.review_scores_cleanliness)))*100), 2))+\"%\""
   ]
  },
  {
   "cell_type": "markdown",
   "metadata": {},
   "source": [
    "From here, we could see more than 80% superhosts achieved the perfect score while less than 50% of non-superhosts achieve the perfect score."
   ]
  },
  {
   "cell_type": "code",
   "execution_count": 72,
   "metadata": {
    "scrolled": true
   },
   "outputs": [
    {
     "data": {
      "image/png": "[encoded data removed]",
      "text/plain": [
       "<Figure size 720x360 with 1 Axes>"
      ]
     },
     "metadata": {},
     "output_type": "display_data"
    },
    {
     "name": "stdout",
     "output_type": "stream",
     "text": [
      "Superhost Communication Average Rating: 9.91529105126\n",
      "Percentage of superhost with perfect score: 92.13%\n",
      "------------------------------------\n",
      "\n",
      "Non-superhost Communication Average Rating: 9.48592446803\n",
      "Percentage of non-superhost with perfect score: 55.43%\n"
     ]
    }
   ],
   "source": [
    "# Create the `matplotlib` figure and get the axis.\n",
    "# Initialize a `matplotlib` figure.\n",
    "fig = plt.figure(figsize=(10,5))\n",
    "\n",
    "# Get the current axis out of the figure.\n",
    "ax = fig.gca()\n",
    "\n",
    "ax = sns.distplot(df_is_superhost.review_scores_communication, bins=50, color='steelblue', ax=ax)\n",
    "ax = sns.distplot(df_not_superhost.review_scores_communication, bins=50, color='darkred', ax=ax)\n",
    "plt.title(\"Review Scores Communication\")\n",
    "plt.xlabel(\"Review Scores Communication\")\n",
    "plt.ylabel(\"Frequency\")\n",
    "plt.legend(['Superhosts', 'Non-superhost'])\n",
    "plt.show()\n",
    "\n",
    "# explore distribution of Communication score\n",
    "print 'Superhost Communication Average Rating:', df_is_superhost.review_scores_communication.mean()\n",
    "print 'Percentage of superhost with perfect score:', str(round(float((len(df_is_superhost[df_is_superhost.review_scores_communication==10]))/(float(len(df_is_superhost.review_scores_communication)))*100), 2))+\"%\"\n",
    "\n",
    "print '------------------------------------\\n'\n",
    "print 'Non-superhost Communication Average Rating:', df_not_superhost.review_scores_communication.mean()\n",
    "print 'Percentage of non-superhost with perfect score:', str(round(float((len(df_not_superhost[df_not_superhost.review_scores_communication==10]))/(float(len(df_not_superhost.review_scores_communication)))*100), 2))+\"%\""
   ]
  },
  {
   "cell_type": "markdown",
   "metadata": {},
   "source": [
    "From here, we could see a majority of superhosts achieved the perfect score while 55% of non-superhosts achieve the perfect score."
   ]
  },
  {
   "cell_type": "code",
   "execution_count": 73,
   "metadata": {
    "scrolled": true
   },
   "outputs": [
    {
     "data": {
      "image/png": "[encoded data removed]",
      "text/plain": [
       "<Figure size 720x360 with 1 Axes>"
      ]
     },
     "metadata": {},
     "output_type": "display_data"
    },
    {
     "name": "stdout",
     "output_type": "stream",
     "text": [
      "Superhost location Average Rating: 9.79163046626\n",
      "Percentage of superhost with perfect score: 80.11%\n",
      "------------------------------------\n",
      "\n",
      "Non-superhost location Average Rating: 9.43091293336\n",
      "Percentage of non-superhost with perfect score: 49.64%\n"
     ]
    }
   ],
   "source": [
    "# Create the `matplotlib` figure and get the axis.\n",
    "# Initialize a `matplotlib` figure.\n",
    "fig = plt.figure(figsize=(10,5))\n",
    "\n",
    "# Get the current axis out of the figure.\n",
    "ax = fig.gca()\n",
    "\n",
    "ax = sns.distplot(df_is_superhost.review_scores_location, bins=50, color='steelblue', ax=ax)\n",
    "ax = sns.distplot(df_not_superhost.review_scores_location, bins=50, color='darkred', ax=ax)\n",
    "plt.title(\"Review Scores Location\")\n",
    "plt.xlabel(\"Review Scores Location\")\n",
    "plt.ylabel(\"Frequency\")\n",
    "plt.legend(['Superhosts', 'Non-superhost'])\n",
    "plt.show()\n",
    "\n",
    "# explore distribution of location score\n",
    "print 'Superhost location Average Rating:', df_is_superhost.review_scores_location.mean()\n",
    "print 'Percentage of superhost with perfect score:', str(round(float((len(df_is_superhost[df_is_superhost.review_scores_location==10]))/(float(len(df_is_superhost.review_scores_location)))*100), 2))+\"%\"\n",
    "\n",
    "print '------------------------------------\\n'\n",
    "print 'Non-superhost location Average Rating:', df_not_superhost.review_scores_location.mean()\n",
    "print 'Percentage of non-superhost with perfect score:', str(round(float((len(df_not_superhost[df_not_superhost.review_scores_location==10]))/(float(len(df_not_superhost.review_scores_location)))*100), 2))+\"%\""
   ]
  },
  {
   "cell_type": "markdown",
   "metadata": {},
   "source": [
    "From here, we could see a majority of superhosts achieved the perfect score while less than 50% of non-superhosts achieve the perfect score."
   ]
  },
  {
   "cell_type": "code",
   "execution_count": 74,
   "metadata": {
    "scrolled": true
   },
   "outputs": [
    {
     "data": {
      "image/png": "[encoded data removed]",
      "text/plain": [
       "<Figure size 720x360 with 1 Axes>"
      ]
     },
     "metadata": {},
     "output_type": "display_data"
    },
    {
     "name": "stdout",
     "output_type": "stream",
     "text": [
      "Superhost Average Value Rating: 9.72357370403\n",
      "Percentage of superhost with perfect score: 73.82%\n",
      "------------------------------------\n",
      "\n",
      "Non-superhost Average Value Rating: 9.23280687886\n",
      "Percentage of non-superhost with perfect score: 36.96%\n"
     ]
    }
   ],
   "source": [
    "# Create the `matplotlib` figure and get the axis.\n",
    "# Initialize a `matplotlib` figure.\n",
    "fig = plt.figure(figsize=(10,5))\n",
    "\n",
    "# Get the current axis out of the figure.\n",
    "ax = fig.gca()\n",
    "\n",
    "ax = sns.distplot(df_is_superhost.review_scores_value, bins=50, color='steelblue', ax=ax)\n",
    "ax = sns.distplot(df_not_superhost.review_scores_value, bins=50, color='darkred', ax=ax)\n",
    "plt.title(\"Review Scores Value\")\n",
    "plt.xlabel(\"Review Scores Value\")\n",
    "plt.ylabel(\"Frequency\")\n",
    "plt.legend(['Superhosts', 'Non-superhost'])\n",
    "plt.show()\n",
    "\n",
    "# explore distribution of value score\n",
    "print 'Superhost Average Value Rating:', df_is_superhost.review_scores_value.mean()\n",
    "print 'Percentage of superhost with perfect score:', str(round(float((len(df_is_superhost[df_is_superhost.review_scores_value==10]))/(float(len(df_is_superhost.review_scores_value)))*100), 2))+\"%\"\n",
    "\n",
    "print '------------------------------------\\n'\n",
    "print 'Non-superhost Average Value Rating:', df_not_superhost.review_scores_value.mean()\n",
    "print 'Percentage of non-superhost with perfect score:', str(round(float((len(df_not_superhost[df_not_superhost.review_scores_value==10]))/(float(len(df_not_superhost.review_scores_value)))*100), 2))+\"%\""
   ]
  },
  {
   "cell_type": "markdown",
   "metadata": {},
   "source": [
    "Compared to the distributions of subscores, the review score value seem more decisive as most of the superhosts achieved perfect score but majority of non-superhost achieve a score of 9 in reviews. From here, we could roughly see Airbnb was put more weight on value provided as one of the main reasons that people choosing Airbnb instead of hotel because Airbnb usually provide \"more space for less money\". For example, Most of the time, when booking an entire place, you are buying yourself more room. Most hotels require you to book a suite or two rooms if you’re traveling with more than two people. That can be pricey!"
   ]
  },
  {
   "cell_type": "markdown",
   "metadata": {},
   "source": [
    "## Pricing"
   ]
  },
  {
   "cell_type": "code",
   "execution_count": 76,
   "metadata": {},
   "outputs": [],
   "source": [
    "df_listing4=df_listing3.drop(df_listing3[df_listing3['price'] > 200].index, axis=0)\n",
    "df_listing4=df_listing4.reset_index(drop=True)"
   ]
  },
  {
   "cell_type": "code",
   "execution_count": 77,
   "metadata": {},
   "outputs": [
    {
     "name": "stdout",
     "output_type": "stream",
     "text": [
      "Average price of property type\n"
     ]
    },
    {
     "data": {
      "text/plain": [
       "property_type\n",
       "Chalet                    144.493976\n",
       "Dome house                143.333333\n",
       "Resort                    141.000000\n",
       "Cottage                   138.435203\n",
       "Aparthotel                132.407407\n",
       "Boutique hotel            131.219697\n",
       "Serviced apartment        131.162447\n",
       "Island                    129.750000\n",
       "Nature lodge              125.303030\n",
       "Heritage hotel (India)    125.000000\n",
       "Name: price, dtype: float64"
      ]
     },
     "execution_count": 77,
     "metadata": {},
     "output_type": "execute_result"
    },
    {
     "data": {
      "image/png": "[encoded data removed]",
      "text/plain": [
       "<Figure size 576x360 with 1 Axes>"
      ]
     },
     "metadata": {},
     "output_type": "display_data"
    }
   ],
   "source": [
    "df_listing4.groupby('property_type')['price'].mean().sort_values(ascending=False).head(10).sort_values(ascending=True).plot(kind='barh', \n",
    "            figsize=(8,5), \n",
    "            fontsize=8)\n",
    "print 'Average price of property type'\n",
    "df_listing4.groupby('property_type')['price'].mean().sort_values(ascending=False).head(10).sort_values(ascending=False)"
   ]
  },
  {
   "cell_type": "code",
   "execution_count": 105,
   "metadata": {
    "scrolled": false
   },
   "outputs": [
    {
     "data": {
      "text/plain": [
       "<matplotlib.axes._subplots.AxesSubplot at 0x8dd220f0>"
      ]
     },
     "execution_count": 105,
     "metadata": {},
     "output_type": "execute_result"
    },
    {
     "data": {
      "image/png": "[encoded data removed]",
      "text/plain": [
       "<Figure size 1080x720 with 1 Axes>"
      ]
     },
     "metadata": {},
     "output_type": "display_data"
    }
   ],
   "source": [
    "# df_listing5= df_listing4.loc[(df_listing4.property_type=='Chalet') | (df_listing4.property_type=='Dome house') | (df_listing4.property_type=='Resort') | (df_listing4.property_type=='Cottage') | (df_listing4.property_type=='Aparthotel') | (df_listing4.property_type=='Boutique hotel') | (df_listing4.property_type=='Serviced apartment') | (df_listing4.property_type=='Island') | (df_listing4.property_type=='Nature lodge') | (df_listing4.property_type=='Heritage hotel (India)') | (df_listing4.property_type=='Apartment') | (df_listing4.property_type=='House')]\n",
    "\n",
    "#Create a figure instance\n",
    "fig = plt.figure(figsize=(15,10))\n",
    "\n",
    "#Create an axes instance\n",
    "ax = fig.gca()\n",
    "\n",
    "sns.boxplot(x=df_listing4['price'], y=df_listing4['property_type'], ax= ax, orient=\"h\", order=['Chalet', 'Dome house', 'Resort', 'Cottage', 'Aparthotel', 'Boutique hotel', 'Serviced apartment', 'Island', 'Nature lodge', 'Heritage hotel (India)', 'Apartment', 'House'])\n",
    "#Proportion of the IQR past the low and high quartiles to extend the plot whiskers.\n",
    "#Points outside this range will be identified as outliers.\n",
    "#Interquartile range using the formula Q3 – Q1 = IQR."
   ]
  },
  {
   "cell_type": "markdown",
   "metadata": {},
   "source": [
    "## Correlationship"
   ]
  },
  {
   "cell_type": "code",
   "execution_count": 79,
   "metadata": {},
   "outputs": [
    {
     "name": "stdout",
     "output_type": "stream",
     "text": [
      "Top 10 positive features relative to target\n"
     ]
    },
    {
     "data": {
      "text/html": [
       "<div>\n",
       "<style scoped>\n",
       "    .dataframe tbody tr th:only-of-type {\n",
       "        vertical-align: middle;\n",
       "    }\n",
       "\n",
       "    .dataframe tbody tr th {\n",
       "        vertical-align: top;\n",
       "    }\n",
       "\n",
       "    .dataframe thead th {\n",
       "        text-align: right;\n",
       "    }\n",
       "</style>\n",
       "<table border=\"1\" class=\"dataframe\">\n",
       "  <thead>\n",
       "    <tr style=\"text-align: right;\">\n",
       "      <th></th>\n",
       "      <th>features</th>\n",
       "      <th>pearson</th>\n",
       "      <th>spearman</th>\n",
       "    </tr>\n",
       "  </thead>\n",
       "  <tbody>\n",
       "    <tr>\n",
       "      <th>1</th>\n",
       "      <td>host_response_rate</td>\n",
       "      <td>0.647435</td>\n",
       "      <td>0.667231</td>\n",
       "    </tr>\n",
       "    <tr>\n",
       "      <th>2</th>\n",
       "      <td>zipcode</td>\n",
       "      <td>0.50738</td>\n",
       "      <td>0.580282</td>\n",
       "    </tr>\n",
       "    <tr>\n",
       "      <th>3</th>\n",
       "      <td>latitude</td>\n",
       "      <td>0.428022</td>\n",
       "      <td>0.482312</td>\n",
       "    </tr>\n",
       "    <tr>\n",
       "      <th>4</th>\n",
       "      <td>longitude</td>\n",
       "      <td>0.35273</td>\n",
       "      <td>0.458255</td>\n",
       "    </tr>\n",
       "    <tr>\n",
       "      <th>5</th>\n",
       "      <td>accommodates</td>\n",
       "      <td>0.198586</td>\n",
       "      <td>0.199098</td>\n",
       "    </tr>\n",
       "    <tr>\n",
       "      <th>6</th>\n",
       "      <td>bathrooms</td>\n",
       "      <td>0.141767</td>\n",
       "      <td>0.162393</td>\n",
       "    </tr>\n",
       "    <tr>\n",
       "      <th>7</th>\n",
       "      <td>bedrooms</td>\n",
       "      <td>0.127302</td>\n",
       "      <td>0.158264</td>\n",
       "    </tr>\n",
       "    <tr>\n",
       "      <th>8</th>\n",
       "      <td>beds</td>\n",
       "      <td>0.123854</td>\n",
       "      <td>0.133725</td>\n",
       "    </tr>\n",
       "    <tr>\n",
       "      <th>9</th>\n",
       "      <td>price</td>\n",
       "      <td>0.0850071</td>\n",
       "      <td>0.123049</td>\n",
       "    </tr>\n",
       "    <tr>\n",
       "      <th>10</th>\n",
       "      <td>minimum_nights</td>\n",
       "      <td>0.0743118</td>\n",
       "      <td>0.10914</td>\n",
       "    </tr>\n",
       "  </tbody>\n",
       "</table>\n",
       "</div>"
      ],
      "text/plain": [
       "              features    pearson  spearman\n",
       "1   host_response_rate   0.647435  0.667231\n",
       "2              zipcode    0.50738  0.580282\n",
       "3             latitude   0.428022  0.482312\n",
       "4            longitude    0.35273  0.458255\n",
       "5         accommodates   0.198586  0.199098\n",
       "6            bathrooms   0.141767  0.162393\n",
       "7             bedrooms   0.127302  0.158264\n",
       "8                 beds   0.123854  0.133725\n",
       "9                price  0.0850071  0.123049\n",
       "10      minimum_nights  0.0743118   0.10914"
      ]
     },
     "execution_count": 79,
     "metadata": {},
     "output_type": "execute_result"
    }
   ],
   "source": [
    "# Find most important features relative to target\n",
    "print(\"Top 10 positive features relative to target\")\n",
    "corr_p = df_listing_final.corr(method='pearson')\n",
    "corr_s = df_listing_final.corr(method='spearman')\n",
    "corr_p.sort_values([\"price\"], ascending = False, inplace = True)\n",
    "corr_s.sort_values([\"price\"], ascending = False, inplace = True)\n",
    "# print(corr.price[1:11])\n",
    "corr = pd.DataFrame([df_listing_final.columns, list(corr_p.price), list(corr_s.price)], \n",
    "                     index=['features', 'pearson', 'spearman']).T.sort_values('pearson', ascending=False)\n",
    "\n",
    "corr[1:11]"
   ]
  },
  {
   "cell_type": "code",
   "execution_count": 80,
   "metadata": {},
   "outputs": [
    {
     "name": "stdout",
     "output_type": "stream",
     "text": [
      "Top negative 10 features relative to target\n"
     ]
    },
    {
     "data": {
      "text/html": [
       "<div>\n",
       "<style scoped>\n",
       "    .dataframe tbody tr th:only-of-type {\n",
       "        vertical-align: middle;\n",
       "    }\n",
       "\n",
       "    .dataframe tbody tr th {\n",
       "        vertical-align: top;\n",
       "    }\n",
       "\n",
       "    .dataframe thead th {\n",
       "        text-align: right;\n",
       "    }\n",
       "</style>\n",
       "<table border=\"1\" class=\"dataframe\">\n",
       "  <thead>\n",
       "    <tr style=\"text-align: right;\">\n",
       "      <th></th>\n",
       "      <th>features</th>\n",
       "      <th>pearson</th>\n",
       "      <th>spearman</th>\n",
       "    </tr>\n",
       "  </thead>\n",
       "  <tbody>\n",
       "    <tr>\n",
       "      <th>83</th>\n",
       "      <td>instant_bookable_t</td>\n",
       "      <td>-0.0382449</td>\n",
       "      <td>-0.0423754</td>\n",
       "    </tr>\n",
       "    <tr>\n",
       "      <th>84</th>\n",
       "      <td>cancellation_policy_flexible</td>\n",
       "      <td>-0.0486259</td>\n",
       "      <td>-0.0501147</td>\n",
       "    </tr>\n",
       "    <tr>\n",
       "      <th>85</th>\n",
       "      <td>cancellation_policy_moderate</td>\n",
       "      <td>-0.0656585</td>\n",
       "      <td>-0.0671296</td>\n",
       "    </tr>\n",
       "    <tr>\n",
       "      <th>86</th>\n",
       "      <td>cancellation_policy_strict_14_with_grace_period</td>\n",
       "      <td>-0.0682615</td>\n",
       "      <td>-0.072936</td>\n",
       "    </tr>\n",
       "    <tr>\n",
       "      <th>87</th>\n",
       "      <td>cancellation_policy_super_strict_30</td>\n",
       "      <td>-0.15563</td>\n",
       "      <td>-0.16947</td>\n",
       "    </tr>\n",
       "    <tr>\n",
       "      <th>88</th>\n",
       "      <td>cancellation_policy_super_strict_60</td>\n",
       "      <td>-0.17812</td>\n",
       "      <td>-0.183314</td>\n",
       "    </tr>\n",
       "    <tr>\n",
       "      <th>89</th>\n",
       "      <td>require_guest_profile_picture_f</td>\n",
       "      <td>-0.221203</td>\n",
       "      <td>-0.225087</td>\n",
       "    </tr>\n",
       "    <tr>\n",
       "      <th>90</th>\n",
       "      <td>require_guest_profile_picture_t</td>\n",
       "      <td>-0.600228</td>\n",
       "      <td>-0.618651</td>\n",
       "    </tr>\n",
       "    <tr>\n",
       "      <th>91</th>\n",
       "      <td>require_guest_phone_verification_f</td>\n",
       "      <td>NaN</td>\n",
       "      <td>NaN</td>\n",
       "    </tr>\n",
       "    <tr>\n",
       "      <th>92</th>\n",
       "      <td>require_guest_phone_verification_t</td>\n",
       "      <td>NaN</td>\n",
       "      <td>NaN</td>\n",
       "    </tr>\n",
       "  </tbody>\n",
       "</table>\n",
       "</div>"
      ],
      "text/plain": [
       "                                           features    pearson   spearman\n",
       "83                               instant_bookable_t -0.0382449 -0.0423754\n",
       "84                     cancellation_policy_flexible -0.0486259 -0.0501147\n",
       "85                     cancellation_policy_moderate -0.0656585 -0.0671296\n",
       "86  cancellation_policy_strict_14_with_grace_period -0.0682615  -0.072936\n",
       "87              cancellation_policy_super_strict_30   -0.15563   -0.16947\n",
       "88              cancellation_policy_super_strict_60   -0.17812  -0.183314\n",
       "89                  require_guest_profile_picture_f  -0.221203  -0.225087\n",
       "90                  require_guest_profile_picture_t  -0.600228  -0.618651\n",
       "91               require_guest_phone_verification_f        NaN        NaN\n",
       "92               require_guest_phone_verification_t        NaN        NaN"
      ]
     },
     "execution_count": 80,
     "metadata": {},
     "output_type": "execute_result"
    }
   ],
   "source": [
    "# Find top 10 negative features relative to target\n",
    "print(\"Top negative 10 features relative to target\")\n",
    "corr.tail(10)"
   ]
  },
  {
   "cell_type": "code",
   "execution_count": 81,
   "metadata": {},
   "outputs": [
    {
     "data": {
      "text/html": [
       "<div>\n",
       "<style scoped>\n",
       "    .dataframe tbody tr th:only-of-type {\n",
       "        vertical-align: middle;\n",
       "    }\n",
       "\n",
       "    .dataframe tbody tr th {\n",
       "        vertical-align: top;\n",
       "    }\n",
       "\n",
       "    .dataframe thead th {\n",
       "        text-align: right;\n",
       "    }\n",
       "</style>\n",
       "<table border=\"1\" class=\"dataframe\">\n",
       "  <thead>\n",
       "    <tr style=\"text-align: right;\">\n",
       "      <th></th>\n",
       "      <th>host_response_time</th>\n",
       "      <th>host_response_rate</th>\n",
       "      <th>zipcode</th>\n",
       "      <th>latitude</th>\n",
       "      <th>longitude</th>\n",
       "      <th>accommodates</th>\n",
       "      <th>bathrooms</th>\n",
       "      <th>bedrooms</th>\n",
       "      <th>beds</th>\n",
       "      <th>price</th>\n",
       "      <th>...</th>\n",
       "      <th>instant_bookable_t</th>\n",
       "      <th>cancellation_policy_flexible</th>\n",
       "      <th>cancellation_policy_moderate</th>\n",
       "      <th>cancellation_policy_strict_14_with_grace_period</th>\n",
       "      <th>cancellation_policy_super_strict_30</th>\n",
       "      <th>cancellation_policy_super_strict_60</th>\n",
       "      <th>require_guest_profile_picture_f</th>\n",
       "      <th>require_guest_profile_picture_t</th>\n",
       "      <th>require_guest_phone_verification_f</th>\n",
       "      <th>require_guest_phone_verification_t</th>\n",
       "    </tr>\n",
       "  </thead>\n",
       "  <tbody>\n",
       "    <tr>\n",
       "      <th>0</th>\n",
       "      <td>4</td>\n",
       "      <td>1.00</td>\n",
       "      <td>5371</td>\n",
       "      <td>-34.509717</td>\n",
       "      <td>138.816127</td>\n",
       "      <td>2</td>\n",
       "      <td>1</td>\n",
       "      <td>1</td>\n",
       "      <td>1</td>\n",
       "      <td>91.0</td>\n",
       "      <td>...</td>\n",
       "      <td>0</td>\n",
       "      <td>0</td>\n",
       "      <td>0</td>\n",
       "      <td>1</td>\n",
       "      <td>0</td>\n",
       "      <td>0</td>\n",
       "      <td>1</td>\n",
       "      <td>0</td>\n",
       "      <td>1</td>\n",
       "      <td>0</td>\n",
       "    </tr>\n",
       "    <tr>\n",
       "      <th>1</th>\n",
       "      <td>4</td>\n",
       "      <td>1.00</td>\n",
       "      <td>5118</td>\n",
       "      <td>-34.605631</td>\n",
       "      <td>138.648229</td>\n",
       "      <td>3</td>\n",
       "      <td>1</td>\n",
       "      <td>1</td>\n",
       "      <td>2</td>\n",
       "      <td>91.0</td>\n",
       "      <td>...</td>\n",
       "      <td>0</td>\n",
       "      <td>0</td>\n",
       "      <td>1</td>\n",
       "      <td>0</td>\n",
       "      <td>0</td>\n",
       "      <td>0</td>\n",
       "      <td>1</td>\n",
       "      <td>0</td>\n",
       "      <td>1</td>\n",
       "      <td>0</td>\n",
       "    </tr>\n",
       "    <tr>\n",
       "      <th>2</th>\n",
       "      <td>4</td>\n",
       "      <td>1.00</td>\n",
       "      <td>5355</td>\n",
       "      <td>-34.488111</td>\n",
       "      <td>138.924490</td>\n",
       "      <td>16</td>\n",
       "      <td>8</td>\n",
       "      <td>8</td>\n",
       "      <td>1</td>\n",
       "      <td>140.0</td>\n",
       "      <td>...</td>\n",
       "      <td>0</td>\n",
       "      <td>0</td>\n",
       "      <td>0</td>\n",
       "      <td>1</td>\n",
       "      <td>0</td>\n",
       "      <td>0</td>\n",
       "      <td>1</td>\n",
       "      <td>0</td>\n",
       "      <td>1</td>\n",
       "      <td>0</td>\n",
       "    </tr>\n",
       "    <tr>\n",
       "      <th>3</th>\n",
       "      <td>3</td>\n",
       "      <td>0.95</td>\n",
       "      <td>5353</td>\n",
       "      <td>-34.499428</td>\n",
       "      <td>139.044344</td>\n",
       "      <td>2</td>\n",
       "      <td>1</td>\n",
       "      <td>1</td>\n",
       "      <td>1</td>\n",
       "      <td>85.0</td>\n",
       "      <td>...</td>\n",
       "      <td>0</td>\n",
       "      <td>1</td>\n",
       "      <td>0</td>\n",
       "      <td>0</td>\n",
       "      <td>0</td>\n",
       "      <td>0</td>\n",
       "      <td>1</td>\n",
       "      <td>0</td>\n",
       "      <td>1</td>\n",
       "      <td>0</td>\n",
       "    </tr>\n",
       "    <tr>\n",
       "      <th>4</th>\n",
       "      <td>2</td>\n",
       "      <td>0.50</td>\n",
       "      <td>5355</td>\n",
       "      <td>-34.472304</td>\n",
       "      <td>139.009037</td>\n",
       "      <td>2</td>\n",
       "      <td>1</td>\n",
       "      <td>1</td>\n",
       "      <td>1</td>\n",
       "      <td>65.0</td>\n",
       "      <td>...</td>\n",
       "      <td>0</td>\n",
       "      <td>0</td>\n",
       "      <td>1</td>\n",
       "      <td>0</td>\n",
       "      <td>0</td>\n",
       "      <td>0</td>\n",
       "      <td>1</td>\n",
       "      <td>0</td>\n",
       "      <td>1</td>\n",
       "      <td>0</td>\n",
       "    </tr>\n",
       "  </tbody>\n",
       "</table>\n",
       "<p>5 rows × 93 columns</p>\n",
       "</div>"
      ],
      "text/plain": [
       "   host_response_time  host_response_rate  zipcode   latitude   longitude  \\\n",
       "0                   4                1.00     5371 -34.509717  138.816127   \n",
       "1                   4                1.00     5118 -34.605631  138.648229   \n",
       "2                   4                1.00     5355 -34.488111  138.924490   \n",
       "3                   3                0.95     5353 -34.499428  139.044344   \n",
       "4                   2                0.50     5355 -34.472304  139.009037   \n",
       "\n",
       "   accommodates  bathrooms  bedrooms  beds  price  \\\n",
       "0             2          1         1     1   91.0   \n",
       "1             3          1         1     2   91.0   \n",
       "2            16          8         8     1  140.0   \n",
       "3             2          1         1     1   85.0   \n",
       "4             2          1         1     1   65.0   \n",
       "\n",
       "                  ...                  instant_bookable_t  \\\n",
       "0                 ...                                   0   \n",
       "1                 ...                                   0   \n",
       "2                 ...                                   0   \n",
       "3                 ...                                   0   \n",
       "4                 ...                                   0   \n",
       "\n",
       "   cancellation_policy_flexible  cancellation_policy_moderate  \\\n",
       "0                             0                             0   \n",
       "1                             0                             1   \n",
       "2                             0                             0   \n",
       "3                             1                             0   \n",
       "4                             0                             1   \n",
       "\n",
       "   cancellation_policy_strict_14_with_grace_period  \\\n",
       "0                                                1   \n",
       "1                                                0   \n",
       "2                                                1   \n",
       "3                                                0   \n",
       "4                                                0   \n",
       "\n",
       "   cancellation_policy_super_strict_30  cancellation_policy_super_strict_60  \\\n",
       "0                                    0                                    0   \n",
       "1                                    0                                    0   \n",
       "2                                    0                                    0   \n",
       "3                                    0                                    0   \n",
       "4                                    0                                    0   \n",
       "\n",
       "   require_guest_profile_picture_f  require_guest_profile_picture_t  \\\n",
       "0                                1                                0   \n",
       "1                                1                                0   \n",
       "2                                1                                0   \n",
       "3                                1                                0   \n",
       "4                                1                                0   \n",
       "\n",
       "   require_guest_phone_verification_f  require_guest_phone_verification_t  \n",
       "0                                   1                                   0  \n",
       "1                                   1                                   0  \n",
       "2                                   1                                   0  \n",
       "3                                   1                                   0  \n",
       "4                                   1                                   0  \n",
       "\n",
       "[5 rows x 93 columns]"
      ]
     },
     "execution_count": 81,
     "metadata": {},
     "output_type": "execute_result"
    }
   ],
   "source": [
    "df_listing_final.head()"
   ]
  },
  {
   "cell_type": "code",
   "execution_count": 82,
   "metadata": {},
   "outputs": [
    {
     "data": {
      "text/plain": [
       "(54632, 93)"
      ]
     },
     "execution_count": 82,
     "metadata": {},
     "output_type": "execute_result"
    }
   ],
   "source": [
    "df_listing_final.shape"
   ]
  },
  {
   "cell_type": "markdown",
   "metadata": {},
   "source": [
    "## Convert to CSV file"
   ]
  },
  {
   "cell_type": "code",
   "execution_count": 83,
   "metadata": {},
   "outputs": [],
   "source": [
    "df_listing_final.to_csv('df_listing_final.csv', encoding='utf-8')"
   ]
  },
  {
   "cell_type": "markdown",
   "metadata": {},
   "source": [
    "## Review dataset"
   ]
  },
  {
   "cell_type": "code",
   "execution_count": 84,
   "metadata": {},
   "outputs": [],
   "source": [
    "df_listing_NLP=df_listing[['id', 'host_id', 'summary', 'description', 'neighborhood_overview', 'notes', 'house_rules', 'host_about', 'transit', 'host_is_superhost', 'access', 'amenities', 'interaction', 'space', 'review_scores_accuracy', 'review_scores_cleanliness', 'review_scores_checkin', 'review_scores_communication', 'review_scores_location', 'review_scores_rating']]"
   ]
  },
  {
   "cell_type": "code",
   "execution_count": 85,
   "metadata": {},
   "outputs": [],
   "source": [
    "#read the review datasets\n",
    "review_BR = pd.read_csv('C:/Users/ivans/Desktop/Cyberdata/Airbnb/Barossa/reviews.csv')\n",
    "review_MB = pd.read_csv('C:/Users/ivans/Desktop/Cyberdata/Airbnb/Melbourne/reviews.csv')\n",
    "review_NR = pd.read_csv('C:/Users/ivans/Desktop/Cyberdata/Airbnb/NorthernRivers/reviews.csv')\n",
    "review_SN = pd.read_csv('C:/Users/ivans/Desktop/Cyberdata/Airbnb/Sydney/reviews.csv')\n",
    "review_TM = pd.read_csv('C:/Users/ivans/Desktop/Cyberdata/Airbnb/Tasmania/reviews.csv')\n",
    "review_WA = pd.read_csv('C:/Users/ivans/Desktop/Cyberdata/Airbnb/WesternAustralia/reviews.csv')"
   ]
  },
  {
   "cell_type": "code",
   "execution_count": 86,
   "metadata": {},
   "outputs": [
    {
     "name": "stdout",
     "output_type": "stream",
     "text": [
      "(4300, 6)\n",
      "(418788, 6)\n",
      "(97847, 6)\n",
      "(393726, 6)\n",
      "(163421, 6)\n",
      "(197688, 6)\n"
     ]
    }
   ],
   "source": [
    "#see the shape of the review datasets\n",
    "print(review_BR.shape)\n",
    "print(review_MB.shape)\n",
    "print(review_NR.shape)\n",
    "print(review_SN.shape)\n",
    "print(review_TM.shape)\n",
    "print(review_WA.shape)"
   ]
  },
  {
   "cell_type": "code",
   "execution_count": 87,
   "metadata": {},
   "outputs": [
    {
     "data": {
      "text/html": [
       "<div>\n",
       "<style scoped>\n",
       "    .dataframe tbody tr th:only-of-type {\n",
       "        vertical-align: middle;\n",
       "    }\n",
       "\n",
       "    .dataframe tbody tr th {\n",
       "        vertical-align: top;\n",
       "    }\n",
       "\n",
       "    .dataframe thead th {\n",
       "        text-align: right;\n",
       "    }\n",
       "</style>\n",
       "<table border=\"1\" class=\"dataframe\">\n",
       "  <thead>\n",
       "    <tr style=\"text-align: right;\">\n",
       "      <th></th>\n",
       "      <th>id</th>\n",
       "      <th>customers_id</th>\n",
       "      <th>date</th>\n",
       "      <th>reviewer_id</th>\n",
       "      <th>reviewer_name</th>\n",
       "      <th>comments</th>\n",
       "    </tr>\n",
       "  </thead>\n",
       "  <tbody>\n",
       "    <tr>\n",
       "      <th>0</th>\n",
       "      <td>1125097</td>\n",
       "      <td>7269778</td>\n",
       "      <td>2013-09-13</td>\n",
       "      <td>3053083</td>\n",
       "      <td>Stephen</td>\n",
       "      <td>While I didnt have the pleasure of meeting Hea...</td>\n",
       "    </tr>\n",
       "    <tr>\n",
       "      <th>1</th>\n",
       "      <td>1125097</td>\n",
       "      <td>10081118</td>\n",
       "      <td>2014-01-29</td>\n",
       "      <td>1898281</td>\n",
       "      <td>Rus</td>\n",
       "      <td>Great host and amazing accommodation!  \\r\\n\\r\\...</td>\n",
       "    </tr>\n",
       "    <tr>\n",
       "      <th>2</th>\n",
       "      <td>1125097</td>\n",
       "      <td>10335170</td>\n",
       "      <td>2014-02-14</td>\n",
       "      <td>2725224</td>\n",
       "      <td>Teresa</td>\n",
       "      <td>A lovely and convenient location, surrounded b...</td>\n",
       "    </tr>\n",
       "    <tr>\n",
       "      <th>3</th>\n",
       "      <td>1125097</td>\n",
       "      <td>10881952</td>\n",
       "      <td>2014-03-11</td>\n",
       "      <td>8982612</td>\n",
       "      <td>Kathy</td>\n",
       "      <td>A wonderful experience from start to finish . ...</td>\n",
       "    </tr>\n",
       "    <tr>\n",
       "      <th>4</th>\n",
       "      <td>1125097</td>\n",
       "      <td>11872081</td>\n",
       "      <td>2014-04-17</td>\n",
       "      <td>10977428</td>\n",
       "      <td>Phillip</td>\n",
       "      <td>The coach house is in a lovely location. We we...</td>\n",
       "    </tr>\n",
       "  </tbody>\n",
       "</table>\n",
       "</div>"
      ],
      "text/plain": [
       "        id  customers_id        date  reviewer_id reviewer_name  \\\n",
       "0  1125097       7269778  2013-09-13      3053083       Stephen   \n",
       "1  1125097      10081118  2014-01-29      1898281           Rus   \n",
       "2  1125097      10335170  2014-02-14      2725224        Teresa   \n",
       "3  1125097      10881952  2014-03-11      8982612         Kathy   \n",
       "4  1125097      11872081  2014-04-17     10977428       Phillip   \n",
       "\n",
       "                                            comments  \n",
       "0  While I didnt have the pleasure of meeting Hea...  \n",
       "1  Great host and amazing accommodation!  \\r\\n\\r\\...  \n",
       "2  A lovely and convenient location, surrounded b...  \n",
       "3  A wonderful experience from start to finish . ...  \n",
       "4  The coach house is in a lovely location. We we...  "
      ]
     },
     "execution_count": 87,
     "metadata": {},
     "output_type": "execute_result"
    }
   ],
   "source": [
    "# conbining overall datasets\n",
    "frames_review= [review_BR, review_MB, review_NR, review_SN, review_TM, review_WA]\n",
    "df_review= pd.concat(frames_review)\n",
    "df_review.reset_index()\n",
    "# rename the columns for futher combination\n",
    "rename= ['id', 'customers_id', 'date', 'reviewer_id', 'reviewer_name', 'comments']\n",
    "df_review.columns=rename\n",
    "df_review.head()"
   ]
  },
  {
   "cell_type": "code",
   "execution_count": 88,
   "metadata": {},
   "outputs": [
    {
     "name": "stdout",
     "output_type": "stream",
     "text": [
      "(1275770, 6)\n",
      "id 57283\n",
      "customers_id 1275751\n",
      "date 2708\n",
      "reviewer_id 894408\n",
      "reviewer_name 109794\n",
      "comments 1233125\n"
     ]
    }
   ],
   "source": [
    "# see the shape of review dataset\n",
    "print df_review.shape\n",
    "\n",
    "#Check the number of the unique values in the datasets\n",
    "for items in df_review:\n",
    "    print items, df_review[items].nunique()"
   ]
  },
  {
   "cell_type": "code",
   "execution_count": 89,
   "metadata": {},
   "outputs": [
    {
     "data": {
      "text/plain": [
       "(1275770, 25)"
      ]
     },
     "execution_count": 89,
     "metadata": {},
     "output_type": "execute_result"
    }
   ],
   "source": [
    "# Merge the final dataset with review dataset\n",
    "df_listingwr=pd.merge(df_listing_NLP, df_review, on='id')\n",
    "df_listingwr.shape"
   ]
  },
  {
   "cell_type": "code",
   "execution_count": 90,
   "metadata": {},
   "outputs": [
    {
     "name": "stdout",
     "output_type": "stream",
     "text": [
      "id 57283\n",
      "host_id 41196\n",
      "summary 54686\n",
      "description 56357\n",
      "neighborhood_overview 34855\n",
      "notes 26552\n",
      "house_rules 34085\n",
      "host_about 23289\n",
      "transit 35691\n",
      "host_is_superhost 2\n",
      "access 35609\n",
      "amenities 55596\n",
      "interaction 32792\n",
      "space 43048\n",
      "review_scores_accuracy 9\n",
      "review_scores_cleanliness 9\n",
      "review_scores_checkin 9\n",
      "review_scores_communication 9\n",
      "review_scores_location 8\n",
      "review_scores_rating 57\n",
      "customers_id 1275751\n",
      "date 2708\n",
      "reviewer_id 894408\n",
      "reviewer_name 109794\n",
      "comments 1233125\n"
     ]
    }
   ],
   "source": [
    "# Check the number of the unique value for the dataset, df_listingwr\n",
    "for items in df_listingwr:\n",
    "    print items, df_listingwr[items].nunique()"
   ]
  },
  {
   "cell_type": "code",
   "execution_count": 91,
   "metadata": {},
   "outputs": [
    {
     "data": {
      "text/plain": [
       "summary                         20107\n",
       "description                       161\n",
       "neighborhood_overview          250127\n",
       "notes                          401374\n",
       "house_rules                    231502\n",
       "host_about                     320583\n",
       "transit                        223803\n",
       "host_is_superhost                1356\n",
       "access                         205883\n",
       "interaction                    233396\n",
       "space                          127263\n",
       "review_scores_accuracy           2094\n",
       "review_scores_cleanliness        2056\n",
       "review_scores_checkin            2160\n",
       "review_scores_communication      2072\n",
       "review_scores_location           2166\n",
       "review_scores_rating             1999\n",
       "reviewer_name                       1\n",
       "comments                          909\n",
       "dtype: int64"
      ]
     },
     "execution_count": 91,
     "metadata": {},
     "output_type": "execute_result"
    }
   ],
   "source": [
    "# Check the number of null of the datasets \n",
    "df_listingwr.isna().sum()[df_listingwr.isna().sum()>0]"
   ]
  },
  {
   "cell_type": "code",
   "execution_count": 92,
   "metadata": {},
   "outputs": [],
   "source": [
    "#fill the na with 'None'\n",
    "df_listingwr.fillna('None', inplace=True)"
   ]
  },
  {
   "cell_type": "code",
   "execution_count": 93,
   "metadata": {},
   "outputs": [],
   "source": [
    "df_listingwr.to_csv('df_listingwr.csv', encoding='utf-8')"
   ]
  }
 ],
 "metadata": {
  "kernelspec": {
   "display_name": "Python 2",
   "language": "python",
   "name": "python2"
  },
  "language_info": {
   "codemirror_mode": {
    "name": "ipython",
    "version": 2
   },
   "file_extension": ".py",
   "mimetype": "text/x-python",
   "name": "python",
   "nbconvert_exporter": "python",
   "pygments_lexer": "ipython2",
   "version": "2.7.14"
  }
 },
 "nbformat": 4,
 "nbformat_minor": 2
}
